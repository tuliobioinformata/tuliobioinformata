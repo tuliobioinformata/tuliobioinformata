{
  "nbformat": 4,
  "nbformat_minor": 0,
  "metadata": {
    "colab": {
      "name": "ebac-churn-telecom.ipynb",
      "provenance": [],
      "collapsed_sections": [],
      "include_colab_link": true
    },
    "kernelspec": {
      "name": "python3",
      "display_name": "Python 3"
    },
    "language_info": {
      "name": "python"
    }
  },
  "cells": [
    {
      "cell_type": "markdown",
      "metadata": {
        "id": "view-in-github",
        "colab_type": "text"
      },
      "source": [
        "<a href=\"https://colab.research.google.com/github/tuliobioinformata/tuliobioinformata/blob/main/ebac_churn_telecom.ipynb\" target=\"_parent\"><img src=\"https://colab.research.google.com/assets/colab-badge.svg\" alt=\"Open In Colab\"/></a>"
      ]
    },
    {
      "cell_type": "markdown",
      "source": [
        "# Detecção de Churn em uma empresa de Telecomunucações\n",
        "\n",
        "A empresa XPTO-Telecom contratou você para ajudá-la com a detecção de clientes propensos a abandono de relacionamento (churn).\n",
        "\n",
        "Ela forneceu uma base de dados de clientes, com informações separadas em três grupos:\n",
        "\n",
        "* 1 - Dados demográficos\n",
        "\n",
        "* 2 - Dados de serviços\n",
        "\n",
        "* 3 - Dados de pagamento\n",
        "\n",
        "Estes dados estão detalhados logo abaixo no dicionário de dados.\n",
        "\n",
        "Seu objetivo é criar um modelo (classificador binário) para detecção de churn.\n",
        "\n",
        "## Dicionário de dados\n",
        "\n",
        "| **Variável**     | **Tipo** | **Definição**                                          | **Observação**                      |\n",
        "|------------------|----------|--------------------------------------------------------|-------------------------------------|\n",
        "| customerID       | string   | Código identificador do cliente                        |                                     |\n",
        "| gender           | string   | Se o cliente é do sexo masculino ou feminino           | Female, Male                        |\n",
        "| SeniorCitizen    | int      | Se o cliente é idoso                                   | 1: sim, 0: não                      |\n",
        "| Partner          | string   | Se o cliente é um parceiro                             | Yes, No                             |\n",
        "| Dependents       | string   | Se o cliente tem dependentes ou não                    | Yes, No                             |\n",
        "| tenure           | int      | Número de meses que o cliente permaneceu na companhia  |                                     |\n",
        "| PhoneService     | string   | Se o cliente contratou serviço de telefonia            | Yes, No                             |\n",
        "| MultipleLines    | string   | Se o cliente tem multiplas linhs telefônicas           | Yes, No, No phone service           | \n",
        "| InternetService  | string   | Provedor de internet contratado pelo cliente           | DSL, Fiber optic, No                |\n",
        "| OnlineSecurity   | string   | Se o cliente contratou o serviço de segurança online   | Yes, No, No internet service        |\n",
        "| OnlineBackup     | string   | Se o cliente contratou o serviço de backup             | Yes, No, No internet service        |\n",
        "| DeviceProtection | string   | Se o cliente contratou o seguro do dispositivo         | Yes, No, No internet service        |\n",
        "| TechSupport      | string   | Se o cliente contratou o serviço de suporte            | Yes, No, No internet service        |\n",
        "| StreamingTV      | string   | Se o cliente contratou o serviço de streaming de TV    | Yes, No, No internet service        |\n",
        "| StreamingMovies  | string   | Se o cliente contratou o serviço de streaming de filmes| Yes, No, No internet service        |\n",
        "| Contract         | string   | Tipo de plano contratado                               | Month-to-month, Two year, One year  |\n",
        "| PaperlessBilling | string   | Se o cliente abriu mão de fatura impressa              | Yes, No                             |\n",
        "| PaymentMethod    | string   | Meio de pagamento                                      | Electronic check, Mailed check, Bank transfer (automatic), Credit card (automatic)|\n",
        "| MonthlyCharges   | float    | Cobrança mensal                                        |                                     |\n",
        "| TotalCharges     | float    | Cobrança total                                         |                                     |\n",
        "| Churn            | string   | Se o cliente abandonou o relacionamento                | Yes, No                "
      ],
      "metadata": {
        "id": "VQXloTGLlrE0"
      }
    },
    {
      "cell_type": "code",
      "execution_count": null,
      "metadata": {
        "id": "pPEVAn8Ftxk5"
      },
      "outputs": [],
      "source": [
        "import pandas as pd\n",
        "import numpy as np\n",
        "import matplotlib.pyplot as plt\n",
        "import seaborn as sns"
      ]
    },
    {
      "cell_type": "markdown",
      "source": [
        "Quando iniciar este notebook pela primeira vez, descomente (remova o #) e execute os dois blocos abaixo. Depois comente novamente (coloque de volta o #)."
      ],
      "metadata": {
        "id": "083Xg_BvASa9"
      }
    },
    {
      "cell_type": "code",
      "source": [
        "# pip install category_encoders"
      ],
      "metadata": {
        "id": "YM8EvE1vAeOm",
        "colab": {
          "base_uri": "https://localhost:8080/"
        },
        "outputId": "700efbc0-bae9-4a4b-c43c-912f3e41259c"
      },
      "execution_count": null,
      "outputs": [
        {
          "output_type": "stream",
          "name": "stdout",
          "text": [
            "Collecting category_encoders\n",
            "  Downloading category_encoders-2.4.1-py2.py3-none-any.whl (80 kB)\n",
            "\u001b[?25l\r\u001b[K     |████                            | 10 kB 14.8 MB/s eta 0:00:01\r\u001b[K     |████████                        | 20 kB 17.8 MB/s eta 0:00:01\r\u001b[K     |████████████▏                   | 30 kB 7.8 MB/s eta 0:00:01\r\u001b[K     |████████████████▏               | 40 kB 9.5 MB/s eta 0:00:01\r\u001b[K     |████████████████████▎           | 51 kB 5.8 MB/s eta 0:00:01\r\u001b[K     |████████████████████████▎       | 61 kB 6.8 MB/s eta 0:00:01\r\u001b[K     |████████████████████████████▍   | 71 kB 7.5 MB/s eta 0:00:01\r\u001b[K     |████████████████████████████████| 80 kB 3.6 MB/s \n",
            "\u001b[?25hRequirement already satisfied: numpy>=1.14.0 in /usr/local/lib/python3.7/dist-packages (from category_encoders) (1.21.6)\n",
            "Requirement already satisfied: statsmodels>=0.9.0 in /usr/local/lib/python3.7/dist-packages (from category_encoders) (0.10.2)\n",
            "Requirement already satisfied: pandas>=0.21.1 in /usr/local/lib/python3.7/dist-packages (from category_encoders) (1.3.5)\n",
            "Requirement already satisfied: scikit-learn>=0.20.0 in /usr/local/lib/python3.7/dist-packages (from category_encoders) (1.0.2)\n",
            "Requirement already satisfied: scipy>=1.0.0 in /usr/local/lib/python3.7/dist-packages (from category_encoders) (1.4.1)\n",
            "Requirement already satisfied: patsy>=0.5.1 in /usr/local/lib/python3.7/dist-packages (from category_encoders) (0.5.2)\n",
            "Requirement already satisfied: python-dateutil>=2.7.3 in /usr/local/lib/python3.7/dist-packages (from pandas>=0.21.1->category_encoders) (2.8.2)\n",
            "Requirement already satisfied: pytz>=2017.3 in /usr/local/lib/python3.7/dist-packages (from pandas>=0.21.1->category_encoders) (2022.1)\n",
            "Requirement already satisfied: six in /usr/local/lib/python3.7/dist-packages (from patsy>=0.5.1->category_encoders) (1.15.0)\n",
            "Requirement already satisfied: threadpoolctl>=2.0.0 in /usr/local/lib/python3.7/dist-packages (from scikit-learn>=0.20.0->category_encoders) (3.1.0)\n",
            "Requirement already satisfied: joblib>=0.11 in /usr/local/lib/python3.7/dist-packages (from scikit-learn>=0.20.0->category_encoders) (1.1.0)\n",
            "Installing collected packages: category-encoders\n",
            "Successfully installed category-encoders-2.4.1\n"
          ]
        }
      ]
    },
    {
      "cell_type": "code",
      "source": [
        "# pip install optuna"
      ],
      "metadata": {
        "id": "11jJzdLAARYd",
        "colab": {
          "base_uri": "https://localhost:8080/"
        },
        "outputId": "923d9a46-062d-49ad-c1b6-0ae96c0ec435"
      },
      "execution_count": null,
      "outputs": [
        {
          "output_type": "stream",
          "name": "stdout",
          "text": [
            "Collecting optuna\n",
            "  Downloading optuna-2.10.0-py3-none-any.whl (308 kB)\n",
            "\u001b[K     |████████████████████████████████| 308 kB 3.8 MB/s \n",
            "\u001b[?25hRequirement already satisfied: packaging>=20.0 in /usr/local/lib/python3.7/dist-packages (from optuna) (21.3)\n",
            "Collecting cliff\n",
            "  Downloading cliff-3.10.1-py3-none-any.whl (81 kB)\n",
            "\u001b[K     |████████████████████████████████| 81 kB 4.4 MB/s \n",
            "\u001b[?25hRequirement already satisfied: scipy!=1.4.0 in /usr/local/lib/python3.7/dist-packages (from optuna) (1.4.1)\n",
            "Requirement already satisfied: PyYAML in /usr/local/lib/python3.7/dist-packages (from optuna) (3.13)\n",
            "Requirement already satisfied: numpy in /usr/local/lib/python3.7/dist-packages (from optuna) (1.21.6)\n",
            "Collecting colorlog\n",
            "  Downloading colorlog-6.6.0-py2.py3-none-any.whl (11 kB)\n",
            "Requirement already satisfied: sqlalchemy>=1.1.0 in /usr/local/lib/python3.7/dist-packages (from optuna) (1.4.36)\n",
            "Collecting alembic\n",
            "  Downloading alembic-1.7.7-py3-none-any.whl (210 kB)\n",
            "\u001b[K     |████████████████████████████████| 210 kB 12.3 MB/s \n",
            "\u001b[?25hRequirement already satisfied: tqdm in /usr/local/lib/python3.7/dist-packages (from optuna) (4.64.0)\n",
            "Collecting cmaes>=0.8.2\n",
            "  Downloading cmaes-0.8.2-py3-none-any.whl (15 kB)\n",
            "Requirement already satisfied: pyparsing!=3.0.5,>=2.0.2 in /usr/local/lib/python3.7/dist-packages (from packaging>=20.0->optuna) (3.0.9)\n",
            "Requirement already satisfied: greenlet!=0.4.17 in /usr/local/lib/python3.7/dist-packages (from sqlalchemy>=1.1.0->optuna) (1.1.2)\n",
            "Requirement already satisfied: importlib-metadata in /usr/local/lib/python3.7/dist-packages (from sqlalchemy>=1.1.0->optuna) (4.11.3)\n",
            "Requirement already satisfied: importlib-resources in /usr/local/lib/python3.7/dist-packages (from alembic->optuna) (5.7.1)\n",
            "Collecting Mako\n",
            "  Downloading Mako-1.2.0-py3-none-any.whl (78 kB)\n",
            "\u001b[K     |████████████████████████████████| 78 kB 3.3 MB/s \n",
            "\u001b[?25hCollecting stevedore>=2.0.1\n",
            "  Downloading stevedore-3.5.0-py3-none-any.whl (49 kB)\n",
            "\u001b[K     |████████████████████████████████| 49 kB 4.5 MB/s \n",
            "\u001b[?25hCollecting autopage>=0.4.0\n",
            "  Downloading autopage-0.5.0-py3-none-any.whl (29 kB)\n",
            "Collecting pbr!=2.1.0,>=2.0.0\n",
            "  Downloading pbr-5.9.0-py2.py3-none-any.whl (112 kB)\n",
            "\u001b[K     |████████████████████████████████| 112 kB 37.1 MB/s \n",
            "\u001b[?25hRequirement already satisfied: PrettyTable>=0.7.2 in /usr/local/lib/python3.7/dist-packages (from cliff->optuna) (3.3.0)\n",
            "Collecting cmd2>=1.0.0\n",
            "  Downloading cmd2-2.4.1-py3-none-any.whl (146 kB)\n",
            "\u001b[K     |████████████████████████████████| 146 kB 17.2 MB/s \n",
            "\u001b[?25hCollecting pyperclip>=1.6\n",
            "  Downloading pyperclip-1.8.2.tar.gz (20 kB)\n",
            "Requirement already satisfied: wcwidth>=0.1.7 in /usr/local/lib/python3.7/dist-packages (from cmd2>=1.0.0->cliff->optuna) (0.2.5)\n",
            "Requirement already satisfied: typing-extensions in /usr/local/lib/python3.7/dist-packages (from cmd2>=1.0.0->cliff->optuna) (4.2.0)\n",
            "Requirement already satisfied: attrs>=16.3.0 in /usr/local/lib/python3.7/dist-packages (from cmd2>=1.0.0->cliff->optuna) (21.4.0)\n",
            "Requirement already satisfied: zipp>=0.5 in /usr/local/lib/python3.7/dist-packages (from importlib-metadata->sqlalchemy>=1.1.0->optuna) (3.8.0)\n",
            "Requirement already satisfied: MarkupSafe>=0.9.2 in /usr/local/lib/python3.7/dist-packages (from Mako->alembic->optuna) (2.0.1)\n",
            "Building wheels for collected packages: pyperclip\n",
            "  Building wheel for pyperclip (setup.py) ... \u001b[?25l\u001b[?25hdone\n",
            "  Created wheel for pyperclip: filename=pyperclip-1.8.2-py3-none-any.whl size=11137 sha256=c0f2579d6812570be4cd3bf84caa87899b0193fd53951da548d90fb0e818242d\n",
            "  Stored in directory: /root/.cache/pip/wheels/9f/18/84/8f69f8b08169c7bae2dde6bd7daf0c19fca8c8e500ee620a28\n",
            "Successfully built pyperclip\n",
            "Installing collected packages: pyperclip, pbr, stevedore, Mako, cmd2, autopage, colorlog, cmaes, cliff, alembic, optuna\n",
            "Successfully installed Mako-1.2.0 alembic-1.7.7 autopage-0.5.0 cliff-3.10.1 cmaes-0.8.2 cmd2-2.4.1 colorlog-6.6.0 optuna-2.10.0 pbr-5.9.0 pyperclip-1.8.2 stevedore-3.5.0\n"
          ]
        }
      ]
    },
    {
      "cell_type": "code",
      "source": [
        "# Configurações de visualização\n",
        "plt.rcParams['figure.figsize'] = [12, 8]\n",
        "pd.set_option(\"display.max_columns\", None)\n",
        "pd.set_option(\"display.max_rows\", 100)"
      ],
      "metadata": {
        "id": "f-gsuJRnt9Jr"
      },
      "execution_count": null,
      "outputs": []
    },
    {
      "cell_type": "markdown",
      "source": [
        "# Carregamento e preparação dos dados"
      ],
      "metadata": {
        "id": "nRwU3X1IKphj"
      }
    },
    {
      "cell_type": "code",
      "source": [
        "# Lê os dados de entrada:\n",
        "df = pd.read_csv(\"https://drive.google.com/uc?id=1jsVCFySXWWdPzVc8W6UgLo_QbTNXOfih\")"
      ],
      "metadata": {
        "id": "UOfiMVNHuI-W"
      },
      "execution_count": null,
      "outputs": []
    },
    {
      "cell_type": "code",
      "source": [
        "# Verifica as 3 primeiras linhas:\n",
        "df.head(3)"
      ],
      "metadata": {
        "colab": {
          "base_uri": "https://localhost:8080/",
          "height": 257
        },
        "id": "HYECTQseud3B",
        "outputId": "10f18c5f-ea92-4da8-8bbd-027e444107e2"
      },
      "execution_count": null,
      "outputs": [
        {
          "output_type": "execute_result",
          "data": {
            "text/plain": [
              "   customerID  gender  SeniorCitizen Partner Dependents  tenure PhoneService  \\\n",
              "0  7590-VHVEG  Female              0     Yes         No       1           No   \n",
              "1  5575-GNVDE    Male              0      No         No      34          Yes   \n",
              "2  3668-QPYBK    Male              0      No         No       2          Yes   \n",
              "\n",
              "      MultipleLines InternetService OnlineSecurity OnlineBackup  \\\n",
              "0  No phone service             DSL             No          Yes   \n",
              "1                No             DSL            Yes           No   \n",
              "2                No             DSL            Yes          Yes   \n",
              "\n",
              "  DeviceProtection TechSupport StreamingTV StreamingMovies        Contract  \\\n",
              "0               No          No          No              No  Month-to-month   \n",
              "1              Yes          No          No              No        One year   \n",
              "2               No          No          No              No  Month-to-month   \n",
              "\n",
              "  PaperlessBilling     PaymentMethod  MonthlyCharges TotalCharges Churn  \n",
              "0              Yes  Electronic check           29.85        29.85    No  \n",
              "1               No      Mailed check           56.95       1889.5    No  \n",
              "2              Yes      Mailed check           53.85       108.15   Yes  "
            ],
            "text/html": [
              "\n",
              "  <div id=\"df-12bc1735-26e4-4157-a058-cd0b087626b2\">\n",
              "    <div class=\"colab-df-container\">\n",
              "      <div>\n",
              "<style scoped>\n",
              "    .dataframe tbody tr th:only-of-type {\n",
              "        vertical-align: middle;\n",
              "    }\n",
              "\n",
              "    .dataframe tbody tr th {\n",
              "        vertical-align: top;\n",
              "    }\n",
              "\n",
              "    .dataframe thead th {\n",
              "        text-align: right;\n",
              "    }\n",
              "</style>\n",
              "<table border=\"1\" class=\"dataframe\">\n",
              "  <thead>\n",
              "    <tr style=\"text-align: right;\">\n",
              "      <th></th>\n",
              "      <th>customerID</th>\n",
              "      <th>gender</th>\n",
              "      <th>SeniorCitizen</th>\n",
              "      <th>Partner</th>\n",
              "      <th>Dependents</th>\n",
              "      <th>tenure</th>\n",
              "      <th>PhoneService</th>\n",
              "      <th>MultipleLines</th>\n",
              "      <th>InternetService</th>\n",
              "      <th>OnlineSecurity</th>\n",
              "      <th>OnlineBackup</th>\n",
              "      <th>DeviceProtection</th>\n",
              "      <th>TechSupport</th>\n",
              "      <th>StreamingTV</th>\n",
              "      <th>StreamingMovies</th>\n",
              "      <th>Contract</th>\n",
              "      <th>PaperlessBilling</th>\n",
              "      <th>PaymentMethod</th>\n",
              "      <th>MonthlyCharges</th>\n",
              "      <th>TotalCharges</th>\n",
              "      <th>Churn</th>\n",
              "    </tr>\n",
              "  </thead>\n",
              "  <tbody>\n",
              "    <tr>\n",
              "      <th>0</th>\n",
              "      <td>7590-VHVEG</td>\n",
              "      <td>Female</td>\n",
              "      <td>0</td>\n",
              "      <td>Yes</td>\n",
              "      <td>No</td>\n",
              "      <td>1</td>\n",
              "      <td>No</td>\n",
              "      <td>No phone service</td>\n",
              "      <td>DSL</td>\n",
              "      <td>No</td>\n",
              "      <td>Yes</td>\n",
              "      <td>No</td>\n",
              "      <td>No</td>\n",
              "      <td>No</td>\n",
              "      <td>No</td>\n",
              "      <td>Month-to-month</td>\n",
              "      <td>Yes</td>\n",
              "      <td>Electronic check</td>\n",
              "      <td>29.85</td>\n",
              "      <td>29.85</td>\n",
              "      <td>No</td>\n",
              "    </tr>\n",
              "    <tr>\n",
              "      <th>1</th>\n",
              "      <td>5575-GNVDE</td>\n",
              "      <td>Male</td>\n",
              "      <td>0</td>\n",
              "      <td>No</td>\n",
              "      <td>No</td>\n",
              "      <td>34</td>\n",
              "      <td>Yes</td>\n",
              "      <td>No</td>\n",
              "      <td>DSL</td>\n",
              "      <td>Yes</td>\n",
              "      <td>No</td>\n",
              "      <td>Yes</td>\n",
              "      <td>No</td>\n",
              "      <td>No</td>\n",
              "      <td>No</td>\n",
              "      <td>One year</td>\n",
              "      <td>No</td>\n",
              "      <td>Mailed check</td>\n",
              "      <td>56.95</td>\n",
              "      <td>1889.5</td>\n",
              "      <td>No</td>\n",
              "    </tr>\n",
              "    <tr>\n",
              "      <th>2</th>\n",
              "      <td>3668-QPYBK</td>\n",
              "      <td>Male</td>\n",
              "      <td>0</td>\n",
              "      <td>No</td>\n",
              "      <td>No</td>\n",
              "      <td>2</td>\n",
              "      <td>Yes</td>\n",
              "      <td>No</td>\n",
              "      <td>DSL</td>\n",
              "      <td>Yes</td>\n",
              "      <td>Yes</td>\n",
              "      <td>No</td>\n",
              "      <td>No</td>\n",
              "      <td>No</td>\n",
              "      <td>No</td>\n",
              "      <td>Month-to-month</td>\n",
              "      <td>Yes</td>\n",
              "      <td>Mailed check</td>\n",
              "      <td>53.85</td>\n",
              "      <td>108.15</td>\n",
              "      <td>Yes</td>\n",
              "    </tr>\n",
              "  </tbody>\n",
              "</table>\n",
              "</div>\n",
              "      <button class=\"colab-df-convert\" onclick=\"convertToInteractive('df-12bc1735-26e4-4157-a058-cd0b087626b2')\"\n",
              "              title=\"Convert this dataframe to an interactive table.\"\n",
              "              style=\"display:none;\">\n",
              "        \n",
              "  <svg xmlns=\"http://www.w3.org/2000/svg\" height=\"24px\"viewBox=\"0 0 24 24\"\n",
              "       width=\"24px\">\n",
              "    <path d=\"M0 0h24v24H0V0z\" fill=\"none\"/>\n",
              "    <path d=\"M18.56 5.44l.94 2.06.94-2.06 2.06-.94-2.06-.94-.94-2.06-.94 2.06-2.06.94zm-11 1L8.5 8.5l.94-2.06 2.06-.94-2.06-.94L8.5 2.5l-.94 2.06-2.06.94zm10 10l.94 2.06.94-2.06 2.06-.94-2.06-.94-.94-2.06-.94 2.06-2.06.94z\"/><path d=\"M17.41 7.96l-1.37-1.37c-.4-.4-.92-.59-1.43-.59-.52 0-1.04.2-1.43.59L10.3 9.45l-7.72 7.72c-.78.78-.78 2.05 0 2.83L4 21.41c.39.39.9.59 1.41.59.51 0 1.02-.2 1.41-.59l7.78-7.78 2.81-2.81c.8-.78.8-2.07 0-2.86zM5.41 20L4 18.59l7.72-7.72 1.47 1.35L5.41 20z\"/>\n",
              "  </svg>\n",
              "      </button>\n",
              "      \n",
              "  <style>\n",
              "    .colab-df-container {\n",
              "      display:flex;\n",
              "      flex-wrap:wrap;\n",
              "      gap: 12px;\n",
              "    }\n",
              "\n",
              "    .colab-df-convert {\n",
              "      background-color: #E8F0FE;\n",
              "      border: none;\n",
              "      border-radius: 50%;\n",
              "      cursor: pointer;\n",
              "      display: none;\n",
              "      fill: #1967D2;\n",
              "      height: 32px;\n",
              "      padding: 0 0 0 0;\n",
              "      width: 32px;\n",
              "    }\n",
              "\n",
              "    .colab-df-convert:hover {\n",
              "      background-color: #E2EBFA;\n",
              "      box-shadow: 0px 1px 2px rgba(60, 64, 67, 0.3), 0px 1px 3px 1px rgba(60, 64, 67, 0.15);\n",
              "      fill: #174EA6;\n",
              "    }\n",
              "\n",
              "    [theme=dark] .colab-df-convert {\n",
              "      background-color: #3B4455;\n",
              "      fill: #D2E3FC;\n",
              "    }\n",
              "\n",
              "    [theme=dark] .colab-df-convert:hover {\n",
              "      background-color: #434B5C;\n",
              "      box-shadow: 0px 1px 3px 1px rgba(0, 0, 0, 0.15);\n",
              "      filter: drop-shadow(0px 1px 2px rgba(0, 0, 0, 0.3));\n",
              "      fill: #FFFFFF;\n",
              "    }\n",
              "  </style>\n",
              "\n",
              "      <script>\n",
              "        const buttonEl =\n",
              "          document.querySelector('#df-12bc1735-26e4-4157-a058-cd0b087626b2 button.colab-df-convert');\n",
              "        buttonEl.style.display =\n",
              "          google.colab.kernel.accessAllowed ? 'block' : 'none';\n",
              "\n",
              "        async function convertToInteractive(key) {\n",
              "          const element = document.querySelector('#df-12bc1735-26e4-4157-a058-cd0b087626b2');\n",
              "          const dataTable =\n",
              "            await google.colab.kernel.invokeFunction('convertToInteractive',\n",
              "                                                     [key], {});\n",
              "          if (!dataTable) return;\n",
              "\n",
              "          const docLinkHtml = 'Like what you see? Visit the ' +\n",
              "            '<a target=\"_blank\" href=https://colab.research.google.com/notebooks/data_table.ipynb>data table notebook</a>'\n",
              "            + ' to learn more about interactive tables.';\n",
              "          element.innerHTML = '';\n",
              "          dataTable['output_type'] = 'display_data';\n",
              "          await google.colab.output.renderOutput(dataTable, element);\n",
              "          const docLink = document.createElement('div');\n",
              "          docLink.innerHTML = docLinkHtml;\n",
              "          element.appendChild(docLink);\n",
              "        }\n",
              "      </script>\n",
              "    </div>\n",
              "  </div>\n",
              "  "
            ]
          },
          "metadata": {},
          "execution_count": 6
        }
      ]
    },
    {
      "cell_type": "code",
      "source": [
        "# Verifica as 3 últimas linhas:\n",
        "df.tail(3)"
      ],
      "metadata": {
        "colab": {
          "base_uri": "https://localhost:8080/",
          "height": 260
        },
        "id": "zu3P0-DVLJH6",
        "outputId": "7dbc1485-b548-4712-ce70-5f5d2d08f1a5"
      },
      "execution_count": null,
      "outputs": [
        {
          "output_type": "execute_result",
          "data": {
            "text/plain": [
              "      customerID  gender  SeniorCitizen Partner Dependents  tenure  \\\n",
              "7040  4801-JZAZL  Female              0     Yes        Yes      11   \n",
              "7041  8361-LTMKD    Male              1     Yes         No       4   \n",
              "7042  3186-AJIEK    Male              0      No         No      66   \n",
              "\n",
              "     PhoneService     MultipleLines InternetService OnlineSecurity  \\\n",
              "7040           No  No phone service             DSL            Yes   \n",
              "7041          Yes               Yes     Fiber optic             No   \n",
              "7042          Yes                No     Fiber optic            Yes   \n",
              "\n",
              "     OnlineBackup DeviceProtection TechSupport StreamingTV StreamingMovies  \\\n",
              "7040           No               No          No          No              No   \n",
              "7041           No               No          No          No              No   \n",
              "7042           No              Yes         Yes         Yes             Yes   \n",
              "\n",
              "            Contract PaperlessBilling              PaymentMethod  \\\n",
              "7040  Month-to-month              Yes           Electronic check   \n",
              "7041  Month-to-month              Yes               Mailed check   \n",
              "7042        Two year              Yes  Bank transfer (automatic)   \n",
              "\n",
              "      MonthlyCharges TotalCharges Churn  \n",
              "7040           29.60       346.45    No  \n",
              "7041           74.40        306.6   Yes  \n",
              "7042          105.65       6844.5    No  "
            ],
            "text/html": [
              "\n",
              "  <div id=\"df-15d917ad-f037-4808-8d79-58d08cab80f1\">\n",
              "    <div class=\"colab-df-container\">\n",
              "      <div>\n",
              "<style scoped>\n",
              "    .dataframe tbody tr th:only-of-type {\n",
              "        vertical-align: middle;\n",
              "    }\n",
              "\n",
              "    .dataframe tbody tr th {\n",
              "        vertical-align: top;\n",
              "    }\n",
              "\n",
              "    .dataframe thead th {\n",
              "        text-align: right;\n",
              "    }\n",
              "</style>\n",
              "<table border=\"1\" class=\"dataframe\">\n",
              "  <thead>\n",
              "    <tr style=\"text-align: right;\">\n",
              "      <th></th>\n",
              "      <th>customerID</th>\n",
              "      <th>gender</th>\n",
              "      <th>SeniorCitizen</th>\n",
              "      <th>Partner</th>\n",
              "      <th>Dependents</th>\n",
              "      <th>tenure</th>\n",
              "      <th>PhoneService</th>\n",
              "      <th>MultipleLines</th>\n",
              "      <th>InternetService</th>\n",
              "      <th>OnlineSecurity</th>\n",
              "      <th>OnlineBackup</th>\n",
              "      <th>DeviceProtection</th>\n",
              "      <th>TechSupport</th>\n",
              "      <th>StreamingTV</th>\n",
              "      <th>StreamingMovies</th>\n",
              "      <th>Contract</th>\n",
              "      <th>PaperlessBilling</th>\n",
              "      <th>PaymentMethod</th>\n",
              "      <th>MonthlyCharges</th>\n",
              "      <th>TotalCharges</th>\n",
              "      <th>Churn</th>\n",
              "    </tr>\n",
              "  </thead>\n",
              "  <tbody>\n",
              "    <tr>\n",
              "      <th>7040</th>\n",
              "      <td>4801-JZAZL</td>\n",
              "      <td>Female</td>\n",
              "      <td>0</td>\n",
              "      <td>Yes</td>\n",
              "      <td>Yes</td>\n",
              "      <td>11</td>\n",
              "      <td>No</td>\n",
              "      <td>No phone service</td>\n",
              "      <td>DSL</td>\n",
              "      <td>Yes</td>\n",
              "      <td>No</td>\n",
              "      <td>No</td>\n",
              "      <td>No</td>\n",
              "      <td>No</td>\n",
              "      <td>No</td>\n",
              "      <td>Month-to-month</td>\n",
              "      <td>Yes</td>\n",
              "      <td>Electronic check</td>\n",
              "      <td>29.60</td>\n",
              "      <td>346.45</td>\n",
              "      <td>No</td>\n",
              "    </tr>\n",
              "    <tr>\n",
              "      <th>7041</th>\n",
              "      <td>8361-LTMKD</td>\n",
              "      <td>Male</td>\n",
              "      <td>1</td>\n",
              "      <td>Yes</td>\n",
              "      <td>No</td>\n",
              "      <td>4</td>\n",
              "      <td>Yes</td>\n",
              "      <td>Yes</td>\n",
              "      <td>Fiber optic</td>\n",
              "      <td>No</td>\n",
              "      <td>No</td>\n",
              "      <td>No</td>\n",
              "      <td>No</td>\n",
              "      <td>No</td>\n",
              "      <td>No</td>\n",
              "      <td>Month-to-month</td>\n",
              "      <td>Yes</td>\n",
              "      <td>Mailed check</td>\n",
              "      <td>74.40</td>\n",
              "      <td>306.6</td>\n",
              "      <td>Yes</td>\n",
              "    </tr>\n",
              "    <tr>\n",
              "      <th>7042</th>\n",
              "      <td>3186-AJIEK</td>\n",
              "      <td>Male</td>\n",
              "      <td>0</td>\n",
              "      <td>No</td>\n",
              "      <td>No</td>\n",
              "      <td>66</td>\n",
              "      <td>Yes</td>\n",
              "      <td>No</td>\n",
              "      <td>Fiber optic</td>\n",
              "      <td>Yes</td>\n",
              "      <td>No</td>\n",
              "      <td>Yes</td>\n",
              "      <td>Yes</td>\n",
              "      <td>Yes</td>\n",
              "      <td>Yes</td>\n",
              "      <td>Two year</td>\n",
              "      <td>Yes</td>\n",
              "      <td>Bank transfer (automatic)</td>\n",
              "      <td>105.65</td>\n",
              "      <td>6844.5</td>\n",
              "      <td>No</td>\n",
              "    </tr>\n",
              "  </tbody>\n",
              "</table>\n",
              "</div>\n",
              "      <button class=\"colab-df-convert\" onclick=\"convertToInteractive('df-15d917ad-f037-4808-8d79-58d08cab80f1')\"\n",
              "              title=\"Convert this dataframe to an interactive table.\"\n",
              "              style=\"display:none;\">\n",
              "        \n",
              "  <svg xmlns=\"http://www.w3.org/2000/svg\" height=\"24px\"viewBox=\"0 0 24 24\"\n",
              "       width=\"24px\">\n",
              "    <path d=\"M0 0h24v24H0V0z\" fill=\"none\"/>\n",
              "    <path d=\"M18.56 5.44l.94 2.06.94-2.06 2.06-.94-2.06-.94-.94-2.06-.94 2.06-2.06.94zm-11 1L8.5 8.5l.94-2.06 2.06-.94-2.06-.94L8.5 2.5l-.94 2.06-2.06.94zm10 10l.94 2.06.94-2.06 2.06-.94-2.06-.94-.94-2.06-.94 2.06-2.06.94z\"/><path d=\"M17.41 7.96l-1.37-1.37c-.4-.4-.92-.59-1.43-.59-.52 0-1.04.2-1.43.59L10.3 9.45l-7.72 7.72c-.78.78-.78 2.05 0 2.83L4 21.41c.39.39.9.59 1.41.59.51 0 1.02-.2 1.41-.59l7.78-7.78 2.81-2.81c.8-.78.8-2.07 0-2.86zM5.41 20L4 18.59l7.72-7.72 1.47 1.35L5.41 20z\"/>\n",
              "  </svg>\n",
              "      </button>\n",
              "      \n",
              "  <style>\n",
              "    .colab-df-container {\n",
              "      display:flex;\n",
              "      flex-wrap:wrap;\n",
              "      gap: 12px;\n",
              "    }\n",
              "\n",
              "    .colab-df-convert {\n",
              "      background-color: #E8F0FE;\n",
              "      border: none;\n",
              "      border-radius: 50%;\n",
              "      cursor: pointer;\n",
              "      display: none;\n",
              "      fill: #1967D2;\n",
              "      height: 32px;\n",
              "      padding: 0 0 0 0;\n",
              "      width: 32px;\n",
              "    }\n",
              "\n",
              "    .colab-df-convert:hover {\n",
              "      background-color: #E2EBFA;\n",
              "      box-shadow: 0px 1px 2px rgba(60, 64, 67, 0.3), 0px 1px 3px 1px rgba(60, 64, 67, 0.15);\n",
              "      fill: #174EA6;\n",
              "    }\n",
              "\n",
              "    [theme=dark] .colab-df-convert {\n",
              "      background-color: #3B4455;\n",
              "      fill: #D2E3FC;\n",
              "    }\n",
              "\n",
              "    [theme=dark] .colab-df-convert:hover {\n",
              "      background-color: #434B5C;\n",
              "      box-shadow: 0px 1px 3px 1px rgba(0, 0, 0, 0.15);\n",
              "      filter: drop-shadow(0px 1px 2px rgba(0, 0, 0, 0.3));\n",
              "      fill: #FFFFFF;\n",
              "    }\n",
              "  </style>\n",
              "\n",
              "      <script>\n",
              "        const buttonEl =\n",
              "          document.querySelector('#df-15d917ad-f037-4808-8d79-58d08cab80f1 button.colab-df-convert');\n",
              "        buttonEl.style.display =\n",
              "          google.colab.kernel.accessAllowed ? 'block' : 'none';\n",
              "\n",
              "        async function convertToInteractive(key) {\n",
              "          const element = document.querySelector('#df-15d917ad-f037-4808-8d79-58d08cab80f1');\n",
              "          const dataTable =\n",
              "            await google.colab.kernel.invokeFunction('convertToInteractive',\n",
              "                                                     [key], {});\n",
              "          if (!dataTable) return;\n",
              "\n",
              "          const docLinkHtml = 'Like what you see? Visit the ' +\n",
              "            '<a target=\"_blank\" href=https://colab.research.google.com/notebooks/data_table.ipynb>data table notebook</a>'\n",
              "            + ' to learn more about interactive tables.';\n",
              "          element.innerHTML = '';\n",
              "          dataTable['output_type'] = 'display_data';\n",
              "          await google.colab.output.renderOutput(dataTable, element);\n",
              "          const docLink = document.createElement('div');\n",
              "          docLink.innerHTML = docLinkHtml;\n",
              "          element.appendChild(docLink);\n",
              "        }\n",
              "      </script>\n",
              "    </div>\n",
              "  </div>\n",
              "  "
            ]
          },
          "metadata": {},
          "execution_count": 7
        }
      ]
    },
    {
      "cell_type": "code",
      "source": [
        "# Verifica os tipos de dados:\n",
        "df.dtypes"
      ],
      "metadata": {
        "colab": {
          "base_uri": "https://localhost:8080/"
        },
        "id": "XLL9rfURBA-d",
        "outputId": "60fe39e0-89e1-401a-89b3-a987ec230215"
      },
      "execution_count": null,
      "outputs": [
        {
          "output_type": "execute_result",
          "data": {
            "text/plain": [
              "customerID           object\n",
              "gender               object\n",
              "SeniorCitizen         int64\n",
              "Partner              object\n",
              "Dependents           object\n",
              "tenure                int64\n",
              "PhoneService         object\n",
              "MultipleLines        object\n",
              "InternetService      object\n",
              "OnlineSecurity       object\n",
              "OnlineBackup         object\n",
              "DeviceProtection     object\n",
              "TechSupport          object\n",
              "StreamingTV          object\n",
              "StreamingMovies      object\n",
              "Contract             object\n",
              "PaperlessBilling     object\n",
              "PaymentMethod        object\n",
              "MonthlyCharges      float64\n",
              "TotalCharges         object\n",
              "Churn                object\n",
              "dtype: object"
            ]
          },
          "metadata": {},
          "execution_count": 8
        }
      ]
    },
    {
      "cell_type": "code",
      "source": [
        "# Verifica a existência de valores ausentes:\n",
        "df.isna().sum()"
      ],
      "metadata": {
        "colab": {
          "base_uri": "https://localhost:8080/"
        },
        "id": "2CsGAWdYBE3O",
        "outputId": "5dcf159f-b281-4b95-afd6-af028899f52d"
      },
      "execution_count": null,
      "outputs": [
        {
          "output_type": "execute_result",
          "data": {
            "text/plain": [
              "customerID          0\n",
              "gender              0\n",
              "SeniorCitizen       0\n",
              "Partner             0\n",
              "Dependents          0\n",
              "tenure              0\n",
              "PhoneService        0\n",
              "MultipleLines       0\n",
              "InternetService     0\n",
              "OnlineSecurity      0\n",
              "OnlineBackup        0\n",
              "DeviceProtection    0\n",
              "TechSupport         0\n",
              "StreamingTV         0\n",
              "StreamingMovies     0\n",
              "Contract            0\n",
              "PaperlessBilling    0\n",
              "PaymentMethod       0\n",
              "MonthlyCharges      0\n",
              "TotalCharges        0\n",
              "Churn               0\n",
              "dtype: int64"
            ]
          },
          "metadata": {},
          "execution_count": 9
        }
      ]
    },
    {
      "cell_type": "markdown",
      "source": [
        "Aparentemente não temos valores ausentes. \n",
        "\n",
        "Será que é verdade? E se houverem valores em branco em determinadas colunas? "
      ],
      "metadata": {
        "id": "AmwqDcnNNxAE"
      }
    },
    {
      "cell_type": "code",
      "source": [
        "# Substituindo possíveis valores em branco por NaN:\n",
        "df = df.replace(r'^\\s*$', np.nan, regex=True)"
      ],
      "metadata": {
        "id": "0f44SOM9NvyC"
      },
      "execution_count": null,
      "outputs": []
    },
    {
      "cell_type": "code",
      "source": [
        "# Verificando novamente os valores ausentes:\n",
        "df.isna().sum()"
      ],
      "metadata": {
        "colab": {
          "base_uri": "https://localhost:8080/"
        },
        "id": "CkbgUBkcNv9y",
        "outputId": "85b3fe4d-e92a-4313-8d05-6b5c213a4fed"
      },
      "execution_count": null,
      "outputs": [
        {
          "output_type": "execute_result",
          "data": {
            "text/plain": [
              "customerID           0\n",
              "gender               0\n",
              "SeniorCitizen        0\n",
              "Partner              0\n",
              "Dependents           0\n",
              "tenure               0\n",
              "PhoneService         0\n",
              "MultipleLines        0\n",
              "InternetService      0\n",
              "OnlineSecurity       0\n",
              "OnlineBackup         0\n",
              "DeviceProtection     0\n",
              "TechSupport          0\n",
              "StreamingTV          0\n",
              "StreamingMovies      0\n",
              "Contract             0\n",
              "PaperlessBilling     0\n",
              "PaymentMethod        0\n",
              "MonthlyCharges       0\n",
              "TotalCharges        11\n",
              "Churn                0\n",
              "dtype: int64"
            ]
          },
          "metadata": {},
          "execution_count": 11
        }
      ]
    },
    {
      "cell_type": "markdown",
      "source": [
        "Bingo! A variável **TotalCharges** possui 11 registros ausentes. Vamos \"anotar\" para lidar com isso posteriormente.\n",
        "\n",
        "Observamos também no dicionário de dados que **TotalCharges** deveria ser do tipo *float*. Vamos convertê-la!"
      ],
      "metadata": {
        "id": "JsN_zrDtOrCO"
      }
    },
    {
      "cell_type": "code",
      "source": [
        "df['TotalCharges'] = df['TotalCharges'].astype(float)"
      ],
      "metadata": {
        "id": "eb6jeu7ULJMf"
      },
      "execution_count": null,
      "outputs": []
    },
    {
      "cell_type": "code",
      "source": [
        "# Verificando novamente os tipos:\n",
        "df.dtypes"
      ],
      "metadata": {
        "colab": {
          "base_uri": "https://localhost:8080/"
        },
        "id": "lQ3SeuO6LJOc",
        "outputId": "67013c09-298b-4632-8838-c7f3eeafd15f"
      },
      "execution_count": null,
      "outputs": [
        {
          "output_type": "execute_result",
          "data": {
            "text/plain": [
              "customerID           object\n",
              "gender               object\n",
              "SeniorCitizen         int64\n",
              "Partner              object\n",
              "Dependents           object\n",
              "tenure                int64\n",
              "PhoneService         object\n",
              "MultipleLines        object\n",
              "InternetService      object\n",
              "OnlineSecurity       object\n",
              "OnlineBackup         object\n",
              "DeviceProtection     object\n",
              "TechSupport          object\n",
              "StreamingTV          object\n",
              "StreamingMovies      object\n",
              "Contract             object\n",
              "PaperlessBilling     object\n",
              "PaymentMethod        object\n",
              "MonthlyCharges      float64\n",
              "TotalCharges        float64\n",
              "Churn                object\n",
              "dtype: object"
            ]
          },
          "metadata": {},
          "execution_count": 13
        }
      ]
    },
    {
      "cell_type": "markdown",
      "source": [
        "Será que temos algum registro repetido no dataset?"
      ],
      "metadata": {
        "id": "pHbGYNbTQLFs"
      }
    },
    {
      "cell_type": "code",
      "source": [
        "# Verificando se o número de IDs únicos é igual ao número total de registros\n",
        "len(df['customerID'].unique()) == df['customerID'].shape[0]"
      ],
      "metadata": {
        "colab": {
          "base_uri": "https://localhost:8080/"
        },
        "id": "4JXoygQYQJmF",
        "outputId": "310da353-b00b-4a4b-a784-e6bc553904f8"
      },
      "execution_count": null,
      "outputs": [
        {
          "output_type": "execute_result",
          "data": {
            "text/plain": [
              "True"
            ]
          },
          "metadata": {},
          "execution_count": 14
        }
      ]
    },
    {
      "cell_type": "markdown",
      "source": [
        "Bom, me parece que não temos registros repetidos. Isto é ótimo!"
      ],
      "metadata": {
        "id": "eyYXYnu2Qoqh"
      }
    },
    {
      "cell_type": "markdown",
      "source": [
        "Pensando em possíveis características (preditores) do modelo, descartaremos a **customerID**."
      ],
      "metadata": {
        "id": "WjY5zSnUP0wA"
      }
    },
    {
      "cell_type": "code",
      "source": [
        "# Removendo a coluna customerID do dataset:\n",
        "df.drop(columns='customerID', inplace=True)"
      ],
      "metadata": {
        "id": "VkL5fDxOLJST"
      },
      "execution_count": null,
      "outputs": []
    },
    {
      "cell_type": "code",
      "source": [
        "df.head()"
      ],
      "metadata": {
        "colab": {
          "base_uri": "https://localhost:8080/",
          "height": 340
        },
        "id": "Vy6tVtNkLJUS",
        "outputId": "7af6190f-5fd1-4bfc-e18c-b726ed76d18d"
      },
      "execution_count": null,
      "outputs": [
        {
          "output_type": "execute_result",
          "data": {
            "text/plain": [
              "   gender  SeniorCitizen Partner Dependents  tenure PhoneService  \\\n",
              "0  Female              0     Yes         No       1           No   \n",
              "1    Male              0      No         No      34          Yes   \n",
              "2    Male              0      No         No       2          Yes   \n",
              "3    Male              0      No         No      45           No   \n",
              "4  Female              0      No         No       2          Yes   \n",
              "\n",
              "      MultipleLines InternetService OnlineSecurity OnlineBackup  \\\n",
              "0  No phone service             DSL             No          Yes   \n",
              "1                No             DSL            Yes           No   \n",
              "2                No             DSL            Yes          Yes   \n",
              "3  No phone service             DSL            Yes           No   \n",
              "4                No     Fiber optic             No           No   \n",
              "\n",
              "  DeviceProtection TechSupport StreamingTV StreamingMovies        Contract  \\\n",
              "0               No          No          No              No  Month-to-month   \n",
              "1              Yes          No          No              No        One year   \n",
              "2               No          No          No              No  Month-to-month   \n",
              "3              Yes         Yes          No              No        One year   \n",
              "4               No          No          No              No  Month-to-month   \n",
              "\n",
              "  PaperlessBilling              PaymentMethod  MonthlyCharges  TotalCharges  \\\n",
              "0              Yes           Electronic check           29.85         29.85   \n",
              "1               No               Mailed check           56.95       1889.50   \n",
              "2              Yes               Mailed check           53.85        108.15   \n",
              "3               No  Bank transfer (automatic)           42.30       1840.75   \n",
              "4              Yes           Electronic check           70.70        151.65   \n",
              "\n",
              "  Churn  \n",
              "0    No  \n",
              "1    No  \n",
              "2   Yes  \n",
              "3    No  \n",
              "4   Yes  "
            ],
            "text/html": [
              "\n",
              "  <div id=\"df-0866a161-7491-4c6e-8c96-d9bc652f43fe\">\n",
              "    <div class=\"colab-df-container\">\n",
              "      <div>\n",
              "<style scoped>\n",
              "    .dataframe tbody tr th:only-of-type {\n",
              "        vertical-align: middle;\n",
              "    }\n",
              "\n",
              "    .dataframe tbody tr th {\n",
              "        vertical-align: top;\n",
              "    }\n",
              "\n",
              "    .dataframe thead th {\n",
              "        text-align: right;\n",
              "    }\n",
              "</style>\n",
              "<table border=\"1\" class=\"dataframe\">\n",
              "  <thead>\n",
              "    <tr style=\"text-align: right;\">\n",
              "      <th></th>\n",
              "      <th>gender</th>\n",
              "      <th>SeniorCitizen</th>\n",
              "      <th>Partner</th>\n",
              "      <th>Dependents</th>\n",
              "      <th>tenure</th>\n",
              "      <th>PhoneService</th>\n",
              "      <th>MultipleLines</th>\n",
              "      <th>InternetService</th>\n",
              "      <th>OnlineSecurity</th>\n",
              "      <th>OnlineBackup</th>\n",
              "      <th>DeviceProtection</th>\n",
              "      <th>TechSupport</th>\n",
              "      <th>StreamingTV</th>\n",
              "      <th>StreamingMovies</th>\n",
              "      <th>Contract</th>\n",
              "      <th>PaperlessBilling</th>\n",
              "      <th>PaymentMethod</th>\n",
              "      <th>MonthlyCharges</th>\n",
              "      <th>TotalCharges</th>\n",
              "      <th>Churn</th>\n",
              "    </tr>\n",
              "  </thead>\n",
              "  <tbody>\n",
              "    <tr>\n",
              "      <th>0</th>\n",
              "      <td>Female</td>\n",
              "      <td>0</td>\n",
              "      <td>Yes</td>\n",
              "      <td>No</td>\n",
              "      <td>1</td>\n",
              "      <td>No</td>\n",
              "      <td>No phone service</td>\n",
              "      <td>DSL</td>\n",
              "      <td>No</td>\n",
              "      <td>Yes</td>\n",
              "      <td>No</td>\n",
              "      <td>No</td>\n",
              "      <td>No</td>\n",
              "      <td>No</td>\n",
              "      <td>Month-to-month</td>\n",
              "      <td>Yes</td>\n",
              "      <td>Electronic check</td>\n",
              "      <td>29.85</td>\n",
              "      <td>29.85</td>\n",
              "      <td>No</td>\n",
              "    </tr>\n",
              "    <tr>\n",
              "      <th>1</th>\n",
              "      <td>Male</td>\n",
              "      <td>0</td>\n",
              "      <td>No</td>\n",
              "      <td>No</td>\n",
              "      <td>34</td>\n",
              "      <td>Yes</td>\n",
              "      <td>No</td>\n",
              "      <td>DSL</td>\n",
              "      <td>Yes</td>\n",
              "      <td>No</td>\n",
              "      <td>Yes</td>\n",
              "      <td>No</td>\n",
              "      <td>No</td>\n",
              "      <td>No</td>\n",
              "      <td>One year</td>\n",
              "      <td>No</td>\n",
              "      <td>Mailed check</td>\n",
              "      <td>56.95</td>\n",
              "      <td>1889.50</td>\n",
              "      <td>No</td>\n",
              "    </tr>\n",
              "    <tr>\n",
              "      <th>2</th>\n",
              "      <td>Male</td>\n",
              "      <td>0</td>\n",
              "      <td>No</td>\n",
              "      <td>No</td>\n",
              "      <td>2</td>\n",
              "      <td>Yes</td>\n",
              "      <td>No</td>\n",
              "      <td>DSL</td>\n",
              "      <td>Yes</td>\n",
              "      <td>Yes</td>\n",
              "      <td>No</td>\n",
              "      <td>No</td>\n",
              "      <td>No</td>\n",
              "      <td>No</td>\n",
              "      <td>Month-to-month</td>\n",
              "      <td>Yes</td>\n",
              "      <td>Mailed check</td>\n",
              "      <td>53.85</td>\n",
              "      <td>108.15</td>\n",
              "      <td>Yes</td>\n",
              "    </tr>\n",
              "    <tr>\n",
              "      <th>3</th>\n",
              "      <td>Male</td>\n",
              "      <td>0</td>\n",
              "      <td>No</td>\n",
              "      <td>No</td>\n",
              "      <td>45</td>\n",
              "      <td>No</td>\n",
              "      <td>No phone service</td>\n",
              "      <td>DSL</td>\n",
              "      <td>Yes</td>\n",
              "      <td>No</td>\n",
              "      <td>Yes</td>\n",
              "      <td>Yes</td>\n",
              "      <td>No</td>\n",
              "      <td>No</td>\n",
              "      <td>One year</td>\n",
              "      <td>No</td>\n",
              "      <td>Bank transfer (automatic)</td>\n",
              "      <td>42.30</td>\n",
              "      <td>1840.75</td>\n",
              "      <td>No</td>\n",
              "    </tr>\n",
              "    <tr>\n",
              "      <th>4</th>\n",
              "      <td>Female</td>\n",
              "      <td>0</td>\n",
              "      <td>No</td>\n",
              "      <td>No</td>\n",
              "      <td>2</td>\n",
              "      <td>Yes</td>\n",
              "      <td>No</td>\n",
              "      <td>Fiber optic</td>\n",
              "      <td>No</td>\n",
              "      <td>No</td>\n",
              "      <td>No</td>\n",
              "      <td>No</td>\n",
              "      <td>No</td>\n",
              "      <td>No</td>\n",
              "      <td>Month-to-month</td>\n",
              "      <td>Yes</td>\n",
              "      <td>Electronic check</td>\n",
              "      <td>70.70</td>\n",
              "      <td>151.65</td>\n",
              "      <td>Yes</td>\n",
              "    </tr>\n",
              "  </tbody>\n",
              "</table>\n",
              "</div>\n",
              "      <button class=\"colab-df-convert\" onclick=\"convertToInteractive('df-0866a161-7491-4c6e-8c96-d9bc652f43fe')\"\n",
              "              title=\"Convert this dataframe to an interactive table.\"\n",
              "              style=\"display:none;\">\n",
              "        \n",
              "  <svg xmlns=\"http://www.w3.org/2000/svg\" height=\"24px\"viewBox=\"0 0 24 24\"\n",
              "       width=\"24px\">\n",
              "    <path d=\"M0 0h24v24H0V0z\" fill=\"none\"/>\n",
              "    <path d=\"M18.56 5.44l.94 2.06.94-2.06 2.06-.94-2.06-.94-.94-2.06-.94 2.06-2.06.94zm-11 1L8.5 8.5l.94-2.06 2.06-.94-2.06-.94L8.5 2.5l-.94 2.06-2.06.94zm10 10l.94 2.06.94-2.06 2.06-.94-2.06-.94-.94-2.06-.94 2.06-2.06.94z\"/><path d=\"M17.41 7.96l-1.37-1.37c-.4-.4-.92-.59-1.43-.59-.52 0-1.04.2-1.43.59L10.3 9.45l-7.72 7.72c-.78.78-.78 2.05 0 2.83L4 21.41c.39.39.9.59 1.41.59.51 0 1.02-.2 1.41-.59l7.78-7.78 2.81-2.81c.8-.78.8-2.07 0-2.86zM5.41 20L4 18.59l7.72-7.72 1.47 1.35L5.41 20z\"/>\n",
              "  </svg>\n",
              "      </button>\n",
              "      \n",
              "  <style>\n",
              "    .colab-df-container {\n",
              "      display:flex;\n",
              "      flex-wrap:wrap;\n",
              "      gap: 12px;\n",
              "    }\n",
              "\n",
              "    .colab-df-convert {\n",
              "      background-color: #E8F0FE;\n",
              "      border: none;\n",
              "      border-radius: 50%;\n",
              "      cursor: pointer;\n",
              "      display: none;\n",
              "      fill: #1967D2;\n",
              "      height: 32px;\n",
              "      padding: 0 0 0 0;\n",
              "      width: 32px;\n",
              "    }\n",
              "\n",
              "    .colab-df-convert:hover {\n",
              "      background-color: #E2EBFA;\n",
              "      box-shadow: 0px 1px 2px rgba(60, 64, 67, 0.3), 0px 1px 3px 1px rgba(60, 64, 67, 0.15);\n",
              "      fill: #174EA6;\n",
              "    }\n",
              "\n",
              "    [theme=dark] .colab-df-convert {\n",
              "      background-color: #3B4455;\n",
              "      fill: #D2E3FC;\n",
              "    }\n",
              "\n",
              "    [theme=dark] .colab-df-convert:hover {\n",
              "      background-color: #434B5C;\n",
              "      box-shadow: 0px 1px 3px 1px rgba(0, 0, 0, 0.15);\n",
              "      filter: drop-shadow(0px 1px 2px rgba(0, 0, 0, 0.3));\n",
              "      fill: #FFFFFF;\n",
              "    }\n",
              "  </style>\n",
              "\n",
              "      <script>\n",
              "        const buttonEl =\n",
              "          document.querySelector('#df-0866a161-7491-4c6e-8c96-d9bc652f43fe button.colab-df-convert');\n",
              "        buttonEl.style.display =\n",
              "          google.colab.kernel.accessAllowed ? 'block' : 'none';\n",
              "\n",
              "        async function convertToInteractive(key) {\n",
              "          const element = document.querySelector('#df-0866a161-7491-4c6e-8c96-d9bc652f43fe');\n",
              "          const dataTable =\n",
              "            await google.colab.kernel.invokeFunction('convertToInteractive',\n",
              "                                                     [key], {});\n",
              "          if (!dataTable) return;\n",
              "\n",
              "          const docLinkHtml = 'Like what you see? Visit the ' +\n",
              "            '<a target=\"_blank\" href=https://colab.research.google.com/notebooks/data_table.ipynb>data table notebook</a>'\n",
              "            + ' to learn more about interactive tables.';\n",
              "          element.innerHTML = '';\n",
              "          dataTable['output_type'] = 'display_data';\n",
              "          await google.colab.output.renderOutput(dataTable, element);\n",
              "          const docLink = document.createElement('div');\n",
              "          docLink.innerHTML = docLinkHtml;\n",
              "          element.appendChild(docLink);\n",
              "        }\n",
              "      </script>\n",
              "    </div>\n",
              "  </div>\n",
              "  "
            ]
          },
          "metadata": {},
          "execution_count": 16
        }
      ]
    },
    {
      "cell_type": "markdown",
      "source": [
        "Vamos agora dar uma olhada em cada uma das variáveis. Precisamos conhecê-las.\n",
        "\n"
      ],
      "metadata": {
        "id": "uGFk0W_NPRw5"
      }
    },
    {
      "cell_type": "markdown",
      "source": [
        "## Variáveis categóricas"
      ],
      "metadata": {
        "id": "osaOr1NsGFmZ"
      }
    },
    {
      "cell_type": "markdown",
      "source": [
        "### Variável resposta\n",
        "\n",
        "Começaremos pela **Churn**, que é será a variável resposta do nosso modelo."
      ],
      "metadata": {
        "id": "dk_tgudG6DAz"
      }
    },
    {
      "cell_type": "code",
      "source": [
        "# Verificando a frequência absoluta:\n",
        "df['Churn'].value_counts()"
      ],
      "metadata": {
        "colab": {
          "base_uri": "https://localhost:8080/"
        },
        "id": "lIWUKWTCPQCj",
        "outputId": "5d2080a0-4788-42fa-ee61-7e92d9491694"
      },
      "execution_count": null,
      "outputs": [
        {
          "output_type": "execute_result",
          "data": {
            "text/plain": [
              "No     5174\n",
              "Yes    1869\n",
              "Name: Churn, dtype: int64"
            ]
          },
          "metadata": {},
          "execution_count": 17
        }
      ]
    },
    {
      "cell_type": "code",
      "source": [
        "# Verificando a frequência relativa:\n",
        "df['Churn'].value_counts(normalize=True)"
      ],
      "metadata": {
        "colab": {
          "base_uri": "https://localhost:8080/"
        },
        "id": "d-KzmFEDLJQV",
        "outputId": "895a8655-3cd7-48c3-b914-c60f856bf1c0"
      },
      "execution_count": null,
      "outputs": [
        {
          "output_type": "execute_result",
          "data": {
            "text/plain": [
              "No     0.73463\n",
              "Yes    0.26537\n",
              "Name: Churn, dtype: float64"
            ]
          },
          "metadata": {},
          "execution_count": 18
        }
      ]
    },
    {
      "cell_type": "markdown",
      "source": [
        "Percebemos que as classes estão desbalanceadas. Vamos anotar esta informação para lidarmos com isso posteriormente.\n",
        "\n",
        "Para deixar as visualizações seguintes mais organizadas, vamos transformar o tipo da variável resposta."
      ],
      "metadata": {
        "id": "9PUsHWIgPpcF"
      }
    },
    {
      "cell_type": "code",
      "source": [
        "df['Churn'] = pd.Categorical(df['Churn'], categories=['No', 'Yes'])"
      ],
      "metadata": {
        "id": "MCiVmTMFB3Tc"
      },
      "execution_count": null,
      "outputs": []
    },
    {
      "cell_type": "markdown",
      "source": [
        "### Dados demográficos"
      ],
      "metadata": {
        "id": "8dsRgszzCh1v"
      }
    },
    {
      "cell_type": "markdown",
      "source": [
        "Vamos dar uma olhada na variável **gender** com relação à variável **Churn**"
      ],
      "metadata": {
        "id": "blk43_E6Q8e3"
      }
    },
    {
      "cell_type": "code",
      "source": [
        "sns.countplot(data=df, x='gender', hue='Churn')"
      ],
      "metadata": {
        "colab": {
          "base_uri": "https://localhost:8080/",
          "height": 515
        },
        "id": "JE8pAAYILJYO",
        "outputId": "d96179b9-60c7-487e-a914-026053c1af26"
      },
      "execution_count": null,
      "outputs": [
        {
          "output_type": "execute_result",
          "data": {
            "text/plain": [
              "<matplotlib.axes._subplots.AxesSubplot at 0x7f967ff4f990>"
            ]
          },
          "metadata": {},
          "execution_count": 20
        },
        {
          "output_type": "display_data",
          "data": {
            "text/plain": [
              "<Figure size 864x576 with 1 Axes>"
            ],
            "image/png": "[encoded data removed]"
          },
          "metadata": {
            "needs_background": "light"
          }
        }
      ]
    },
    {
      "cell_type": "markdown",
      "source": [
        "Aparentemente a variável **gender**, de forma isolada, não explica o churn. Mas é importante lembrarmos que ela pode explicar de forma conjunta com outra variável. Mas por enquanto não investigaremos isso."
      ],
      "metadata": {
        "id": "mMdk_IwhRZmF"
      }
    },
    {
      "cell_type": "markdown",
      "source": [
        "Verificando agora a **SeniorCitizen** com relação à **Churn**:"
      ],
      "metadata": {
        "id": "e8lIP-AFR3zU"
      }
    },
    {
      "cell_type": "code",
      "source": [
        "sns.countplot(data=df, x='SeniorCitizen', hue='Churn')"
      ],
      "metadata": {
        "colab": {
          "base_uri": "https://localhost:8080/",
          "height": 515
        },
        "id": "fJBA6qlLLJaB",
        "outputId": "ab6e63ea-f0f2-4dea-e6b5-1b7d9a52aad1"
      },
      "execution_count": null,
      "outputs": [
        {
          "output_type": "execute_result",
          "data": {
            "text/plain": [
              "<matplotlib.axes._subplots.AxesSubplot at 0x7f967fe59ed0>"
            ]
          },
          "metadata": {},
          "execution_count": 21
        },
        {
          "output_type": "display_data",
          "data": {
            "text/plain": [
              "<Figure size 864x576 with 1 Axes>"
            ],
            "image/png": "[encoded data removed]"
          },
          "metadata": {
            "needs_background": "light"
          }
        }
      ]
    },
    {
      "cell_type": "markdown",
      "source": [
        "Percebemos aqui que há muito mais clientes não idosos (0) do que idosos (1), e que entre os idosos a proporção de churn (laranja) é bem maior do que entre os não idosos. "
      ],
      "metadata": {
        "id": "L6SZZ85mSIa5"
      }
    },
    {
      "cell_type": "markdown",
      "source": [
        "Outra forma de analisar:"
      ],
      "metadata": {
        "id": "4Efl6CmIUJBM"
      }
    },
    {
      "cell_type": "code",
      "source": [
        "# Verificando a propoção de churn por SeniorCitizen\n",
        "pd.crosstab(df['SeniorCitizen'], df['Churn'], normalize='index')"
      ],
      "metadata": {
        "colab": {
          "base_uri": "https://localhost:8080/",
          "height": 143
        },
        "id": "GFeO62tXUJP9",
        "outputId": "afe16398-a020-4484-8718-3ae87268269e"
      },
      "execution_count": null,
      "outputs": [
        {
          "output_type": "execute_result",
          "data": {
            "text/plain": [
              "Churn                No       Yes\n",
              "SeniorCitizen                    \n",
              "0              0.763938  0.236062\n",
              "1              0.583187  0.416813"
            ],
            "text/html": [
              "\n",
              "  <div id=\"df-f01c9c43-791f-491c-a9e1-cdbcb41b9b24\">\n",
              "    <div class=\"colab-df-container\">\n",
              "      <div>\n",
              "<style scoped>\n",
              "    .dataframe tbody tr th:only-of-type {\n",
              "        vertical-align: middle;\n",
              "    }\n",
              "\n",
              "    .dataframe tbody tr th {\n",
              "        vertical-align: top;\n",
              "    }\n",
              "\n",
              "    .dataframe thead th {\n",
              "        text-align: right;\n",
              "    }\n",
              "</style>\n",
              "<table border=\"1\" class=\"dataframe\">\n",
              "  <thead>\n",
              "    <tr style=\"text-align: right;\">\n",
              "      <th>Churn</th>\n",
              "      <th>No</th>\n",
              "      <th>Yes</th>\n",
              "    </tr>\n",
              "    <tr>\n",
              "      <th>SeniorCitizen</th>\n",
              "      <th></th>\n",
              "      <th></th>\n",
              "    </tr>\n",
              "  </thead>\n",
              "  <tbody>\n",
              "    <tr>\n",
              "      <th>0</th>\n",
              "      <td>0.763938</td>\n",
              "      <td>0.236062</td>\n",
              "    </tr>\n",
              "    <tr>\n",
              "      <th>1</th>\n",
              "      <td>0.583187</td>\n",
              "      <td>0.416813</td>\n",
              "    </tr>\n",
              "  </tbody>\n",
              "</table>\n",
              "</div>\n",
              "      <button class=\"colab-df-convert\" onclick=\"convertToInteractive('df-f01c9c43-791f-491c-a9e1-cdbcb41b9b24')\"\n",
              "              title=\"Convert this dataframe to an interactive table.\"\n",
              "              style=\"display:none;\">\n",
              "        \n",
              "  <svg xmlns=\"http://www.w3.org/2000/svg\" height=\"24px\"viewBox=\"0 0 24 24\"\n",
              "       width=\"24px\">\n",
              "    <path d=\"M0 0h24v24H0V0z\" fill=\"none\"/>\n",
              "    <path d=\"M18.56 5.44l.94 2.06.94-2.06 2.06-.94-2.06-.94-.94-2.06-.94 2.06-2.06.94zm-11 1L8.5 8.5l.94-2.06 2.06-.94-2.06-.94L8.5 2.5l-.94 2.06-2.06.94zm10 10l.94 2.06.94-2.06 2.06-.94-2.06-.94-.94-2.06-.94 2.06-2.06.94z\"/><path d=\"M17.41 7.96l-1.37-1.37c-.4-.4-.92-.59-1.43-.59-.52 0-1.04.2-1.43.59L10.3 9.45l-7.72 7.72c-.78.78-.78 2.05 0 2.83L4 21.41c.39.39.9.59 1.41.59.51 0 1.02-.2 1.41-.59l7.78-7.78 2.81-2.81c.8-.78.8-2.07 0-2.86zM5.41 20L4 18.59l7.72-7.72 1.47 1.35L5.41 20z\"/>\n",
              "  </svg>\n",
              "      </button>\n",
              "      \n",
              "  <style>\n",
              "    .colab-df-container {\n",
              "      display:flex;\n",
              "      flex-wrap:wrap;\n",
              "      gap: 12px;\n",
              "    }\n",
              "\n",
              "    .colab-df-convert {\n",
              "      background-color: #E8F0FE;\n",
              "      border: none;\n",
              "      border-radius: 50%;\n",
              "      cursor: pointer;\n",
              "      display: none;\n",
              "      fill: #1967D2;\n",
              "      height: 32px;\n",
              "      padding: 0 0 0 0;\n",
              "      width: 32px;\n",
              "    }\n",
              "\n",
              "    .colab-df-convert:hover {\n",
              "      background-color: #E2EBFA;\n",
              "      box-shadow: 0px 1px 2px rgba(60, 64, 67, 0.3), 0px 1px 3px 1px rgba(60, 64, 67, 0.15);\n",
              "      fill: #174EA6;\n",
              "    }\n",
              "\n",
              "    [theme=dark] .colab-df-convert {\n",
              "      background-color: #3B4455;\n",
              "      fill: #D2E3FC;\n",
              "    }\n",
              "\n",
              "    [theme=dark] .colab-df-convert:hover {\n",
              "      background-color: #434B5C;\n",
              "      box-shadow: 0px 1px 3px 1px rgba(0, 0, 0, 0.15);\n",
              "      filter: drop-shadow(0px 1px 2px rgba(0, 0, 0, 0.3));\n",
              "      fill: #FFFFFF;\n",
              "    }\n",
              "  </style>\n",
              "\n",
              "      <script>\n",
              "        const buttonEl =\n",
              "          document.querySelector('#df-f01c9c43-791f-491c-a9e1-cdbcb41b9b24 button.colab-df-convert');\n",
              "        buttonEl.style.display =\n",
              "          google.colab.kernel.accessAllowed ? 'block' : 'none';\n",
              "\n",
              "        async function convertToInteractive(key) {\n",
              "          const element = document.querySelector('#df-f01c9c43-791f-491c-a9e1-cdbcb41b9b24');\n",
              "          const dataTable =\n",
              "            await google.colab.kernel.invokeFunction('convertToInteractive',\n",
              "                                                     [key], {});\n",
              "          if (!dataTable) return;\n",
              "\n",
              "          const docLinkHtml = 'Like what you see? Visit the ' +\n",
              "            '<a target=\"_blank\" href=https://colab.research.google.com/notebooks/data_table.ipynb>data table notebook</a>'\n",
              "            + ' to learn more about interactive tables.';\n",
              "          element.innerHTML = '';\n",
              "          dataTable['output_type'] = 'display_data';\n",
              "          await google.colab.output.renderOutput(dataTable, element);\n",
              "          const docLink = document.createElement('div');\n",
              "          docLink.innerHTML = docLinkHtml;\n",
              "          element.appendChild(docLink);\n",
              "        }\n",
              "      </script>\n",
              "    </div>\n",
              "  </div>\n",
              "  "
            ]
          },
          "metadata": {},
          "execution_count": 22
        }
      ]
    },
    {
      "cell_type": "code",
      "source": [
        "# Verificando as frequências absolutas\n",
        "pd.crosstab(df['SeniorCitizen'], df['Churn'])"
      ],
      "metadata": {
        "colab": {
          "base_uri": "https://localhost:8080/",
          "height": 143
        },
        "id": "tJnCJ3_0cO9R",
        "outputId": "1932f430-dc75-4b55-c7f8-3481a1ac47fb"
      },
      "execution_count": null,
      "outputs": [
        {
          "output_type": "execute_result",
          "data": {
            "text/plain": [
              "Churn            No   Yes\n",
              "SeniorCitizen            \n",
              "0              4508  1393\n",
              "1               666   476"
            ],
            "text/html": [
              "\n",
              "  <div id=\"df-e4d180c0-0fb5-4409-b350-8def131e5e89\">\n",
              "    <div class=\"colab-df-container\">\n",
              "      <div>\n",
              "<style scoped>\n",
              "    .dataframe tbody tr th:only-of-type {\n",
              "        vertical-align: middle;\n",
              "    }\n",
              "\n",
              "    .dataframe tbody tr th {\n",
              "        vertical-align: top;\n",
              "    }\n",
              "\n",
              "    .dataframe thead th {\n",
              "        text-align: right;\n",
              "    }\n",
              "</style>\n",
              "<table border=\"1\" class=\"dataframe\">\n",
              "  <thead>\n",
              "    <tr style=\"text-align: right;\">\n",
              "      <th>Churn</th>\n",
              "      <th>No</th>\n",
              "      <th>Yes</th>\n",
              "    </tr>\n",
              "    <tr>\n",
              "      <th>SeniorCitizen</th>\n",
              "      <th></th>\n",
              "      <th></th>\n",
              "    </tr>\n",
              "  </thead>\n",
              "  <tbody>\n",
              "    <tr>\n",
              "      <th>0</th>\n",
              "      <td>4508</td>\n",
              "      <td>1393</td>\n",
              "    </tr>\n",
              "    <tr>\n",
              "      <th>1</th>\n",
              "      <td>666</td>\n",
              "      <td>476</td>\n",
              "    </tr>\n",
              "  </tbody>\n",
              "</table>\n",
              "</div>\n",
              "      <button class=\"colab-df-convert\" onclick=\"convertToInteractive('df-e4d180c0-0fb5-4409-b350-8def131e5e89')\"\n",
              "              title=\"Convert this dataframe to an interactive table.\"\n",
              "              style=\"display:none;\">\n",
              "        \n",
              "  <svg xmlns=\"http://www.w3.org/2000/svg\" height=\"24px\"viewBox=\"0 0 24 24\"\n",
              "       width=\"24px\">\n",
              "    <path d=\"M0 0h24v24H0V0z\" fill=\"none\"/>\n",
              "    <path d=\"M18.56 5.44l.94 2.06.94-2.06 2.06-.94-2.06-.94-.94-2.06-.94 2.06-2.06.94zm-11 1L8.5 8.5l.94-2.06 2.06-.94-2.06-.94L8.5 2.5l-.94 2.06-2.06.94zm10 10l.94 2.06.94-2.06 2.06-.94-2.06-.94-.94-2.06-.94 2.06-2.06.94z\"/><path d=\"M17.41 7.96l-1.37-1.37c-.4-.4-.92-.59-1.43-.59-.52 0-1.04.2-1.43.59L10.3 9.45l-7.72 7.72c-.78.78-.78 2.05 0 2.83L4 21.41c.39.39.9.59 1.41.59.51 0 1.02-.2 1.41-.59l7.78-7.78 2.81-2.81c.8-.78.8-2.07 0-2.86zM5.41 20L4 18.59l7.72-7.72 1.47 1.35L5.41 20z\"/>\n",
              "  </svg>\n",
              "      </button>\n",
              "      \n",
              "  <style>\n",
              "    .colab-df-container {\n",
              "      display:flex;\n",
              "      flex-wrap:wrap;\n",
              "      gap: 12px;\n",
              "    }\n",
              "\n",
              "    .colab-df-convert {\n",
              "      background-color: #E8F0FE;\n",
              "      border: none;\n",
              "      border-radius: 50%;\n",
              "      cursor: pointer;\n",
              "      display: none;\n",
              "      fill: #1967D2;\n",
              "      height: 32px;\n",
              "      padding: 0 0 0 0;\n",
              "      width: 32px;\n",
              "    }\n",
              "\n",
              "    .colab-df-convert:hover {\n",
              "      background-color: #E2EBFA;\n",
              "      box-shadow: 0px 1px 2px rgba(60, 64, 67, 0.3), 0px 1px 3px 1px rgba(60, 64, 67, 0.15);\n",
              "      fill: #174EA6;\n",
              "    }\n",
              "\n",
              "    [theme=dark] .colab-df-convert {\n",
              "      background-color: #3B4455;\n",
              "      fill: #D2E3FC;\n",
              "    }\n",
              "\n",
              "    [theme=dark] .colab-df-convert:hover {\n",
              "      background-color: #434B5C;\n",
              "      box-shadow: 0px 1px 3px 1px rgba(0, 0, 0, 0.15);\n",
              "      filter: drop-shadow(0px 1px 2px rgba(0, 0, 0, 0.3));\n",
              "      fill: #FFFFFF;\n",
              "    }\n",
              "  </style>\n",
              "\n",
              "      <script>\n",
              "        const buttonEl =\n",
              "          document.querySelector('#df-e4d180c0-0fb5-4409-b350-8def131e5e89 button.colab-df-convert');\n",
              "        buttonEl.style.display =\n",
              "          google.colab.kernel.accessAllowed ? 'block' : 'none';\n",
              "\n",
              "        async function convertToInteractive(key) {\n",
              "          const element = document.querySelector('#df-e4d180c0-0fb5-4409-b350-8def131e5e89');\n",
              "          const dataTable =\n",
              "            await google.colab.kernel.invokeFunction('convertToInteractive',\n",
              "                                                     [key], {});\n",
              "          if (!dataTable) return;\n",
              "\n",
              "          const docLinkHtml = 'Like what you see? Visit the ' +\n",
              "            '<a target=\"_blank\" href=https://colab.research.google.com/notebooks/data_table.ipynb>data table notebook</a>'\n",
              "            + ' to learn more about interactive tables.';\n",
              "          element.innerHTML = '';\n",
              "          dataTable['output_type'] = 'display_data';\n",
              "          await google.colab.output.renderOutput(dataTable, element);\n",
              "          const docLink = document.createElement('div');\n",
              "          docLink.innerHTML = docLinkHtml;\n",
              "          element.appendChild(docLink);\n",
              "        }\n",
              "      </script>\n",
              "    </div>\n",
              "  </div>\n",
              "  "
            ]
          },
          "metadata": {},
          "execution_count": 23
        }
      ]
    },
    {
      "cell_type": "markdown",
      "source": [
        "Percebe-se que entre os não idosos (0), a proporção de churn é de 23%. Já entre os idosos (1), a proporção de churn é de 41%, ou seja, quase o dobro!\n",
        "\n",
        "Vamos deixar a SeniorCitizen no padrão das demais variáveis dicotômicas:"
      ],
      "metadata": {
        "id": "RfYqABGXUS_9"
      }
    },
    {
      "cell_type": "code",
      "source": [
        "df['SeniorCitizen'] = np.where(df['SeniorCitizen'] == 0, 'No', 'Yes')"
      ],
      "metadata": {
        "id": "5NKi6HC4kbZd"
      },
      "execution_count": null,
      "outputs": []
    },
    {
      "cell_type": "markdown",
      "source": [
        "Verificando agora **Partner** com relação à **Churn**:"
      ],
      "metadata": {
        "id": "Tji7NzmSD4Ro"
      }
    },
    {
      "cell_type": "code",
      "source": [
        "sns.countplot(data=df, x='Partner', hue='Churn')"
      ],
      "metadata": {
        "colab": {
          "base_uri": "https://localhost:8080/",
          "height": 515
        },
        "id": "2PFKRzLbDiAf",
        "outputId": "5c694d34-709d-46cc-83b1-314b26a5809c"
      },
      "execution_count": null,
      "outputs": [
        {
          "output_type": "execute_result",
          "data": {
            "text/plain": [
              "<matplotlib.axes._subplots.AxesSubplot at 0x7f967f91e450>"
            ]
          },
          "metadata": {},
          "execution_count": 25
        },
        {
          "output_type": "display_data",
          "data": {
            "text/plain": [
              "<Figure size 864x576 with 1 Axes>"
            ],
            "image/png": "[encoded data removed]"
          },
          "metadata": {
            "needs_background": "light"
          }
        }
      ]
    },
    {
      "cell_type": "markdown",
      "source": [
        "Aqui percebe-se que a taxa de churn é menor entre parceiros"
      ],
      "metadata": {
        "id": "J6k0a52wEEx0"
      }
    },
    {
      "cell_type": "markdown",
      "source": [
        "Agora verificaremos **Dependents** com relação à **Churn**:"
      ],
      "metadata": {
        "id": "sD5jlToiEKJ5"
      }
    },
    {
      "cell_type": "code",
      "source": [
        "sns.countplot(data=df, x='Dependents', hue='Churn')"
      ],
      "metadata": {
        "colab": {
          "base_uri": "https://localhost:8080/",
          "height": 515
        },
        "id": "QisuiWsGDiNk",
        "outputId": "fc7570fb-5680-45e5-9bf2-8c8a7c516282"
      },
      "execution_count": null,
      "outputs": [
        {
          "output_type": "execute_result",
          "data": {
            "text/plain": [
              "<matplotlib.axes._subplots.AxesSubplot at 0x7f967f885cd0>"
            ]
          },
          "metadata": {},
          "execution_count": 26
        },
        {
          "output_type": "display_data",
          "data": {
            "text/plain": [
              "<Figure size 864x576 with 1 Axes>"
            ],
            "image/png": "[encoded data removed]"
          },
          "metadata": {
            "needs_background": "light"
          }
        }
      ]
    },
    {
      "cell_type": "markdown",
      "source": [
        "Aqui percebe-se que a taxa de churn é menor entre clientes com dependentes "
      ],
      "metadata": {
        "id": "mvOqBtpeETYG"
      }
    },
    {
      "cell_type": "markdown",
      "source": [
        "### Dados de serviços"
      ],
      "metadata": {
        "id": "ut6IxMvYFCKn"
      }
    },
    {
      "cell_type": "markdown",
      "source": [
        "#### Exercício 1:\n",
        "\n",
        "Analise, interprete as proporções das variáveis abaixo com relação ao churn. Se julgar necessário, proponha e realize transformações com foco na modelagem.\n",
        "\n",
        "* PhoneService\n",
        "\n",
        "* MultipleLines\n",
        "\n",
        "* InternetService\n",
        "\n",
        "* OnlineSecurity\n",
        "\n",
        "* OnlineBackup\n",
        "\n",
        "* DeviceProtection\n",
        "\n",
        "* TechSupport\n",
        "\n",
        "* StreamingTV\n",
        "\n",
        "* StreamingMovies\n",
        "\n"
      ],
      "metadata": {
        "id": "gqiBx3WSSgva"
      }
    },
    {
      "cell_type": "code",
      "source": [
        ""
      ],
      "metadata": {
        "id": "ziXJfnLnnchX"
      },
      "execution_count": null,
      "outputs": []
    },
    {
      "cell_type": "code",
      "source": [
        ""
      ],
      "metadata": {
        "id": "696wl1bYncl8"
      },
      "execution_count": null,
      "outputs": []
    },
    {
      "cell_type": "code",
      "source": [
        ""
      ],
      "metadata": {
        "id": "HvlSxwOvncpw"
      },
      "execution_count": null,
      "outputs": []
    },
    {
      "cell_type": "code",
      "source": [
        ""
      ],
      "metadata": {
        "id": "O24n5_rdnctT"
      },
      "execution_count": null,
      "outputs": []
    },
    {
      "cell_type": "code",
      "source": [
        ""
      ],
      "metadata": {
        "id": "kdwZPonwncxB"
      },
      "execution_count": null,
      "outputs": []
    },
    {
      "cell_type": "code",
      "source": [
        ""
      ],
      "metadata": {
        "id": "etkKVePInc0Z"
      },
      "execution_count": null,
      "outputs": []
    },
    {
      "cell_type": "code",
      "source": [
        ""
      ],
      "metadata": {
        "id": "5RFqbjpYnc4V"
      },
      "execution_count": null,
      "outputs": []
    },
    {
      "cell_type": "code",
      "source": [
        ""
      ],
      "metadata": {
        "id": "L-PymhcAnc70"
      },
      "execution_count": null,
      "outputs": []
    },
    {
      "cell_type": "code",
      "source": [
        ""
      ],
      "metadata": {
        "id": "63syoCzGnc_P"
      },
      "execution_count": null,
      "outputs": []
    },
    {
      "cell_type": "code",
      "source": [
        ""
      ],
      "metadata": {
        "id": "lNTY2BGLndDY"
      },
      "execution_count": null,
      "outputs": []
    },
    {
      "cell_type": "code",
      "source": [
        ""
      ],
      "metadata": {
        "id": "Y4ye0SRSndHA"
      },
      "execution_count": null,
      "outputs": []
    },
    {
      "cell_type": "code",
      "source": [
        ""
      ],
      "metadata": {
        "id": "AWjolg92ndKE"
      },
      "execution_count": null,
      "outputs": []
    },
    {
      "cell_type": "code",
      "source": [
        ""
      ],
      "metadata": {
        "id": "Do22Y5pandNy"
      },
      "execution_count": null,
      "outputs": []
    },
    {
      "cell_type": "code",
      "source": [
        ""
      ],
      "metadata": {
        "id": "AJAwZZgWndRn"
      },
      "execution_count": null,
      "outputs": []
    },
    {
      "cell_type": "code",
      "source": [
        ""
      ],
      "metadata": {
        "id": "yhc0OwJZndVj"
      },
      "execution_count": null,
      "outputs": []
    },
    {
      "cell_type": "code",
      "source": [
        ""
      ],
      "metadata": {
        "id": "foMINqoDndY4"
      },
      "execution_count": null,
      "outputs": []
    },
    {
      "cell_type": "code",
      "source": [
        ""
      ],
      "metadata": {
        "id": "1O3ExHUandcy"
      },
      "execution_count": null,
      "outputs": []
    },
    {
      "cell_type": "code",
      "source": [
        ""
      ],
      "metadata": {
        "id": "hXrqshpJndga"
      },
      "execution_count": null,
      "outputs": []
    },
    {
      "cell_type": "code",
      "source": [
        ""
      ],
      "metadata": {
        "id": "ekt487fSndkF"
      },
      "execution_count": null,
      "outputs": []
    },
    {
      "cell_type": "code",
      "source": [
        ""
      ],
      "metadata": {
        "id": "vOXczPmVndnu"
      },
      "execution_count": null,
      "outputs": []
    },
    {
      "cell_type": "markdown",
      "source": [
        "### Exercício 2:\n",
        "\n",
        "Aplique a codificação nas variáveis categóricas conforme os exemplos e justifique a sua escolha."
      ],
      "metadata": {
        "id": "E6MaVfcDqO1t"
      }
    },
    {
      "cell_type": "markdown",
      "source": [
        "#### Exemplo Label Encoding:\n",
        "\n"
      ],
      "metadata": {
        "id": "3k4MV-f4plIi"
      }
    },
    {
      "cell_type": "code",
      "source": [
        "from sklearn.preprocessing import LabelEncoder"
      ],
      "metadata": {
        "id": "nN-qnY0Xpciy"
      },
      "execution_count": null,
      "outputs": []
    },
    {
      "cell_type": "code",
      "source": [
        "# cria um data frame para o exemplo:\n",
        "df_encoding = df[['gender', 'Contract']].copy()"
      ],
      "metadata": {
        "id": "3ra4TLa2rnwY"
      },
      "execution_count": null,
      "outputs": []
    },
    {
      "cell_type": "code",
      "source": [
        "df_encoding.head()"
      ],
      "metadata": {
        "colab": {
          "base_uri": "https://localhost:8080/",
          "height": 206
        },
        "id": "2GjG9P8zsYKW",
        "outputId": "11d8d261-6622-4ee8-91ab-016b7693e362"
      },
      "execution_count": null,
      "outputs": [
        {
          "output_type": "execute_result",
          "data": {
            "text/plain": [
              "   gender        Contract\n",
              "0  Female  Month-to-month\n",
              "1    Male        One year\n",
              "2    Male  Month-to-month\n",
              "3    Male        One year\n",
              "4  Female  Month-to-month"
            ],
            "text/html": [
              "\n",
              "  <div id=\"df-60ee9612-af95-487f-a8c1-b1d9abd42646\">\n",
              "    <div class=\"colab-df-container\">\n",
              "      <div>\n",
              "<style scoped>\n",
              "    .dataframe tbody tr th:only-of-type {\n",
              "        vertical-align: middle;\n",
              "    }\n",
              "\n",
              "    .dataframe tbody tr th {\n",
              "        vertical-align: top;\n",
              "    }\n",
              "\n",
              "    .dataframe thead th {\n",
              "        text-align: right;\n",
              "    }\n",
              "</style>\n",
              "<table border=\"1\" class=\"dataframe\">\n",
              "  <thead>\n",
              "    <tr style=\"text-align: right;\">\n",
              "      <th></th>\n",
              "      <th>gender</th>\n",
              "      <th>Contract</th>\n",
              "    </tr>\n",
              "  </thead>\n",
              "  <tbody>\n",
              "    <tr>\n",
              "      <th>0</th>\n",
              "      <td>Female</td>\n",
              "      <td>Month-to-month</td>\n",
              "    </tr>\n",
              "    <tr>\n",
              "      <th>1</th>\n",
              "      <td>Male</td>\n",
              "      <td>One year</td>\n",
              "    </tr>\n",
              "    <tr>\n",
              "      <th>2</th>\n",
              "      <td>Male</td>\n",
              "      <td>Month-to-month</td>\n",
              "    </tr>\n",
              "    <tr>\n",
              "      <th>3</th>\n",
              "      <td>Male</td>\n",
              "      <td>One year</td>\n",
              "    </tr>\n",
              "    <tr>\n",
              "      <th>4</th>\n",
              "      <td>Female</td>\n",
              "      <td>Month-to-month</td>\n",
              "    </tr>\n",
              "  </tbody>\n",
              "</table>\n",
              "</div>\n",
              "      <button class=\"colab-df-convert\" onclick=\"convertToInteractive('df-60ee9612-af95-487f-a8c1-b1d9abd42646')\"\n",
              "              title=\"Convert this dataframe to an interactive table.\"\n",
              "              style=\"display:none;\">\n",
              "        \n",
              "  <svg xmlns=\"http://www.w3.org/2000/svg\" height=\"24px\"viewBox=\"0 0 24 24\"\n",
              "       width=\"24px\">\n",
              "    <path d=\"M0 0h24v24H0V0z\" fill=\"none\"/>\n",
              "    <path d=\"M18.56 5.44l.94 2.06.94-2.06 2.06-.94-2.06-.94-.94-2.06-.94 2.06-2.06.94zm-11 1L8.5 8.5l.94-2.06 2.06-.94-2.06-.94L8.5 2.5l-.94 2.06-2.06.94zm10 10l.94 2.06.94-2.06 2.06-.94-2.06-.94-.94-2.06-.94 2.06-2.06.94z\"/><path d=\"M17.41 7.96l-1.37-1.37c-.4-.4-.92-.59-1.43-.59-.52 0-1.04.2-1.43.59L10.3 9.45l-7.72 7.72c-.78.78-.78 2.05 0 2.83L4 21.41c.39.39.9.59 1.41.59.51 0 1.02-.2 1.41-.59l7.78-7.78 2.81-2.81c.8-.78.8-2.07 0-2.86zM5.41 20L4 18.59l7.72-7.72 1.47 1.35L5.41 20z\"/>\n",
              "  </svg>\n",
              "      </button>\n",
              "      \n",
              "  <style>\n",
              "    .colab-df-container {\n",
              "      display:flex;\n",
              "      flex-wrap:wrap;\n",
              "      gap: 12px;\n",
              "    }\n",
              "\n",
              "    .colab-df-convert {\n",
              "      background-color: #E8F0FE;\n",
              "      border: none;\n",
              "      border-radius: 50%;\n",
              "      cursor: pointer;\n",
              "      display: none;\n",
              "      fill: #1967D2;\n",
              "      height: 32px;\n",
              "      padding: 0 0 0 0;\n",
              "      width: 32px;\n",
              "    }\n",
              "\n",
              "    .colab-df-convert:hover {\n",
              "      background-color: #E2EBFA;\n",
              "      box-shadow: 0px 1px 2px rgba(60, 64, 67, 0.3), 0px 1px 3px 1px rgba(60, 64, 67, 0.15);\n",
              "      fill: #174EA6;\n",
              "    }\n",
              "\n",
              "    [theme=dark] .colab-df-convert {\n",
              "      background-color: #3B4455;\n",
              "      fill: #D2E3FC;\n",
              "    }\n",
              "\n",
              "    [theme=dark] .colab-df-convert:hover {\n",
              "      background-color: #434B5C;\n",
              "      box-shadow: 0px 1px 3px 1px rgba(0, 0, 0, 0.15);\n",
              "      filter: drop-shadow(0px 1px 2px rgba(0, 0, 0, 0.3));\n",
              "      fill: #FFFFFF;\n",
              "    }\n",
              "  </style>\n",
              "\n",
              "      <script>\n",
              "        const buttonEl =\n",
              "          document.querySelector('#df-60ee9612-af95-487f-a8c1-b1d9abd42646 button.colab-df-convert');\n",
              "        buttonEl.style.display =\n",
              "          google.colab.kernel.accessAllowed ? 'block' : 'none';\n",
              "\n",
              "        async function convertToInteractive(key) {\n",
              "          const element = document.querySelector('#df-60ee9612-af95-487f-a8c1-b1d9abd42646');\n",
              "          const dataTable =\n",
              "            await google.colab.kernel.invokeFunction('convertToInteractive',\n",
              "                                                     [key], {});\n",
              "          if (!dataTable) return;\n",
              "\n",
              "          const docLinkHtml = 'Like what you see? Visit the ' +\n",
              "            '<a target=\"_blank\" href=https://colab.research.google.com/notebooks/data_table.ipynb>data table notebook</a>'\n",
              "            + ' to learn more about interactive tables.';\n",
              "          element.innerHTML = '';\n",
              "          dataTable['output_type'] = 'display_data';\n",
              "          await google.colab.output.renderOutput(dataTable, element);\n",
              "          const docLink = document.createElement('div');\n",
              "          docLink.innerHTML = docLinkHtml;\n",
              "          element.appendChild(docLink);\n",
              "        }\n",
              "      </script>\n",
              "    </div>\n",
              "  </div>\n",
              "  "
            ]
          },
          "metadata": {},
          "execution_count": 29
        }
      ]
    },
    {
      "cell_type": "code",
      "source": [
        "# aplica o label encoding:\n",
        "encoder = LabelEncoder()\n",
        "df_encoding['gender_label'] = encoder.fit_transform(df['gender'])\n",
        "df_encoding['Contract_label'] = encoder.fit_transform(df['Contract'])"
      ],
      "metadata": {
        "id": "90Huv9DRrvNi"
      },
      "execution_count": null,
      "outputs": []
    },
    {
      "cell_type": "code",
      "source": [
        "df_encoding.drop_duplicates().sort_values(by=['gender', 'Contract'])"
      ],
      "metadata": {
        "colab": {
          "base_uri": "https://localhost:8080/",
          "height": 238
        },
        "id": "qNoECHXvshpO",
        "outputId": "a5a96f9c-cb49-4d34-dfcd-94a4deb3eb7c"
      },
      "execution_count": null,
      "outputs": [
        {
          "output_type": "execute_result",
          "data": {
            "text/plain": [
              "    gender        Contract  gender_label  Contract_label\n",
              "0   Female  Month-to-month             0               0\n",
              "16  Female        One year             0               1\n",
              "15  Female        Two year             0               2\n",
              "2     Male  Month-to-month             1               0\n",
              "1     Male        One year             1               1\n",
              "11    Male        Two year             1               2"
            ],
            "text/html": [
              "\n",
              "  <div id=\"df-a2443cd3-b6f5-4b88-94db-85fc115032e8\">\n",
              "    <div class=\"colab-df-container\">\n",
              "      <div>\n",
              "<style scoped>\n",
              "    .dataframe tbody tr th:only-of-type {\n",
              "        vertical-align: middle;\n",
              "    }\n",
              "\n",
              "    .dataframe tbody tr th {\n",
              "        vertical-align: top;\n",
              "    }\n",
              "\n",
              "    .dataframe thead th {\n",
              "        text-align: right;\n",
              "    }\n",
              "</style>\n",
              "<table border=\"1\" class=\"dataframe\">\n",
              "  <thead>\n",
              "    <tr style=\"text-align: right;\">\n",
              "      <th></th>\n",
              "      <th>gender</th>\n",
              "      <th>Contract</th>\n",
              "      <th>gender_label</th>\n",
              "      <th>Contract_label</th>\n",
              "    </tr>\n",
              "  </thead>\n",
              "  <tbody>\n",
              "    <tr>\n",
              "      <th>0</th>\n",
              "      <td>Female</td>\n",
              "      <td>Month-to-month</td>\n",
              "      <td>0</td>\n",
              "      <td>0</td>\n",
              "    </tr>\n",
              "    <tr>\n",
              "      <th>16</th>\n",
              "      <td>Female</td>\n",
              "      <td>One year</td>\n",
              "      <td>0</td>\n",
              "      <td>1</td>\n",
              "    </tr>\n",
              "    <tr>\n",
              "      <th>15</th>\n",
              "      <td>Female</td>\n",
              "      <td>Two year</td>\n",
              "      <td>0</td>\n",
              "      <td>2</td>\n",
              "    </tr>\n",
              "    <tr>\n",
              "      <th>2</th>\n",
              "      <td>Male</td>\n",
              "      <td>Month-to-month</td>\n",
              "      <td>1</td>\n",
              "      <td>0</td>\n",
              "    </tr>\n",
              "    <tr>\n",
              "      <th>1</th>\n",
              "      <td>Male</td>\n",
              "      <td>One year</td>\n",
              "      <td>1</td>\n",
              "      <td>1</td>\n",
              "    </tr>\n",
              "    <tr>\n",
              "      <th>11</th>\n",
              "      <td>Male</td>\n",
              "      <td>Two year</td>\n",
              "      <td>1</td>\n",
              "      <td>2</td>\n",
              "    </tr>\n",
              "  </tbody>\n",
              "</table>\n",
              "</div>\n",
              "      <button class=\"colab-df-convert\" onclick=\"convertToInteractive('df-a2443cd3-b6f5-4b88-94db-85fc115032e8')\"\n",
              "              title=\"Convert this dataframe to an interactive table.\"\n",
              "              style=\"display:none;\">\n",
              "        \n",
              "  <svg xmlns=\"http://www.w3.org/2000/svg\" height=\"24px\"viewBox=\"0 0 24 24\"\n",
              "       width=\"24px\">\n",
              "    <path d=\"M0 0h24v24H0V0z\" fill=\"none\"/>\n",
              "    <path d=\"M18.56 5.44l.94 2.06.94-2.06 2.06-.94-2.06-.94-.94-2.06-.94 2.06-2.06.94zm-11 1L8.5 8.5l.94-2.06 2.06-.94-2.06-.94L8.5 2.5l-.94 2.06-2.06.94zm10 10l.94 2.06.94-2.06 2.06-.94-2.06-.94-.94-2.06-.94 2.06-2.06.94z\"/><path d=\"M17.41 7.96l-1.37-1.37c-.4-.4-.92-.59-1.43-.59-.52 0-1.04.2-1.43.59L10.3 9.45l-7.72 7.72c-.78.78-.78 2.05 0 2.83L4 21.41c.39.39.9.59 1.41.59.51 0 1.02-.2 1.41-.59l7.78-7.78 2.81-2.81c.8-.78.8-2.07 0-2.86zM5.41 20L4 18.59l7.72-7.72 1.47 1.35L5.41 20z\"/>\n",
              "  </svg>\n",
              "      </button>\n",
              "      \n",
              "  <style>\n",
              "    .colab-df-container {\n",
              "      display:flex;\n",
              "      flex-wrap:wrap;\n",
              "      gap: 12px;\n",
              "    }\n",
              "\n",
              "    .colab-df-convert {\n",
              "      background-color: #E8F0FE;\n",
              "      border: none;\n",
              "      border-radius: 50%;\n",
              "      cursor: pointer;\n",
              "      display: none;\n",
              "      fill: #1967D2;\n",
              "      height: 32px;\n",
              "      padding: 0 0 0 0;\n",
              "      width: 32px;\n",
              "    }\n",
              "\n",
              "    .colab-df-convert:hover {\n",
              "      background-color: #E2EBFA;\n",
              "      box-shadow: 0px 1px 2px rgba(60, 64, 67, 0.3), 0px 1px 3px 1px rgba(60, 64, 67, 0.15);\n",
              "      fill: #174EA6;\n",
              "    }\n",
              "\n",
              "    [theme=dark] .colab-df-convert {\n",
              "      background-color: #3B4455;\n",
              "      fill: #D2E3FC;\n",
              "    }\n",
              "\n",
              "    [theme=dark] .colab-df-convert:hover {\n",
              "      background-color: #434B5C;\n",
              "      box-shadow: 0px 1px 3px 1px rgba(0, 0, 0, 0.15);\n",
              "      filter: drop-shadow(0px 1px 2px rgba(0, 0, 0, 0.3));\n",
              "      fill: #FFFFFF;\n",
              "    }\n",
              "  </style>\n",
              "\n",
              "      <script>\n",
              "        const buttonEl =\n",
              "          document.querySelector('#df-a2443cd3-b6f5-4b88-94db-85fc115032e8 button.colab-df-convert');\n",
              "        buttonEl.style.display =\n",
              "          google.colab.kernel.accessAllowed ? 'block' : 'none';\n",
              "\n",
              "        async function convertToInteractive(key) {\n",
              "          const element = document.querySelector('#df-a2443cd3-b6f5-4b88-94db-85fc115032e8');\n",
              "          const dataTable =\n",
              "            await google.colab.kernel.invokeFunction('convertToInteractive',\n",
              "                                                     [key], {});\n",
              "          if (!dataTable) return;\n",
              "\n",
              "          const docLinkHtml = 'Like what you see? Visit the ' +\n",
              "            '<a target=\"_blank\" href=https://colab.research.google.com/notebooks/data_table.ipynb>data table notebook</a>'\n",
              "            + ' to learn more about interactive tables.';\n",
              "          element.innerHTML = '';\n",
              "          dataTable['output_type'] = 'display_data';\n",
              "          await google.colab.output.renderOutput(dataTable, element);\n",
              "          const docLink = document.createElement('div');\n",
              "          docLink.innerHTML = docLinkHtml;\n",
              "          element.appendChild(docLink);\n",
              "        }\n",
              "      </script>\n",
              "    </div>\n",
              "  </div>\n",
              "  "
            ]
          },
          "metadata": {},
          "execution_count": 31
        }
      ]
    },
    {
      "cell_type": "markdown",
      "source": [
        "#### Exemplo Target Encoding:\n",
        "\n"
      ],
      "metadata": {
        "id": "1Fexc5U4tQIo"
      }
    },
    {
      "cell_type": "code",
      "source": [
        "from category_encoders import TargetEncoder"
      ],
      "metadata": {
        "colab": {
          "base_uri": "https://localhost:8080/"
        },
        "id": "nGAvole9tCTE",
        "outputId": "ee1946ab-596b-4474-dbc2-8da9997feaba"
      },
      "execution_count": null,
      "outputs": [
        {
          "output_type": "stream",
          "name": "stderr",
          "text": [
            "/usr/local/lib/python3.7/dist-packages/statsmodels/tools/_testing.py:19: FutureWarning: pandas.util.testing is deprecated. Use the functions in the public API at pandas.testing instead.\n",
            "  import pandas.util.testing as tm\n"
          ]
        }
      ]
    },
    {
      "cell_type": "code",
      "source": [
        "# cria um data frame para o exemplo:\n",
        "df_encoding = df[['gender', 'Contract', 'Churn']].copy()"
      ],
      "metadata": {
        "id": "MvOwM-2uuPME"
      },
      "execution_count": null,
      "outputs": []
    },
    {
      "cell_type": "code",
      "source": [
        "# Transforma \"No\" e \"Yes\" em 1 e 0 na variável resposta:\n",
        "df_encoding['Churn'] = np.where(df_encoding['Churn'] == \"No\", 0, 1)\n",
        "\n",
        "encoder = TargetEncoder()\n",
        "df_encoding['Contract_target'] = encoder.fit_transform(df_encoding['Contract'], df_encoding['Churn'])\n",
        "\n",
        "encoder = TargetEncoder()\n",
        "df_encoding['gender_target'] = encoder.fit_transform(df_encoding['gender'], df_encoding['Churn'])"
      ],
      "metadata": {
        "id": "ZR1yzsD-tnEn"
      },
      "execution_count": null,
      "outputs": []
    },
    {
      "cell_type": "code",
      "source": [
        "df_encoding.drop_duplicates().sort_values(by=['gender', 'Contract'])"
      ],
      "metadata": {
        "colab": {
          "base_uri": "https://localhost:8080/",
          "height": 426
        },
        "id": "INvPX_vouXDK",
        "outputId": "87944556-7ee0-42bc-d92c-1677736e019d"
      },
      "execution_count": null,
      "outputs": [
        {
          "output_type": "execute_result",
          "data": {
            "text/plain": [
              "     gender        Contract  Churn  Contract_target  gender_target\n",
              "0    Female  Month-to-month      0         0.427097       0.269209\n",
              "4    Female  Month-to-month      1         0.427097       0.269209\n",
              "16   Female        One year      0         0.112695       0.269209\n",
              "173  Female        One year      1         0.112695       0.269209\n",
              "15   Female        Two year      0         0.028319       0.269209\n",
              "336  Female        Two year      1         0.028319       0.269209\n",
              "2      Male  Month-to-month      1         0.427097       0.261603\n",
              "6      Male  Month-to-month      0         0.427097       0.261603\n",
              "1      Male        One year      0         0.112695       0.261603\n",
              "335    Male        One year      1         0.112695       0.261603\n",
              "11     Male        Two year      0         0.028319       0.261603\n",
              "104    Male        Two year      1         0.028319       0.261603"
            ],
            "text/html": [
              "\n",
              "  <div id=\"df-0fa27536-2cc4-4642-9cdf-a1fb8e868a0b\">\n",
              "    <div class=\"colab-df-container\">\n",
              "      <div>\n",
              "<style scoped>\n",
              "    .dataframe tbody tr th:only-of-type {\n",
              "        vertical-align: middle;\n",
              "    }\n",
              "\n",
              "    .dataframe tbody tr th {\n",
              "        vertical-align: top;\n",
              "    }\n",
              "\n",
              "    .dataframe thead th {\n",
              "        text-align: right;\n",
              "    }\n",
              "</style>\n",
              "<table border=\"1\" class=\"dataframe\">\n",
              "  <thead>\n",
              "    <tr style=\"text-align: right;\">\n",
              "      <th></th>\n",
              "      <th>gender</th>\n",
              "      <th>Contract</th>\n",
              "      <th>Churn</th>\n",
              "      <th>Contract_target</th>\n",
              "      <th>gender_target</th>\n",
              "    </tr>\n",
              "  </thead>\n",
              "  <tbody>\n",
              "    <tr>\n",
              "      <th>0</th>\n",
              "      <td>Female</td>\n",
              "      <td>Month-to-month</td>\n",
              "      <td>0</td>\n",
              "      <td>0.427097</td>\n",
              "      <td>0.269209</td>\n",
              "    </tr>\n",
              "    <tr>\n",
              "      <th>4</th>\n",
              "      <td>Female</td>\n",
              "      <td>Month-to-month</td>\n",
              "      <td>1</td>\n",
              "      <td>0.427097</td>\n",
              "      <td>0.269209</td>\n",
              "    </tr>\n",
              "    <tr>\n",
              "      <th>16</th>\n",
              "      <td>Female</td>\n",
              "      <td>One year</td>\n",
              "      <td>0</td>\n",
              "      <td>0.112695</td>\n",
              "      <td>0.269209</td>\n",
              "    </tr>\n",
              "    <tr>\n",
              "      <th>173</th>\n",
              "      <td>Female</td>\n",
              "      <td>One year</td>\n",
              "      <td>1</td>\n",
              "      <td>0.112695</td>\n",
              "      <td>0.269209</td>\n",
              "    </tr>\n",
              "    <tr>\n",
              "      <th>15</th>\n",
              "      <td>Female</td>\n",
              "      <td>Two year</td>\n",
              "      <td>0</td>\n",
              "      <td>0.028319</td>\n",
              "      <td>0.269209</td>\n",
              "    </tr>\n",
              "    <tr>\n",
              "      <th>336</th>\n",
              "      <td>Female</td>\n",
              "      <td>Two year</td>\n",
              "      <td>1</td>\n",
              "      <td>0.028319</td>\n",
              "      <td>0.269209</td>\n",
              "    </tr>\n",
              "    <tr>\n",
              "      <th>2</th>\n",
              "      <td>Male</td>\n",
              "      <td>Month-to-month</td>\n",
              "      <td>1</td>\n",
              "      <td>0.427097</td>\n",
              "      <td>0.261603</td>\n",
              "    </tr>\n",
              "    <tr>\n",
              "      <th>6</th>\n",
              "      <td>Male</td>\n",
              "      <td>Month-to-month</td>\n",
              "      <td>0</td>\n",
              "      <td>0.427097</td>\n",
              "      <td>0.261603</td>\n",
              "    </tr>\n",
              "    <tr>\n",
              "      <th>1</th>\n",
              "      <td>Male</td>\n",
              "      <td>One year</td>\n",
              "      <td>0</td>\n",
              "      <td>0.112695</td>\n",
              "      <td>0.261603</td>\n",
              "    </tr>\n",
              "    <tr>\n",
              "      <th>335</th>\n",
              "      <td>Male</td>\n",
              "      <td>One year</td>\n",
              "      <td>1</td>\n",
              "      <td>0.112695</td>\n",
              "      <td>0.261603</td>\n",
              "    </tr>\n",
              "    <tr>\n",
              "      <th>11</th>\n",
              "      <td>Male</td>\n",
              "      <td>Two year</td>\n",
              "      <td>0</td>\n",
              "      <td>0.028319</td>\n",
              "      <td>0.261603</td>\n",
              "    </tr>\n",
              "    <tr>\n",
              "      <th>104</th>\n",
              "      <td>Male</td>\n",
              "      <td>Two year</td>\n",
              "      <td>1</td>\n",
              "      <td>0.028319</td>\n",
              "      <td>0.261603</td>\n",
              "    </tr>\n",
              "  </tbody>\n",
              "</table>\n",
              "</div>\n",
              "      <button class=\"colab-df-convert\" onclick=\"convertToInteractive('df-0fa27536-2cc4-4642-9cdf-a1fb8e868a0b')\"\n",
              "              title=\"Convert this dataframe to an interactive table.\"\n",
              "              style=\"display:none;\">\n",
              "        \n",
              "  <svg xmlns=\"http://www.w3.org/2000/svg\" height=\"24px\"viewBox=\"0 0 24 24\"\n",
              "       width=\"24px\">\n",
              "    <path d=\"M0 0h24v24H0V0z\" fill=\"none\"/>\n",
              "    <path d=\"M18.56 5.44l.94 2.06.94-2.06 2.06-.94-2.06-.94-.94-2.06-.94 2.06-2.06.94zm-11 1L8.5 8.5l.94-2.06 2.06-.94-2.06-.94L8.5 2.5l-.94 2.06-2.06.94zm10 10l.94 2.06.94-2.06 2.06-.94-2.06-.94-.94-2.06-.94 2.06-2.06.94z\"/><path d=\"M17.41 7.96l-1.37-1.37c-.4-.4-.92-.59-1.43-.59-.52 0-1.04.2-1.43.59L10.3 9.45l-7.72 7.72c-.78.78-.78 2.05 0 2.83L4 21.41c.39.39.9.59 1.41.59.51 0 1.02-.2 1.41-.59l7.78-7.78 2.81-2.81c.8-.78.8-2.07 0-2.86zM5.41 20L4 18.59l7.72-7.72 1.47 1.35L5.41 20z\"/>\n",
              "  </svg>\n",
              "      </button>\n",
              "      \n",
              "  <style>\n",
              "    .colab-df-container {\n",
              "      display:flex;\n",
              "      flex-wrap:wrap;\n",
              "      gap: 12px;\n",
              "    }\n",
              "\n",
              "    .colab-df-convert {\n",
              "      background-color: #E8F0FE;\n",
              "      border: none;\n",
              "      border-radius: 50%;\n",
              "      cursor: pointer;\n",
              "      display: none;\n",
              "      fill: #1967D2;\n",
              "      height: 32px;\n",
              "      padding: 0 0 0 0;\n",
              "      width: 32px;\n",
              "    }\n",
              "\n",
              "    .colab-df-convert:hover {\n",
              "      background-color: #E2EBFA;\n",
              "      box-shadow: 0px 1px 2px rgba(60, 64, 67, 0.3), 0px 1px 3px 1px rgba(60, 64, 67, 0.15);\n",
              "      fill: #174EA6;\n",
              "    }\n",
              "\n",
              "    [theme=dark] .colab-df-convert {\n",
              "      background-color: #3B4455;\n",
              "      fill: #D2E3FC;\n",
              "    }\n",
              "\n",
              "    [theme=dark] .colab-df-convert:hover {\n",
              "      background-color: #434B5C;\n",
              "      box-shadow: 0px 1px 3px 1px rgba(0, 0, 0, 0.15);\n",
              "      filter: drop-shadow(0px 1px 2px rgba(0, 0, 0, 0.3));\n",
              "      fill: #FFFFFF;\n",
              "    }\n",
              "  </style>\n",
              "\n",
              "      <script>\n",
              "        const buttonEl =\n",
              "          document.querySelector('#df-0fa27536-2cc4-4642-9cdf-a1fb8e868a0b button.colab-df-convert');\n",
              "        buttonEl.style.display =\n",
              "          google.colab.kernel.accessAllowed ? 'block' : 'none';\n",
              "\n",
              "        async function convertToInteractive(key) {\n",
              "          const element = document.querySelector('#df-0fa27536-2cc4-4642-9cdf-a1fb8e868a0b');\n",
              "          const dataTable =\n",
              "            await google.colab.kernel.invokeFunction('convertToInteractive',\n",
              "                                                     [key], {});\n",
              "          if (!dataTable) return;\n",
              "\n",
              "          const docLinkHtml = 'Like what you see? Visit the ' +\n",
              "            '<a target=\"_blank\" href=https://colab.research.google.com/notebooks/data_table.ipynb>data table notebook</a>'\n",
              "            + ' to learn more about interactive tables.';\n",
              "          element.innerHTML = '';\n",
              "          dataTable['output_type'] = 'display_data';\n",
              "          await google.colab.output.renderOutput(dataTable, element);\n",
              "          const docLink = document.createElement('div');\n",
              "          docLink.innerHTML = docLinkHtml;\n",
              "          element.appendChild(docLink);\n",
              "        }\n",
              "      </script>\n",
              "    </div>\n",
              "  </div>\n",
              "  "
            ]
          },
          "metadata": {},
          "execution_count": 35
        }
      ]
    },
    {
      "cell_type": "markdown",
      "source": [
        "#### Exemplo One-Hot Encoding:"
      ],
      "metadata": {
        "id": "FjajUtiqwSpy"
      }
    },
    {
      "cell_type": "code",
      "source": [
        "# cria um data frame para o exemplo:\n",
        "df_encoding = df[['gender', 'Contract']].copy()"
      ],
      "metadata": {
        "id": "6wB7_rP3uw0y"
      },
      "execution_count": null,
      "outputs": []
    },
    {
      "cell_type": "code",
      "source": [
        "df_encoding = pd.get_dummies(df_encoding)"
      ],
      "metadata": {
        "id": "ybiWdGoYwoGL"
      },
      "execution_count": null,
      "outputs": []
    },
    {
      "cell_type": "code",
      "source": [
        "df_encoding.drop_duplicates()"
      ],
      "metadata": {
        "colab": {
          "base_uri": "https://localhost:8080/",
          "height": 238
        },
        "id": "T3UpBvyOvEHa",
        "outputId": "ee902223-549e-4fad-a8a6-8d7fec5dcf50"
      },
      "execution_count": null,
      "outputs": [
        {
          "output_type": "execute_result",
          "data": {
            "text/plain": [
              "    gender_Female  gender_Male  Contract_Month-to-month  Contract_One year  \\\n",
              "0               1            0                        1                  0   \n",
              "1               0            1                        0                  1   \n",
              "2               0            1                        1                  0   \n",
              "11              0            1                        0                  0   \n",
              "15              1            0                        0                  0   \n",
              "16              1            0                        0                  1   \n",
              "\n",
              "    Contract_Two year  \n",
              "0                   0  \n",
              "1                   0  \n",
              "2                   0  \n",
              "11                  1  \n",
              "15                  1  \n",
              "16                  0  "
            ],
            "text/html": [
              "\n",
              "  <div id=\"df-ef0a718f-73ee-43df-bb70-2255b8028fee\">\n",
              "    <div class=\"colab-df-container\">\n",
              "      <div>\n",
              "<style scoped>\n",
              "    .dataframe tbody tr th:only-of-type {\n",
              "        vertical-align: middle;\n",
              "    }\n",
              "\n",
              "    .dataframe tbody tr th {\n",
              "        vertical-align: top;\n",
              "    }\n",
              "\n",
              "    .dataframe thead th {\n",
              "        text-align: right;\n",
              "    }\n",
              "</style>\n",
              "<table border=\"1\" class=\"dataframe\">\n",
              "  <thead>\n",
              "    <tr style=\"text-align: right;\">\n",
              "      <th></th>\n",
              "      <th>gender_Female</th>\n",
              "      <th>gender_Male</th>\n",
              "      <th>Contract_Month-to-month</th>\n",
              "      <th>Contract_One year</th>\n",
              "      <th>Contract_Two year</th>\n",
              "    </tr>\n",
              "  </thead>\n",
              "  <tbody>\n",
              "    <tr>\n",
              "      <th>0</th>\n",
              "      <td>1</td>\n",
              "      <td>0</td>\n",
              "      <td>1</td>\n",
              "      <td>0</td>\n",
              "      <td>0</td>\n",
              "    </tr>\n",
              "    <tr>\n",
              "      <th>1</th>\n",
              "      <td>0</td>\n",
              "      <td>1</td>\n",
              "      <td>0</td>\n",
              "      <td>1</td>\n",
              "      <td>0</td>\n",
              "    </tr>\n",
              "    <tr>\n",
              "      <th>2</th>\n",
              "      <td>0</td>\n",
              "      <td>1</td>\n",
              "      <td>1</td>\n",
              "      <td>0</td>\n",
              "      <td>0</td>\n",
              "    </tr>\n",
              "    <tr>\n",
              "      <th>11</th>\n",
              "      <td>0</td>\n",
              "      <td>1</td>\n",
              "      <td>0</td>\n",
              "      <td>0</td>\n",
              "      <td>1</td>\n",
              "    </tr>\n",
              "    <tr>\n",
              "      <th>15</th>\n",
              "      <td>1</td>\n",
              "      <td>0</td>\n",
              "      <td>0</td>\n",
              "      <td>0</td>\n",
              "      <td>1</td>\n",
              "    </tr>\n",
              "    <tr>\n",
              "      <th>16</th>\n",
              "      <td>1</td>\n",
              "      <td>0</td>\n",
              "      <td>0</td>\n",
              "      <td>1</td>\n",
              "      <td>0</td>\n",
              "    </tr>\n",
              "  </tbody>\n",
              "</table>\n",
              "</div>\n",
              "      <button class=\"colab-df-convert\" onclick=\"convertToInteractive('df-ef0a718f-73ee-43df-bb70-2255b8028fee')\"\n",
              "              title=\"Convert this dataframe to an interactive table.\"\n",
              "              style=\"display:none;\">\n",
              "        \n",
              "  <svg xmlns=\"http://www.w3.org/2000/svg\" height=\"24px\"viewBox=\"0 0 24 24\"\n",
              "       width=\"24px\">\n",
              "    <path d=\"M0 0h24v24H0V0z\" fill=\"none\"/>\n",
              "    <path d=\"M18.56 5.44l.94 2.06.94-2.06 2.06-.94-2.06-.94-.94-2.06-.94 2.06-2.06.94zm-11 1L8.5 8.5l.94-2.06 2.06-.94-2.06-.94L8.5 2.5l-.94 2.06-2.06.94zm10 10l.94 2.06.94-2.06 2.06-.94-2.06-.94-.94-2.06-.94 2.06-2.06.94z\"/><path d=\"M17.41 7.96l-1.37-1.37c-.4-.4-.92-.59-1.43-.59-.52 0-1.04.2-1.43.59L10.3 9.45l-7.72 7.72c-.78.78-.78 2.05 0 2.83L4 21.41c.39.39.9.59 1.41.59.51 0 1.02-.2 1.41-.59l7.78-7.78 2.81-2.81c.8-.78.8-2.07 0-2.86zM5.41 20L4 18.59l7.72-7.72 1.47 1.35L5.41 20z\"/>\n",
              "  </svg>\n",
              "      </button>\n",
              "      \n",
              "  <style>\n",
              "    .colab-df-container {\n",
              "      display:flex;\n",
              "      flex-wrap:wrap;\n",
              "      gap: 12px;\n",
              "    }\n",
              "\n",
              "    .colab-df-convert {\n",
              "      background-color: #E8F0FE;\n",
              "      border: none;\n",
              "      border-radius: 50%;\n",
              "      cursor: pointer;\n",
              "      display: none;\n",
              "      fill: #1967D2;\n",
              "      height: 32px;\n",
              "      padding: 0 0 0 0;\n",
              "      width: 32px;\n",
              "    }\n",
              "\n",
              "    .colab-df-convert:hover {\n",
              "      background-color: #E2EBFA;\n",
              "      box-shadow: 0px 1px 2px rgba(60, 64, 67, 0.3), 0px 1px 3px 1px rgba(60, 64, 67, 0.15);\n",
              "      fill: #174EA6;\n",
              "    }\n",
              "\n",
              "    [theme=dark] .colab-df-convert {\n",
              "      background-color: #3B4455;\n",
              "      fill: #D2E3FC;\n",
              "    }\n",
              "\n",
              "    [theme=dark] .colab-df-convert:hover {\n",
              "      background-color: #434B5C;\n",
              "      box-shadow: 0px 1px 3px 1px rgba(0, 0, 0, 0.15);\n",
              "      filter: drop-shadow(0px 1px 2px rgba(0, 0, 0, 0.3));\n",
              "      fill: #FFFFFF;\n",
              "    }\n",
              "  </style>\n",
              "\n",
              "      <script>\n",
              "        const buttonEl =\n",
              "          document.querySelector('#df-ef0a718f-73ee-43df-bb70-2255b8028fee button.colab-df-convert');\n",
              "        buttonEl.style.display =\n",
              "          google.colab.kernel.accessAllowed ? 'block' : 'none';\n",
              "\n",
              "        async function convertToInteractive(key) {\n",
              "          const element = document.querySelector('#df-ef0a718f-73ee-43df-bb70-2255b8028fee');\n",
              "          const dataTable =\n",
              "            await google.colab.kernel.invokeFunction('convertToInteractive',\n",
              "                                                     [key], {});\n",
              "          if (!dataTable) return;\n",
              "\n",
              "          const docLinkHtml = 'Like what you see? Visit the ' +\n",
              "            '<a target=\"_blank\" href=https://colab.research.google.com/notebooks/data_table.ipynb>data table notebook</a>'\n",
              "            + ' to learn more about interactive tables.';\n",
              "          element.innerHTML = '';\n",
              "          dataTable['output_type'] = 'display_data';\n",
              "          await google.colab.output.renderOutput(dataTable, element);\n",
              "          const docLink = document.createElement('div');\n",
              "          docLink.innerHTML = docLinkHtml;\n",
              "          element.appendChild(docLink);\n",
              "        }\n",
              "      </script>\n",
              "    </div>\n",
              "  </div>\n",
              "  "
            ]
          },
          "metadata": {},
          "execution_count": 38
        }
      ]
    },
    {
      "cell_type": "markdown",
      "source": [
        "#### Exemplo Dummy Encoding:"
      ],
      "metadata": {
        "id": "mSWQSV4iyNmJ"
      }
    },
    {
      "cell_type": "code",
      "source": [
        "# cria um data frame para o exemplo:\n",
        "df_encoding = df[['gender', 'Contract']].copy()"
      ],
      "metadata": {
        "id": "sYv-wQX9yHeY"
      },
      "execution_count": null,
      "outputs": []
    },
    {
      "cell_type": "code",
      "source": [
        "df_encoding = pd.get_dummies(df_encoding, drop_first=True)"
      ],
      "metadata": {
        "id": "Pn2oAN7fyXWp"
      },
      "execution_count": null,
      "outputs": []
    },
    {
      "cell_type": "code",
      "source": [
        "df_encoding.drop_duplicates()"
      ],
      "metadata": {
        "colab": {
          "base_uri": "https://localhost:8080/",
          "height": 238
        },
        "id": "6YnpBtv1yeGI",
        "outputId": "148cde7b-8a3e-4237-f48f-4631863c7999"
      },
      "execution_count": null,
      "outputs": [
        {
          "output_type": "execute_result",
          "data": {
            "text/plain": [
              "    gender_Male  Contract_One year  Contract_Two year\n",
              "0             0                  0                  0\n",
              "1             1                  1                  0\n",
              "2             1                  0                  0\n",
              "11            1                  0                  1\n",
              "15            0                  0                  1\n",
              "16            0                  1                  0"
            ],
            "text/html": [
              "\n",
              "  <div id=\"df-d9304139-b22f-4def-919f-d0b886774124\">\n",
              "    <div class=\"colab-df-container\">\n",
              "      <div>\n",
              "<style scoped>\n",
              "    .dataframe tbody tr th:only-of-type {\n",
              "        vertical-align: middle;\n",
              "    }\n",
              "\n",
              "    .dataframe tbody tr th {\n",
              "        vertical-align: top;\n",
              "    }\n",
              "\n",
              "    .dataframe thead th {\n",
              "        text-align: right;\n",
              "    }\n",
              "</style>\n",
              "<table border=\"1\" class=\"dataframe\">\n",
              "  <thead>\n",
              "    <tr style=\"text-align: right;\">\n",
              "      <th></th>\n",
              "      <th>gender_Male</th>\n",
              "      <th>Contract_One year</th>\n",
              "      <th>Contract_Two year</th>\n",
              "    </tr>\n",
              "  </thead>\n",
              "  <tbody>\n",
              "    <tr>\n",
              "      <th>0</th>\n",
              "      <td>0</td>\n",
              "      <td>0</td>\n",
              "      <td>0</td>\n",
              "    </tr>\n",
              "    <tr>\n",
              "      <th>1</th>\n",
              "      <td>1</td>\n",
              "      <td>1</td>\n",
              "      <td>0</td>\n",
              "    </tr>\n",
              "    <tr>\n",
              "      <th>2</th>\n",
              "      <td>1</td>\n",
              "      <td>0</td>\n",
              "      <td>0</td>\n",
              "    </tr>\n",
              "    <tr>\n",
              "      <th>11</th>\n",
              "      <td>1</td>\n",
              "      <td>0</td>\n",
              "      <td>1</td>\n",
              "    </tr>\n",
              "    <tr>\n",
              "      <th>15</th>\n",
              "      <td>0</td>\n",
              "      <td>0</td>\n",
              "      <td>1</td>\n",
              "    </tr>\n",
              "    <tr>\n",
              "      <th>16</th>\n",
              "      <td>0</td>\n",
              "      <td>1</td>\n",
              "      <td>0</td>\n",
              "    </tr>\n",
              "  </tbody>\n",
              "</table>\n",
              "</div>\n",
              "      <button class=\"colab-df-convert\" onclick=\"convertToInteractive('df-d9304139-b22f-4def-919f-d0b886774124')\"\n",
              "              title=\"Convert this dataframe to an interactive table.\"\n",
              "              style=\"display:none;\">\n",
              "        \n",
              "  <svg xmlns=\"http://www.w3.org/2000/svg\" height=\"24px\"viewBox=\"0 0 24 24\"\n",
              "       width=\"24px\">\n",
              "    <path d=\"M0 0h24v24H0V0z\" fill=\"none\"/>\n",
              "    <path d=\"M18.56 5.44l.94 2.06.94-2.06 2.06-.94-2.06-.94-.94-2.06-.94 2.06-2.06.94zm-11 1L8.5 8.5l.94-2.06 2.06-.94-2.06-.94L8.5 2.5l-.94 2.06-2.06.94zm10 10l.94 2.06.94-2.06 2.06-.94-2.06-.94-.94-2.06-.94 2.06-2.06.94z\"/><path d=\"M17.41 7.96l-1.37-1.37c-.4-.4-.92-.59-1.43-.59-.52 0-1.04.2-1.43.59L10.3 9.45l-7.72 7.72c-.78.78-.78 2.05 0 2.83L4 21.41c.39.39.9.59 1.41.59.51 0 1.02-.2 1.41-.59l7.78-7.78 2.81-2.81c.8-.78.8-2.07 0-2.86zM5.41 20L4 18.59l7.72-7.72 1.47 1.35L5.41 20z\"/>\n",
              "  </svg>\n",
              "      </button>\n",
              "      \n",
              "  <style>\n",
              "    .colab-df-container {\n",
              "      display:flex;\n",
              "      flex-wrap:wrap;\n",
              "      gap: 12px;\n",
              "    }\n",
              "\n",
              "    .colab-df-convert {\n",
              "      background-color: #E8F0FE;\n",
              "      border: none;\n",
              "      border-radius: 50%;\n",
              "      cursor: pointer;\n",
              "      display: none;\n",
              "      fill: #1967D2;\n",
              "      height: 32px;\n",
              "      padding: 0 0 0 0;\n",
              "      width: 32px;\n",
              "    }\n",
              "\n",
              "    .colab-df-convert:hover {\n",
              "      background-color: #E2EBFA;\n",
              "      box-shadow: 0px 1px 2px rgba(60, 64, 67, 0.3), 0px 1px 3px 1px rgba(60, 64, 67, 0.15);\n",
              "      fill: #174EA6;\n",
              "    }\n",
              "\n",
              "    [theme=dark] .colab-df-convert {\n",
              "      background-color: #3B4455;\n",
              "      fill: #D2E3FC;\n",
              "    }\n",
              "\n",
              "    [theme=dark] .colab-df-convert:hover {\n",
              "      background-color: #434B5C;\n",
              "      box-shadow: 0px 1px 3px 1px rgba(0, 0, 0, 0.15);\n",
              "      filter: drop-shadow(0px 1px 2px rgba(0, 0, 0, 0.3));\n",
              "      fill: #FFFFFF;\n",
              "    }\n",
              "  </style>\n",
              "\n",
              "      <script>\n",
              "        const buttonEl =\n",
              "          document.querySelector('#df-d9304139-b22f-4def-919f-d0b886774124 button.colab-df-convert');\n",
              "        buttonEl.style.display =\n",
              "          google.colab.kernel.accessAllowed ? 'block' : 'none';\n",
              "\n",
              "        async function convertToInteractive(key) {\n",
              "          const element = document.querySelector('#df-d9304139-b22f-4def-919f-d0b886774124');\n",
              "          const dataTable =\n",
              "            await google.colab.kernel.invokeFunction('convertToInteractive',\n",
              "                                                     [key], {});\n",
              "          if (!dataTable) return;\n",
              "\n",
              "          const docLinkHtml = 'Like what you see? Visit the ' +\n",
              "            '<a target=\"_blank\" href=https://colab.research.google.com/notebooks/data_table.ipynb>data table notebook</a>'\n",
              "            + ' to learn more about interactive tables.';\n",
              "          element.innerHTML = '';\n",
              "          dataTable['output_type'] = 'display_data';\n",
              "          await google.colab.output.renderOutput(dataTable, element);\n",
              "          const docLink = document.createElement('div');\n",
              "          docLink.innerHTML = docLinkHtml;\n",
              "          element.appendChild(docLink);\n",
              "        }\n",
              "      </script>\n",
              "    </div>\n",
              "  </div>\n",
              "  "
            ]
          },
          "metadata": {},
          "execution_count": 41
        }
      ]
    },
    {
      "cell_type": "code",
      "source": [
        ""
      ],
      "metadata": {
        "id": "TmN_RKzEngWZ"
      },
      "execution_count": null,
      "outputs": []
    },
    {
      "cell_type": "code",
      "source": [
        ""
      ],
      "metadata": {
        "id": "Nh2YDP6jngaD"
      },
      "execution_count": null,
      "outputs": []
    },
    {
      "cell_type": "code",
      "source": [
        ""
      ],
      "metadata": {
        "id": "-f21EePCngdA"
      },
      "execution_count": null,
      "outputs": []
    },
    {
      "cell_type": "code",
      "source": [
        ""
      ],
      "metadata": {
        "id": "h96_zYlqnggU"
      },
      "execution_count": null,
      "outputs": []
    },
    {
      "cell_type": "code",
      "source": [
        ""
      ],
      "metadata": {
        "id": "DAjs5YYnngjy"
      },
      "execution_count": null,
      "outputs": []
    },
    {
      "cell_type": "code",
      "source": [
        ""
      ],
      "metadata": {
        "id": "PSoc6LXkngnM"
      },
      "execution_count": null,
      "outputs": []
    },
    {
      "cell_type": "code",
      "source": [
        ""
      ],
      "metadata": {
        "id": "xoPPiVWJngqx"
      },
      "execution_count": null,
      "outputs": []
    },
    {
      "cell_type": "code",
      "source": [
        ""
      ],
      "metadata": {
        "id": "SkwbMuownguE"
      },
      "execution_count": null,
      "outputs": []
    },
    {
      "cell_type": "code",
      "source": [
        ""
      ],
      "metadata": {
        "id": "MvnNKVtbngxR"
      },
      "execution_count": null,
      "outputs": []
    },
    {
      "cell_type": "code",
      "source": [
        ""
      ],
      "metadata": {
        "id": "p8XJ6rqGng04"
      },
      "execution_count": null,
      "outputs": []
    },
    {
      "cell_type": "code",
      "source": [
        ""
      ],
      "metadata": {
        "id": "7LTWkULRng4U"
      },
      "execution_count": null,
      "outputs": []
    },
    {
      "cell_type": "code",
      "source": [
        ""
      ],
      "metadata": {
        "id": "31OBYvKwng79"
      },
      "execution_count": null,
      "outputs": []
    },
    {
      "cell_type": "code",
      "source": [
        ""
      ],
      "metadata": {
        "id": "Tdtp8Tgyng_e"
      },
      "execution_count": null,
      "outputs": []
    },
    {
      "cell_type": "code",
      "source": [
        ""
      ],
      "metadata": {
        "id": "KKz3RZ3OnhGS"
      },
      "execution_count": null,
      "outputs": []
    },
    {
      "cell_type": "code",
      "source": [
        ""
      ],
      "metadata": {
        "id": "61u0xgR0nhPa"
      },
      "execution_count": null,
      "outputs": []
    },
    {
      "cell_type": "code",
      "source": [
        ""
      ],
      "metadata": {
        "id": "UyNysf_YnhUr"
      },
      "execution_count": null,
      "outputs": []
    },
    {
      "cell_type": "code",
      "source": [
        ""
      ],
      "metadata": {
        "id": "tbkmFIC5nhYB"
      },
      "execution_count": null,
      "outputs": []
    },
    {
      "cell_type": "code",
      "source": [
        ""
      ],
      "metadata": {
        "id": "WZ0dG3_Fnhby"
      },
      "execution_count": null,
      "outputs": []
    },
    {
      "cell_type": "code",
      "source": [
        ""
      ],
      "metadata": {
        "id": "rFoYdM9ynhkQ"
      },
      "execution_count": null,
      "outputs": []
    },
    {
      "cell_type": "code",
      "source": [
        ""
      ],
      "metadata": {
        "id": "5D38TqyNnhn3"
      },
      "execution_count": null,
      "outputs": []
    },
    {
      "cell_type": "markdown",
      "source": [
        "Pra continuar com o exemplo, aplicaremos o One-Hot encoding. Mas esta escolha está sendo aleatória. Decida o melhor encoding e aplique"
      ],
      "metadata": {
        "id": "qwMeYZt5nixf"
      }
    },
    {
      "cell_type": "code",
      "source": [
        "# Aplicando o dummy encoding em todas as categóricas\n",
        "# Atribuindo a um novo data frame para não perder os dados originais\n",
        "df_new = pd.get_dummies(df)"
      ],
      "metadata": {
        "id": "QLOvpo1u68H9"
      },
      "execution_count": null,
      "outputs": []
    },
    {
      "cell_type": "code",
      "source": [
        "# Organizando a ordem das colunas:\n",
        "first_column = df_new.pop('Churn_Yes')\n",
        "df_new.insert(0, 'Churn', first_column)"
      ],
      "metadata": {
        "id": "O7NXjpoY7Fva"
      },
      "execution_count": null,
      "outputs": []
    },
    {
      "cell_type": "code",
      "source": [
        "df_new.head()"
      ],
      "metadata": {
        "colab": {
          "base_uri": "https://localhost:8080/",
          "height": 305
        },
        "id": "mtu2CRHB7kVP",
        "outputId": "3375c5b4-958c-4618-f7f8-68ca517896b3"
      },
      "execution_count": null,
      "outputs": [
        {
          "output_type": "execute_result",
          "data": {
            "text/plain": [
              "   Churn  tenure  MonthlyCharges  TotalCharges  gender_Female  gender_Male  \\\n",
              "0      0       1           29.85         29.85              1            0   \n",
              "1      0      34           56.95       1889.50              0            1   \n",
              "2      1       2           53.85        108.15              0            1   \n",
              "3      0      45           42.30       1840.75              0            1   \n",
              "4      1       2           70.70        151.65              1            0   \n",
              "\n",
              "   SeniorCitizen_No  SeniorCitizen_Yes  Partner_No  Partner_Yes  \\\n",
              "0                 1                  0           0            1   \n",
              "1                 1                  0           1            0   \n",
              "2                 1                  0           1            0   \n",
              "3                 1                  0           1            0   \n",
              "4                 1                  0           1            0   \n",
              "\n",
              "   Dependents_No  Dependents_Yes  PhoneService_No  PhoneService_Yes  \\\n",
              "0              1               0                1                 0   \n",
              "1              1               0                0                 1   \n",
              "2              1               0                0                 1   \n",
              "3              1               0                1                 0   \n",
              "4              1               0                0                 1   \n",
              "\n",
              "   MultipleLines_No  MultipleLines_No phone service  MultipleLines_Yes  \\\n",
              "0                 0                               1                  0   \n",
              "1                 1                               0                  0   \n",
              "2                 1                               0                  0   \n",
              "3                 0                               1                  0   \n",
              "4                 1                               0                  0   \n",
              "\n",
              "   InternetService_DSL  InternetService_Fiber optic  InternetService_No  \\\n",
              "0                    1                            0                   0   \n",
              "1                    1                            0                   0   \n",
              "2                    1                            0                   0   \n",
              "3                    1                            0                   0   \n",
              "4                    0                            1                   0   \n",
              "\n",
              "   OnlineSecurity_No  OnlineSecurity_No internet service  OnlineSecurity_Yes  \\\n",
              "0                  1                                   0                   0   \n",
              "1                  0                                   0                   1   \n",
              "2                  0                                   0                   1   \n",
              "3                  0                                   0                   1   \n",
              "4                  1                                   0                   0   \n",
              "\n",
              "   OnlineBackup_No  OnlineBackup_No internet service  OnlineBackup_Yes  \\\n",
              "0                0                                 0                 1   \n",
              "1                1                                 0                 0   \n",
              "2                0                                 0                 1   \n",
              "3                1                                 0                 0   \n",
              "4                1                                 0                 0   \n",
              "\n",
              "   DeviceProtection_No  DeviceProtection_No internet service  \\\n",
              "0                    1                                     0   \n",
              "1                    0                                     0   \n",
              "2                    1                                     0   \n",
              "3                    0                                     0   \n",
              "4                    1                                     0   \n",
              "\n",
              "   DeviceProtection_Yes  TechSupport_No  TechSupport_No internet service  \\\n",
              "0                     0               1                                0   \n",
              "1                     1               1                                0   \n",
              "2                     0               1                                0   \n",
              "3                     1               0                                0   \n",
              "4                     0               1                                0   \n",
              "\n",
              "   TechSupport_Yes  StreamingTV_No  StreamingTV_No internet service  \\\n",
              "0                0               1                                0   \n",
              "1                0               1                                0   \n",
              "2                0               1                                0   \n",
              "3                1               1                                0   \n",
              "4                0               1                                0   \n",
              "\n",
              "   StreamingTV_Yes  StreamingMovies_No  StreamingMovies_No internet service  \\\n",
              "0                0                   1                                    0   \n",
              "1                0                   1                                    0   \n",
              "2                0                   1                                    0   \n",
              "3                0                   1                                    0   \n",
              "4                0                   1                                    0   \n",
              "\n",
              "   StreamingMovies_Yes  Contract_Month-to-month  Contract_One year  \\\n",
              "0                    0                        1                  0   \n",
              "1                    0                        0                  1   \n",
              "2                    0                        1                  0   \n",
              "3                    0                        0                  1   \n",
              "4                    0                        1                  0   \n",
              "\n",
              "   Contract_Two year  PaperlessBilling_No  PaperlessBilling_Yes  \\\n",
              "0                  0                    0                     1   \n",
              "1                  0                    1                     0   \n",
              "2                  0                    0                     1   \n",
              "3                  0                    1                     0   \n",
              "4                  0                    0                     1   \n",
              "\n",
              "   PaymentMethod_Bank transfer (automatic)  \\\n",
              "0                                        0   \n",
              "1                                        0   \n",
              "2                                        0   \n",
              "3                                        1   \n",
              "4                                        0   \n",
              "\n",
              "   PaymentMethod_Credit card (automatic)  PaymentMethod_Electronic check  \\\n",
              "0                                      0                               1   \n",
              "1                                      0                               0   \n",
              "2                                      0                               0   \n",
              "3                                      0                               0   \n",
              "4                                      0                               1   \n",
              "\n",
              "   PaymentMethod_Mailed check  Churn_No  \n",
              "0                           0         1  \n",
              "1                           1         1  \n",
              "2                           1         0  \n",
              "3                           0         1  \n",
              "4                           0         0  "
            ],
            "text/html": [
              "\n",
              "  <div id=\"df-59876e59-c58d-4e90-a4f4-af47a74885bd\">\n",
              "    <div class=\"colab-df-container\">\n",
              "      <div>\n",
              "<style scoped>\n",
              "    .dataframe tbody tr th:only-of-type {\n",
              "        vertical-align: middle;\n",
              "    }\n",
              "\n",
              "    .dataframe tbody tr th {\n",
              "        vertical-align: top;\n",
              "    }\n",
              "\n",
              "    .dataframe thead th {\n",
              "        text-align: right;\n",
              "    }\n",
              "</style>\n",
              "<table border=\"1\" class=\"dataframe\">\n",
              "  <thead>\n",
              "    <tr style=\"text-align: right;\">\n",
              "      <th></th>\n",
              "      <th>Churn</th>\n",
              "      <th>tenure</th>\n",
              "      <th>MonthlyCharges</th>\n",
              "      <th>TotalCharges</th>\n",
              "      <th>gender_Female</th>\n",
              "      <th>gender_Male</th>\n",
              "      <th>SeniorCitizen_No</th>\n",
              "      <th>SeniorCitizen_Yes</th>\n",
              "      <th>Partner_No</th>\n",
              "      <th>Partner_Yes</th>\n",
              "      <th>Dependents_No</th>\n",
              "      <th>Dependents_Yes</th>\n",
              "      <th>PhoneService_No</th>\n",
              "      <th>PhoneService_Yes</th>\n",
              "      <th>MultipleLines_No</th>\n",
              "      <th>MultipleLines_No phone service</th>\n",
              "      <th>MultipleLines_Yes</th>\n",
              "      <th>InternetService_DSL</th>\n",
              "      <th>InternetService_Fiber optic</th>\n",
              "      <th>InternetService_No</th>\n",
              "      <th>OnlineSecurity_No</th>\n",
              "      <th>OnlineSecurity_No internet service</th>\n",
              "      <th>OnlineSecurity_Yes</th>\n",
              "      <th>OnlineBackup_No</th>\n",
              "      <th>OnlineBackup_No internet service</th>\n",
              "      <th>OnlineBackup_Yes</th>\n",
              "      <th>DeviceProtection_No</th>\n",
              "      <th>DeviceProtection_No internet service</th>\n",
              "      <th>DeviceProtection_Yes</th>\n",
              "      <th>TechSupport_No</th>\n",
              "      <th>TechSupport_No internet service</th>\n",
              "      <th>TechSupport_Yes</th>\n",
              "      <th>StreamingTV_No</th>\n",
              "      <th>StreamingTV_No internet service</th>\n",
              "      <th>StreamingTV_Yes</th>\n",
              "      <th>StreamingMovies_No</th>\n",
              "      <th>StreamingMovies_No internet service</th>\n",
              "      <th>StreamingMovies_Yes</th>\n",
              "      <th>Contract_Month-to-month</th>\n",
              "      <th>Contract_One year</th>\n",
              "      <th>Contract_Two year</th>\n",
              "      <th>PaperlessBilling_No</th>\n",
              "      <th>PaperlessBilling_Yes</th>\n",
              "      <th>PaymentMethod_Bank transfer (automatic)</th>\n",
              "      <th>PaymentMethod_Credit card (automatic)</th>\n",
              "      <th>PaymentMethod_Electronic check</th>\n",
              "      <th>PaymentMethod_Mailed check</th>\n",
              "      <th>Churn_No</th>\n",
              "    </tr>\n",
              "  </thead>\n",
              "  <tbody>\n",
              "    <tr>\n",
              "      <th>0</th>\n",
              "      <td>0</td>\n",
              "      <td>1</td>\n",
              "      <td>29.85</td>\n",
              "      <td>29.85</td>\n",
              "      <td>1</td>\n",
              "      <td>0</td>\n",
              "      <td>1</td>\n",
              "      <td>0</td>\n",
              "      <td>0</td>\n",
              "      <td>1</td>\n",
              "      <td>1</td>\n",
              "      <td>0</td>\n",
              "      <td>1</td>\n",
              "      <td>0</td>\n",
              "      <td>0</td>\n",
              "      <td>1</td>\n",
              "      <td>0</td>\n",
              "      <td>1</td>\n",
              "      <td>0</td>\n",
              "      <td>0</td>\n",
              "      <td>1</td>\n",
              "      <td>0</td>\n",
              "      <td>0</td>\n",
              "      <td>0</td>\n",
              "      <td>0</td>\n",
              "      <td>1</td>\n",
              "      <td>1</td>\n",
              "      <td>0</td>\n",
              "      <td>0</td>\n",
              "      <td>1</td>\n",
              "      <td>0</td>\n",
              "      <td>0</td>\n",
              "      <td>1</td>\n",
              "      <td>0</td>\n",
              "      <td>0</td>\n",
              "      <td>1</td>\n",
              "      <td>0</td>\n",
              "      <td>0</td>\n",
              "      <td>1</td>\n",
              "      <td>0</td>\n",
              "      <td>0</td>\n",
              "      <td>0</td>\n",
              "      <td>1</td>\n",
              "      <td>0</td>\n",
              "      <td>0</td>\n",
              "      <td>1</td>\n",
              "      <td>0</td>\n",
              "      <td>1</td>\n",
              "    </tr>\n",
              "    <tr>\n",
              "      <th>1</th>\n",
              "      <td>0</td>\n",
              "      <td>34</td>\n",
              "      <td>56.95</td>\n",
              "      <td>1889.50</td>\n",
              "      <td>0</td>\n",
              "      <td>1</td>\n",
              "      <td>1</td>\n",
              "      <td>0</td>\n",
              "      <td>1</td>\n",
              "      <td>0</td>\n",
              "      <td>1</td>\n",
              "      <td>0</td>\n",
              "      <td>0</td>\n",
              "      <td>1</td>\n",
              "      <td>1</td>\n",
              "      <td>0</td>\n",
              "      <td>0</td>\n",
              "      <td>1</td>\n",
              "      <td>0</td>\n",
              "      <td>0</td>\n",
              "      <td>0</td>\n",
              "      <td>0</td>\n",
              "      <td>1</td>\n",
              "      <td>1</td>\n",
              "      <td>0</td>\n",
              "      <td>0</td>\n",
              "      <td>0</td>\n",
              "      <td>0</td>\n",
              "      <td>1</td>\n",
              "      <td>1</td>\n",
              "      <td>0</td>\n",
              "      <td>0</td>\n",
              "      <td>1</td>\n",
              "      <td>0</td>\n",
              "      <td>0</td>\n",
              "      <td>1</td>\n",
              "      <td>0</td>\n",
              "      <td>0</td>\n",
              "      <td>0</td>\n",
              "      <td>1</td>\n",
              "      <td>0</td>\n",
              "      <td>1</td>\n",
              "      <td>0</td>\n",
              "      <td>0</td>\n",
              "      <td>0</td>\n",
              "      <td>0</td>\n",
              "      <td>1</td>\n",
              "      <td>1</td>\n",
              "    </tr>\n",
              "    <tr>\n",
              "      <th>2</th>\n",
              "      <td>1</td>\n",
              "      <td>2</td>\n",
              "      <td>53.85</td>\n",
              "      <td>108.15</td>\n",
              "      <td>0</td>\n",
              "      <td>1</td>\n",
              "      <td>1</td>\n",
              "      <td>0</td>\n",
              "      <td>1</td>\n",
              "      <td>0</td>\n",
              "      <td>1</td>\n",
              "      <td>0</td>\n",
              "      <td>0</td>\n",
              "      <td>1</td>\n",
              "      <td>1</td>\n",
              "      <td>0</td>\n",
              "      <td>0</td>\n",
              "      <td>1</td>\n",
              "      <td>0</td>\n",
              "      <td>0</td>\n",
              "      <td>0</td>\n",
              "      <td>0</td>\n",
              "      <td>1</td>\n",
              "      <td>0</td>\n",
              "      <td>0</td>\n",
              "      <td>1</td>\n",
              "      <td>1</td>\n",
              "      <td>0</td>\n",
              "      <td>0</td>\n",
              "      <td>1</td>\n",
              "      <td>0</td>\n",
              "      <td>0</td>\n",
              "      <td>1</td>\n",
              "      <td>0</td>\n",
              "      <td>0</td>\n",
              "      <td>1</td>\n",
              "      <td>0</td>\n",
              "      <td>0</td>\n",
              "      <td>1</td>\n",
              "      <td>0</td>\n",
              "      <td>0</td>\n",
              "      <td>0</td>\n",
              "      <td>1</td>\n",
              "      <td>0</td>\n",
              "      <td>0</td>\n",
              "      <td>0</td>\n",
              "      <td>1</td>\n",
              "      <td>0</td>\n",
              "    </tr>\n",
              "    <tr>\n",
              "      <th>3</th>\n",
              "      <td>0</td>\n",
              "      <td>45</td>\n",
              "      <td>42.30</td>\n",
              "      <td>1840.75</td>\n",
              "      <td>0</td>\n",
              "      <td>1</td>\n",
              "      <td>1</td>\n",
              "      <td>0</td>\n",
              "      <td>1</td>\n",
              "      <td>0</td>\n",
              "      <td>1</td>\n",
              "      <td>0</td>\n",
              "      <td>1</td>\n",
              "      <td>0</td>\n",
              "      <td>0</td>\n",
              "      <td>1</td>\n",
              "      <td>0</td>\n",
              "      <td>1</td>\n",
              "      <td>0</td>\n",
              "      <td>0</td>\n",
              "      <td>0</td>\n",
              "      <td>0</td>\n",
              "      <td>1</td>\n",
              "      <td>1</td>\n",
              "      <td>0</td>\n",
              "      <td>0</td>\n",
              "      <td>0</td>\n",
              "      <td>0</td>\n",
              "      <td>1</td>\n",
              "      <td>0</td>\n",
              "      <td>0</td>\n",
              "      <td>1</td>\n",
              "      <td>1</td>\n",
              "      <td>0</td>\n",
              "      <td>0</td>\n",
              "      <td>1</td>\n",
              "      <td>0</td>\n",
              "      <td>0</td>\n",
              "      <td>0</td>\n",
              "      <td>1</td>\n",
              "      <td>0</td>\n",
              "      <td>1</td>\n",
              "      <td>0</td>\n",
              "      <td>1</td>\n",
              "      <td>0</td>\n",
              "      <td>0</td>\n",
              "      <td>0</td>\n",
              "      <td>1</td>\n",
              "    </tr>\n",
              "    <tr>\n",
              "      <th>4</th>\n",
              "      <td>1</td>\n",
              "      <td>2</td>\n",
              "      <td>70.70</td>\n",
              "      <td>151.65</td>\n",
              "      <td>1</td>\n",
              "      <td>0</td>\n",
              "      <td>1</td>\n",
              "      <td>0</td>\n",
              "      <td>1</td>\n",
              "      <td>0</td>\n",
              "      <td>1</td>\n",
              "      <td>0</td>\n",
              "      <td>0</td>\n",
              "      <td>1</td>\n",
              "      <td>1</td>\n",
              "      <td>0</td>\n",
              "      <td>0</td>\n",
              "      <td>0</td>\n",
              "      <td>1</td>\n",
              "      <td>0</td>\n",
              "      <td>1</td>\n",
              "      <td>0</td>\n",
              "      <td>0</td>\n",
              "      <td>1</td>\n",
              "      <td>0</td>\n",
              "      <td>0</td>\n",
              "      <td>1</td>\n",
              "      <td>0</td>\n",
              "      <td>0</td>\n",
              "      <td>1</td>\n",
              "      <td>0</td>\n",
              "      <td>0</td>\n",
              "      <td>1</td>\n",
              "      <td>0</td>\n",
              "      <td>0</td>\n",
              "      <td>1</td>\n",
              "      <td>0</td>\n",
              "      <td>0</td>\n",
              "      <td>1</td>\n",
              "      <td>0</td>\n",
              "      <td>0</td>\n",
              "      <td>0</td>\n",
              "      <td>1</td>\n",
              "      <td>0</td>\n",
              "      <td>0</td>\n",
              "      <td>1</td>\n",
              "      <td>0</td>\n",
              "      <td>0</td>\n",
              "    </tr>\n",
              "  </tbody>\n",
              "</table>\n",
              "</div>\n",
              "      <button class=\"colab-df-convert\" onclick=\"convertToInteractive('df-59876e59-c58d-4e90-a4f4-af47a74885bd')\"\n",
              "              title=\"Convert this dataframe to an interactive table.\"\n",
              "              style=\"display:none;\">\n",
              "        \n",
              "  <svg xmlns=\"http://www.w3.org/2000/svg\" height=\"24px\"viewBox=\"0 0 24 24\"\n",
              "       width=\"24px\">\n",
              "    <path d=\"M0 0h24v24H0V0z\" fill=\"none\"/>\n",
              "    <path d=\"M18.56 5.44l.94 2.06.94-2.06 2.06-.94-2.06-.94-.94-2.06-.94 2.06-2.06.94zm-11 1L8.5 8.5l.94-2.06 2.06-.94-2.06-.94L8.5 2.5l-.94 2.06-2.06.94zm10 10l.94 2.06.94-2.06 2.06-.94-2.06-.94-.94-2.06-.94 2.06-2.06.94z\"/><path d=\"M17.41 7.96l-1.37-1.37c-.4-.4-.92-.59-1.43-.59-.52 0-1.04.2-1.43.59L10.3 9.45l-7.72 7.72c-.78.78-.78 2.05 0 2.83L4 21.41c.39.39.9.59 1.41.59.51 0 1.02-.2 1.41-.59l7.78-7.78 2.81-2.81c.8-.78.8-2.07 0-2.86zM5.41 20L4 18.59l7.72-7.72 1.47 1.35L5.41 20z\"/>\n",
              "  </svg>\n",
              "      </button>\n",
              "      \n",
              "  <style>\n",
              "    .colab-df-container {\n",
              "      display:flex;\n",
              "      flex-wrap:wrap;\n",
              "      gap: 12px;\n",
              "    }\n",
              "\n",
              "    .colab-df-convert {\n",
              "      background-color: #E8F0FE;\n",
              "      border: none;\n",
              "      border-radius: 50%;\n",
              "      cursor: pointer;\n",
              "      display: none;\n",
              "      fill: #1967D2;\n",
              "      height: 32px;\n",
              "      padding: 0 0 0 0;\n",
              "      width: 32px;\n",
              "    }\n",
              "\n",
              "    .colab-df-convert:hover {\n",
              "      background-color: #E2EBFA;\n",
              "      box-shadow: 0px 1px 2px rgba(60, 64, 67, 0.3), 0px 1px 3px 1px rgba(60, 64, 67, 0.15);\n",
              "      fill: #174EA6;\n",
              "    }\n",
              "\n",
              "    [theme=dark] .colab-df-convert {\n",
              "      background-color: #3B4455;\n",
              "      fill: #D2E3FC;\n",
              "    }\n",
              "\n",
              "    [theme=dark] .colab-df-convert:hover {\n",
              "      background-color: #434B5C;\n",
              "      box-shadow: 0px 1px 3px 1px rgba(0, 0, 0, 0.15);\n",
              "      filter: drop-shadow(0px 1px 2px rgba(0, 0, 0, 0.3));\n",
              "      fill: #FFFFFF;\n",
              "    }\n",
              "  </style>\n",
              "\n",
              "      <script>\n",
              "        const buttonEl =\n",
              "          document.querySelector('#df-59876e59-c58d-4e90-a4f4-af47a74885bd button.colab-df-convert');\n",
              "        buttonEl.style.display =\n",
              "          google.colab.kernel.accessAllowed ? 'block' : 'none';\n",
              "\n",
              "        async function convertToInteractive(key) {\n",
              "          const element = document.querySelector('#df-59876e59-c58d-4e90-a4f4-af47a74885bd');\n",
              "          const dataTable =\n",
              "            await google.colab.kernel.invokeFunction('convertToInteractive',\n",
              "                                                     [key], {});\n",
              "          if (!dataTable) return;\n",
              "\n",
              "          const docLinkHtml = 'Like what you see? Visit the ' +\n",
              "            '<a target=\"_blank\" href=https://colab.research.google.com/notebooks/data_table.ipynb>data table notebook</a>'\n",
              "            + ' to learn more about interactive tables.';\n",
              "          element.innerHTML = '';\n",
              "          dataTable['output_type'] = 'display_data';\n",
              "          await google.colab.output.renderOutput(dataTable, element);\n",
              "          const docLink = document.createElement('div');\n",
              "          docLink.innerHTML = docLinkHtml;\n",
              "          element.appendChild(docLink);\n",
              "        }\n",
              "      </script>\n",
              "    </div>\n",
              "  </div>\n",
              "  "
            ]
          },
          "metadata": {},
          "execution_count": 44
        }
      ]
    },
    {
      "cell_type": "code",
      "source": [
        "# Caso tenha aplicado o One-Hot Encoding, remova a coluna Churn_no:\n",
        "del(df_new['Churn_No'])"
      ],
      "metadata": {
        "id": "OipcxXK2oCrd"
      },
      "execution_count": null,
      "outputs": []
    },
    {
      "cell_type": "markdown",
      "source": [
        "## Variáveis numéricas"
      ],
      "metadata": {
        "id": "-bpPUvWW6ue-"
      }
    },
    {
      "cell_type": "markdown",
      "source": [
        "Verificando o número de meses que o cliente ficou na companhia (**tenure**) com relação ao churn"
      ],
      "metadata": {
        "id": "AdyYZJh6ekV_"
      }
    },
    {
      "cell_type": "code",
      "source": [
        "sns.histplot(data=df, x='tenure', hue='Churn')"
      ],
      "metadata": {
        "colab": {
          "base_uri": "https://localhost:8080/",
          "height": 515
        },
        "id": "5VMJTPmzaxAs",
        "outputId": "1b60a8d4-bd06-4ac8-baec-783b3a96028c"
      },
      "execution_count": null,
      "outputs": [
        {
          "output_type": "execute_result",
          "data": {
            "text/plain": [
              "<matplotlib.axes._subplots.AxesSubplot at 0x7f9673fdda10>"
            ]
          },
          "metadata": {},
          "execution_count": 46
        },
        {
          "output_type": "display_data",
          "data": {
            "text/plain": [
              "<Figure size 864x576 with 1 Axes>"
            ],
            "image/png": "[encoded data removed]"
          },
          "metadata": {
            "needs_background": "light"
          }
        }
      ]
    },
    {
      "cell_type": "markdown",
      "source": [
        "Observamos que à medida que o número de meses de relacionamento aumenta, a propensão ao churn diminui.\n",
        "\n",
        "Por outro lado percebemos concentração nos extremos entre os clientes que não deram churn. \n",
        "\n",
        "Podemos considerar uma transformação para tornar esta variável mais próxima de uma distribuição normal, pois isso pode fazer com o que o algoritmo aprenda melhor. Mas por enquanto vamos apenas anotar isso para aplicar no futuro."
      ],
      "metadata": {
        "id": "8GQs3zJFR5cT"
      }
    },
    {
      "cell_type": "markdown",
      "source": [
        "### Exercício 3:\n",
        "\n",
        "Analise e interprete as distribuições das seguintes variáveis com relação ao churn e, se julgar necessário, com relação as demais categóricas.\n",
        "\n",
        "* MonthlyCharges\n",
        "\n",
        "* TotalCharges"
      ],
      "metadata": {
        "id": "zKBGKcoUqBu2"
      }
    },
    {
      "cell_type": "code",
      "source": [
        ""
      ],
      "metadata": {
        "id": "r_lUhvqloWzI"
      },
      "execution_count": null,
      "outputs": []
    },
    {
      "cell_type": "code",
      "source": [
        ""
      ],
      "metadata": {
        "id": "f4_sgoypoW2C"
      },
      "execution_count": null,
      "outputs": []
    },
    {
      "cell_type": "code",
      "source": [
        ""
      ],
      "metadata": {
        "id": "jjVneOGOoW5H"
      },
      "execution_count": null,
      "outputs": []
    },
    {
      "cell_type": "code",
      "source": [
        ""
      ],
      "metadata": {
        "id": "NyubKCTAoW8G"
      },
      "execution_count": null,
      "outputs": []
    },
    {
      "cell_type": "code",
      "source": [
        ""
      ],
      "metadata": {
        "id": "z4EzICtGoW_N"
      },
      "execution_count": null,
      "outputs": []
    },
    {
      "cell_type": "code",
      "source": [
        ""
      ],
      "metadata": {
        "id": "rvZRipvooXCV"
      },
      "execution_count": null,
      "outputs": []
    },
    {
      "cell_type": "code",
      "source": [
        ""
      ],
      "metadata": {
        "id": "7mJrQMhboXFi"
      },
      "execution_count": null,
      "outputs": []
    },
    {
      "cell_type": "code",
      "source": [
        ""
      ],
      "metadata": {
        "id": "L9mP0OfloXIe"
      },
      "execution_count": null,
      "outputs": []
    },
    {
      "cell_type": "code",
      "source": [
        ""
      ],
      "metadata": {
        "id": "7kJ4qrvYoXLn"
      },
      "execution_count": null,
      "outputs": []
    },
    {
      "cell_type": "code",
      "source": [
        ""
      ],
      "metadata": {
        "id": "nGtjqrYEoXOn"
      },
      "execution_count": null,
      "outputs": []
    },
    {
      "cell_type": "code",
      "source": [
        ""
      ],
      "metadata": {
        "id": "Vjczin0loXRt"
      },
      "execution_count": null,
      "outputs": []
    },
    {
      "cell_type": "code",
      "source": [
        ""
      ],
      "metadata": {
        "id": "Pex2qjlzoXVG"
      },
      "execution_count": null,
      "outputs": []
    },
    {
      "cell_type": "code",
      "source": [
        ""
      ],
      "metadata": {
        "id": "ZHcWhihioXYW"
      },
      "execution_count": null,
      "outputs": []
    },
    {
      "cell_type": "code",
      "source": [
        ""
      ],
      "metadata": {
        "id": "Y41etIrqoXbW"
      },
      "execution_count": null,
      "outputs": []
    },
    {
      "cell_type": "code",
      "source": [
        ""
      ],
      "metadata": {
        "id": "Db1LBHaCoXel"
      },
      "execution_count": null,
      "outputs": []
    },
    {
      "cell_type": "code",
      "source": [
        ""
      ],
      "metadata": {
        "id": "QtNZhBuBoXiB"
      },
      "execution_count": null,
      "outputs": []
    },
    {
      "cell_type": "code",
      "source": [
        ""
      ],
      "metadata": {
        "id": "yYr3dVrfoXl7"
      },
      "execution_count": null,
      "outputs": []
    },
    {
      "cell_type": "code",
      "source": [
        ""
      ],
      "metadata": {
        "id": "thgaOHtToXos"
      },
      "execution_count": null,
      "outputs": []
    },
    {
      "cell_type": "markdown",
      "source": [
        "### Exercício 4:\n",
        "\n",
        "Qual é a melhor abordagem para lidar com os dados ausentes da variável **TotalCharges**? \n",
        "\n",
        "Analise, execute e justifique a escolha."
      ],
      "metadata": {
        "id": "DPTM9jcX-_iA"
      }
    },
    {
      "cell_type": "code",
      "source": [
        "df_new.isna().sum()"
      ],
      "metadata": {
        "colab": {
          "base_uri": "https://localhost:8080/"
        },
        "id": "ueLXiBgh--vd",
        "outputId": "6ba19cd4-38a2-420d-e717-931b3ed4ee40"
      },
      "execution_count": null,
      "outputs": [
        {
          "output_type": "execute_result",
          "data": {
            "text/plain": [
              "Churn                                       0\n",
              "tenure                                      0\n",
              "MonthlyCharges                              0\n",
              "TotalCharges                               11\n",
              "gender_Female                               0\n",
              "gender_Male                                 0\n",
              "SeniorCitizen_No                            0\n",
              "SeniorCitizen_Yes                           0\n",
              "Partner_No                                  0\n",
              "Partner_Yes                                 0\n",
              "Dependents_No                               0\n",
              "Dependents_Yes                              0\n",
              "PhoneService_No                             0\n",
              "PhoneService_Yes                            0\n",
              "MultipleLines_No                            0\n",
              "MultipleLines_No phone service              0\n",
              "MultipleLines_Yes                           0\n",
              "InternetService_DSL                         0\n",
              "InternetService_Fiber optic                 0\n",
              "InternetService_No                          0\n",
              "OnlineSecurity_No                           0\n",
              "OnlineSecurity_No internet service          0\n",
              "OnlineSecurity_Yes                          0\n",
              "OnlineBackup_No                             0\n",
              "OnlineBackup_No internet service            0\n",
              "OnlineBackup_Yes                            0\n",
              "DeviceProtection_No                         0\n",
              "DeviceProtection_No internet service        0\n",
              "DeviceProtection_Yes                        0\n",
              "TechSupport_No                              0\n",
              "TechSupport_No internet service             0\n",
              "TechSupport_Yes                             0\n",
              "StreamingTV_No                              0\n",
              "StreamingTV_No internet service             0\n",
              "StreamingTV_Yes                             0\n",
              "StreamingMovies_No                          0\n",
              "StreamingMovies_No internet service         0\n",
              "StreamingMovies_Yes                         0\n",
              "Contract_Month-to-month                     0\n",
              "Contract_One year                           0\n",
              "Contract_Two year                           0\n",
              "PaperlessBilling_No                         0\n",
              "PaperlessBilling_Yes                        0\n",
              "PaymentMethod_Bank transfer (automatic)     0\n",
              "PaymentMethod_Credit card (automatic)       0\n",
              "PaymentMethod_Electronic check              0\n",
              "PaymentMethod_Mailed check                  0\n",
              "dtype: int64"
            ]
          },
          "metadata": {},
          "execution_count": 47
        }
      ]
    },
    {
      "cell_type": "code",
      "source": [
        ""
      ],
      "metadata": {
        "id": "cK9W7iyuofPr"
      },
      "execution_count": null,
      "outputs": []
    },
    {
      "cell_type": "code",
      "source": [
        ""
      ],
      "metadata": {
        "id": "NiYMcvRvofM5"
      },
      "execution_count": null,
      "outputs": []
    },
    {
      "cell_type": "code",
      "source": [
        ""
      ],
      "metadata": {
        "id": "MRX4kmM5ofJo"
      },
      "execution_count": null,
      "outputs": []
    },
    {
      "cell_type": "code",
      "source": [
        ""
      ],
      "metadata": {
        "id": "JAhNAQHMofFq"
      },
      "execution_count": null,
      "outputs": []
    },
    {
      "cell_type": "code",
      "source": [
        ""
      ],
      "metadata": {
        "id": "LrdnfZ55ofCp"
      },
      "execution_count": null,
      "outputs": []
    },
    {
      "cell_type": "code",
      "source": [
        ""
      ],
      "metadata": {
        "id": "IfrvrpkWoe_r"
      },
      "execution_count": null,
      "outputs": []
    },
    {
      "cell_type": "code",
      "source": [
        ""
      ],
      "metadata": {
        "id": "rSHMni2Voe8m"
      },
      "execution_count": null,
      "outputs": []
    },
    {
      "cell_type": "code",
      "source": [
        ""
      ],
      "metadata": {
        "id": "5r2tEJ3Voe5e"
      },
      "execution_count": null,
      "outputs": []
    },
    {
      "cell_type": "code",
      "source": [
        ""
      ],
      "metadata": {
        "id": "qX1uKnl2oe2X"
      },
      "execution_count": null,
      "outputs": []
    },
    {
      "cell_type": "code",
      "source": [
        ""
      ],
      "metadata": {
        "id": "FVtRSg1boey-"
      },
      "execution_count": null,
      "outputs": []
    },
    {
      "cell_type": "code",
      "source": [
        ""
      ],
      "metadata": {
        "id": "PR_TEiwFoetB"
      },
      "execution_count": null,
      "outputs": []
    },
    {
      "cell_type": "code",
      "source": [
        ""
      ],
      "metadata": {
        "id": "qh-pmgWpoepI"
      },
      "execution_count": null,
      "outputs": []
    },
    {
      "cell_type": "code",
      "source": [
        ""
      ],
      "metadata": {
        "id": "uarDyvf1oemJ"
      },
      "execution_count": null,
      "outputs": []
    },
    {
      "cell_type": "code",
      "source": [
        ""
      ],
      "metadata": {
        "id": "wywnmyfLoei3"
      },
      "execution_count": null,
      "outputs": []
    },
    {
      "cell_type": "code",
      "source": [
        ""
      ],
      "metadata": {
        "id": "_Iv3fM6Qoeff"
      },
      "execution_count": null,
      "outputs": []
    },
    {
      "cell_type": "code",
      "source": [
        ""
      ],
      "metadata": {
        "id": "Z91D2W9boecX"
      },
      "execution_count": null,
      "outputs": []
    },
    {
      "cell_type": "code",
      "source": [
        ""
      ],
      "metadata": {
        "id": "f7K49zYLoeZQ"
      },
      "execution_count": null,
      "outputs": []
    },
    {
      "cell_type": "code",
      "source": [
        ""
      ],
      "metadata": {
        "id": "rmcooyBqoeWI"
      },
      "execution_count": null,
      "outputs": []
    },
    {
      "cell_type": "code",
      "source": [
        ""
      ],
      "metadata": {
        "id": "ZwgE2vnWoeS_"
      },
      "execution_count": null,
      "outputs": []
    },
    {
      "cell_type": "code",
      "source": [
        "df_new = df_new[~df_new['TotalCharges'].isna()].copy()"
      ],
      "metadata": {
        "id": "6ICjrJ0RoXsJ"
      },
      "execution_count": null,
      "outputs": []
    },
    {
      "cell_type": "markdown",
      "source": [
        "# Modelagem"
      ],
      "metadata": {
        "id": "88G1I7Qu-4tX"
      }
    },
    {
      "cell_type": "code",
      "source": [
        "from sklearn.model_selection import train_test_split\n",
        "from sklearn.metrics import confusion_matrix, ConfusionMatrixDisplay\n",
        "from sklearn.ensemble import RandomForestClassifier\n",
        "from sklearn.metrics import precision_score, recall_score, accuracy_score, roc_auc_score"
      ],
      "metadata": {
        "id": "VwXRjXmoJaOR"
      },
      "execution_count": null,
      "outputs": []
    },
    {
      "cell_type": "markdown",
      "source": [
        "## Separação Holdout\n",
        "\n"
      ],
      "metadata": {
        "id": "jOJCJXhcGmAE"
      }
    },
    {
      "cell_type": "code",
      "source": [
        "X = df_new.drop(columns='Churn') # Características\n",
        "y = df_new['Churn'] # Resposta"
      ],
      "metadata": {
        "id": "vThVtqJ34A0j"
      },
      "execution_count": null,
      "outputs": []
    },
    {
      "cell_type": "code",
      "source": [
        "# Amostragem 30% treino e 70% teste\n",
        "X_train, X_test, y_train, y_test = train_test_split(X, y, test_size=0.3, random_state=100)"
      ],
      "metadata": {
        "id": "14FJOhpU4FYV"
      },
      "execution_count": null,
      "outputs": []
    },
    {
      "cell_type": "markdown",
      "source": [
        "## Random Forest"
      ],
      "metadata": {
        "id": "8q2ucvyTHSVr"
      }
    },
    {
      "cell_type": "markdown",
      "source": [
        "### Modelo 1\n",
        "\n",
        "Random Forest com os hiperparâmetros default"
      ],
      "metadata": {
        "id": "TCBQU2gsHcIb"
      }
    },
    {
      "cell_type": "code",
      "source": [
        "# Instancia o classificador Random Forest:\n",
        "\n",
        "model1 = RandomForestClassifier(random_state=100)"
      ],
      "metadata": {
        "id": "LAt9XSkGHR3A"
      },
      "execution_count": null,
      "outputs": []
    },
    {
      "cell_type": "code",
      "source": [
        "# Treina o modelo:\n",
        "\n",
        "model1.fit(X_train, y_train)"
      ],
      "metadata": {
        "colab": {
          "base_uri": "https://localhost:8080/"
        },
        "id": "BrtemooJHR6I",
        "outputId": "218cffc5-b60f-4ff4-e52f-4b518bdd4eda"
      },
      "execution_count": null,
      "outputs": [
        {
          "output_type": "execute_result",
          "data": {
            "text/plain": [
              "RandomForestClassifier(random_state=100)"
            ]
          },
          "metadata": {},
          "execution_count": 53
        }
      ]
    },
    {
      "cell_type": "code",
      "source": [
        "# Função para plotar as métricas:\n",
        "def print_metrics(clf, X, y):\n",
        "  y_pred = clf.predict(X)\n",
        "  y_prob = clf.predict_proba(X).T[1]\n",
        "\n",
        "  acuracia = accuracy_score(y, y_pred)\n",
        "  sensibilidade = recall_score(y, y_pred)\n",
        "  especificidade = recall_score(y, y_pred, pos_label=0)\n",
        "  precisao = precision_score(y, y_pred)\n",
        "  auc = roc_auc_score(y, y_prob)\n",
        "\n",
        "  print(f'Acurácia: {acuracia:.2f}')\n",
        "  print(f'Sensibilidade (recall): {sensibilidade:.2f}')\n",
        "  print(f'Especificidade: {especificidade:.2f}')\n",
        "  print(f'Precisão: {precisao:.2f}')\n",
        "  print(f'AUC: {auc:.2f}')"
      ],
      "metadata": {
        "id": "l-BDkHv-IXyu"
      },
      "execution_count": null,
      "outputs": []
    },
    {
      "cell_type": "code",
      "source": [
        "# Métricas de treino:\n",
        "print_metrics(model1, X_train, y_train)"
      ],
      "metadata": {
        "colab": {
          "base_uri": "https://localhost:8080/"
        },
        "id": "mM8tywPBJjcg",
        "outputId": "d140a1a7-5d0e-4250-f35a-841222daccef"
      },
      "execution_count": null,
      "outputs": [
        {
          "output_type": "stream",
          "name": "stdout",
          "text": [
            "Acurácia: 1.00\n",
            "Sensibilidade (recall): 1.00\n",
            "Especificidade: 1.00\n",
            "Precisão: 1.00\n",
            "AUC: 1.00\n"
          ]
        }
      ]
    },
    {
      "cell_type": "code",
      "source": [
        "# Métricas de teste:\n",
        "print_metrics(model1, X_test, y_test)"
      ],
      "metadata": {
        "colab": {
          "base_uri": "https://localhost:8080/"
        },
        "id": "D2OVgdu4hc5B",
        "outputId": "4cb5333a-07cc-4967-95aa-fc2b38fc9820"
      },
      "execution_count": null,
      "outputs": [
        {
          "output_type": "stream",
          "name": "stdout",
          "text": [
            "Acurácia: 0.78\n",
            "Sensibilidade (recall): 0.49\n",
            "Especificidade: 0.88\n",
            "Precisão: 0.62\n",
            "AUC: 0.81\n"
          ]
        }
      ]
    },
    {
      "cell_type": "code",
      "source": [
        "# Hiperparâmetros padrão selecionados\n",
        "model1.get_params()"
      ],
      "metadata": {
        "colab": {
          "base_uri": "https://localhost:8080/"
        },
        "id": "GXGcPFZ_ciL-",
        "outputId": "8a3a2712-9835-45ae-d9b5-85475486cb28"
      },
      "execution_count": null,
      "outputs": [
        {
          "output_type": "execute_result",
          "data": {
            "text/plain": [
              "{'bootstrap': True,\n",
              " 'ccp_alpha': 0.0,\n",
              " 'class_weight': None,\n",
              " 'criterion': 'gini',\n",
              " 'max_depth': None,\n",
              " 'max_features': 'auto',\n",
              " 'max_leaf_nodes': None,\n",
              " 'max_samples': None,\n",
              " 'min_impurity_decrease': 0.0,\n",
              " 'min_samples_leaf': 1,\n",
              " 'min_samples_split': 2,\n",
              " 'min_weight_fraction_leaf': 0.0,\n",
              " 'n_estimators': 100,\n",
              " 'n_jobs': None,\n",
              " 'oob_score': False,\n",
              " 'random_state': 100,\n",
              " 'verbose': 0,\n",
              " 'warm_start': False}"
            ]
          },
          "metadata": {},
          "execution_count": 57
        }
      ]
    },
    {
      "cell_type": "markdown",
      "source": [
        "### Exercício 5\n",
        "\n",
        "Analise as métricas do *modelo 1*, decida se este modelo pode ser entregue à área de negócio, justificando a sua resposta.\n",
        "\n",
        "\n",
        "Lembrando que:\n",
        "\n",
        "**Acurácia**: taxa de acerto global do modelo \n",
        "\n",
        "**Sensibilidade (recall)**: Taxa de verdadeiros positivos entre os churns observados \n",
        "\n",
        "**Especificidade**: Taxa de verdadeiros negativos entre os não churns observados\n",
        "\n",
        "**Precisão**: Taxa de verdadeiros positivos entre os churns preditos\n",
        "\n",
        "**AUC**: Área sob a curva ROC. Quanto maior, maior a capacidade do modelo em separar as classes (churn=1 e churn=0)"
      ],
      "metadata": {
        "id": "JwdeYFM5nnRu"
      }
    },
    {
      "cell_type": "markdown",
      "source": [
        "**Resposta:**\n",
        "\n",
        "[Clique duas vezes aqui para editar a sua resposta]\n",
        "\n",
        "<br>"
      ],
      "metadata": {
        "id": "gdwTxc1GpLMp"
      }
    },
    {
      "cell_type": "markdown",
      "source": [
        "### Modelo 2\n",
        "\n",
        "Ajustando o hiperparâmetro:\n",
        "\n",
        "\n",
        "* **max_depth**: profundidade máxima das árvores\n",
        "  * quanto mais profunda a árvore, maior o número de folhas e, consequentemente, menor o número de observações por folha\n",
        "\n",
        "  <br>"
      ],
      "metadata": {
        "id": "KD8C2R92LMPC"
      }
    },
    {
      "cell_type": "code",
      "source": [
        "# Verificando a profundidade e o número de folhas das 10 primeiras árvores do modelo 1:\n",
        "\n",
        "for i in range(10):\n",
        "  depth = model1.estimators_[i].get_depth()\n",
        "  leaves = model1.estimators_[i].get_n_leaves()\n",
        "  print(f'Árvore {i+1} - Profundidade: {depth} / Folhas: {leaves}')"
      ],
      "metadata": {
        "colab": {
          "base_uri": "https://localhost:8080/"
        },
        "id": "iaDayipwLLbM",
        "outputId": "a841bc5c-7894-4119-bfcb-c7d952f8d070"
      },
      "execution_count": null,
      "outputs": [
        {
          "output_type": "stream",
          "name": "stdout",
          "text": [
            "Árvore 1 - Profundidade: 22 / Folhas: 1029\n",
            "Árvore 2 - Profundidade: 23 / Folhas: 1029\n",
            "Árvore 3 - Profundidade: 24 / Folhas: 1050\n",
            "Árvore 4 - Profundidade: 23 / Folhas: 1042\n",
            "Árvore 5 - Profundidade: 22 / Folhas: 1047\n",
            "Árvore 6 - Profundidade: 20 / Folhas: 1068\n",
            "Árvore 7 - Profundidade: 23 / Folhas: 1051\n",
            "Árvore 8 - Profundidade: 21 / Folhas: 1064\n",
            "Árvore 9 - Profundidade: 28 / Folhas: 1061\n",
            "Árvore 10 - Profundidade: 21 / Folhas: 1012\n"
          ]
        }
      ]
    },
    {
      "cell_type": "code",
      "source": [
        "X_train.shape"
      ],
      "metadata": {
        "colab": {
          "base_uri": "https://localhost:8080/"
        },
        "id": "bC63WZ5hlKP6",
        "outputId": "4fbba31d-6d52-41b3-aee6-9761c70c5fb3"
      },
      "execution_count": null,
      "outputs": [
        {
          "output_type": "execute_result",
          "data": {
            "text/plain": [
              "(4922, 46)"
            ]
          },
          "metadata": {},
          "execution_count": 59
        }
      ]
    },
    {
      "cell_type": "code",
      "source": [
        "# De forma grosseira, aproximadamente 5 observações por folha nessas 10 primeiras árvores\n",
        "4922/1000"
      ],
      "metadata": {
        "colab": {
          "base_uri": "https://localhost:8080/"
        },
        "id": "T2kQYdSulLu2",
        "outputId": "2f57ae99-21dd-4aac-e5f3-1dc93376b0fd"
      },
      "execution_count": null,
      "outputs": [
        {
          "output_type": "execute_result",
          "data": {
            "text/plain": [
              "4.922"
            ]
          },
          "metadata": {},
          "execution_count": 60
        }
      ]
    },
    {
      "cell_type": "code",
      "source": [
        "# Instancia e treina o classificador Random Forest com os hiperparâmetros abaixo:\n",
        "\n",
        "params = {\n",
        "    'random_state': 100, \n",
        "    'max_depth': 7}\n",
        "\n",
        "model2 = RandomForestClassifier(**params).fit(X_train, y_train)"
      ],
      "metadata": {
        "id": "sJfaRBIhkVY_"
      },
      "execution_count": null,
      "outputs": []
    },
    {
      "cell_type": "code",
      "source": [
        "# Métricas de treino:\n",
        "print_metrics(model2, X_train, y_train)"
      ],
      "metadata": {
        "colab": {
          "base_uri": "https://localhost:8080/"
        },
        "id": "8CDiwfj3ktHk",
        "outputId": "e355ce00-895d-4c36-f275-533b63c89c97"
      },
      "execution_count": null,
      "outputs": [
        {
          "output_type": "stream",
          "name": "stdout",
          "text": [
            "Acurácia: 0.82\n",
            "Sensibilidade (recall): 0.54\n",
            "Especificidade: 0.93\n",
            "Precisão: 0.72\n",
            "AUC: 0.89\n"
          ]
        }
      ]
    },
    {
      "cell_type": "code",
      "source": [
        "# Métricas de teste:\n",
        "print_metrics(model2, X_test, y_test)"
      ],
      "metadata": {
        "colab": {
          "base_uri": "https://localhost:8080/"
        },
        "id": "ru6ME8Whk0Kq",
        "outputId": "1cf33a9f-8245-497d-9ac0-3e8ef3e62c39"
      },
      "execution_count": null,
      "outputs": [
        {
          "output_type": "stream",
          "name": "stdout",
          "text": [
            "Acurácia: 0.79\n",
            "Sensibilidade (recall): 0.51\n",
            "Especificidade: 0.90\n",
            "Precisão: 0.66\n",
            "AUC: 0.84\n"
          ]
        }
      ]
    },
    {
      "cell_type": "code",
      "source": [
        "# Verificando a profundidade e o número de folhas das 10 primeiras árvores do modelo 2:\n",
        "\n",
        "for i in range(10):\n",
        "  depth = model2.estimators_[i].get_depth()\n",
        "  leaves = model2.estimators_[i].get_n_leaves()\n",
        "  print(f'Árvore {i+1} - Profundidade: {depth} / Folhas: {leaves}')"
      ],
      "metadata": {
        "colab": {
          "base_uri": "https://localhost:8080/"
        },
        "id": "zszTcLlak3PR",
        "outputId": "8db6cd32-0d6a-496b-bd74-ef402dac2c76"
      },
      "execution_count": null,
      "outputs": [
        {
          "output_type": "stream",
          "name": "stdout",
          "text": [
            "Árvore 1 - Profundidade: 7 / Folhas: 96\n",
            "Árvore 2 - Profundidade: 7 / Folhas: 84\n",
            "Árvore 3 - Profundidade: 7 / Folhas: 79\n",
            "Árvore 4 - Profundidade: 7 / Folhas: 107\n",
            "Árvore 5 - Profundidade: 7 / Folhas: 91\n",
            "Árvore 6 - Profundidade: 7 / Folhas: 103\n",
            "Árvore 7 - Profundidade: 7 / Folhas: 101\n",
            "Árvore 8 - Profundidade: 7 / Folhas: 104\n",
            "Árvore 9 - Profundidade: 7 / Folhas: 84\n",
            "Árvore 10 - Profundidade: 7 / Folhas: 93\n"
          ]
        }
      ]
    },
    {
      "cell_type": "code",
      "source": [
        "# Verificando o número de folhas nas 5 primeiras árvores do modelo 2:\n",
        "\n",
        "for i in range(10):\n",
        "  print(model2.estimators_[i].get_n_leaves())"
      ],
      "metadata": {
        "colab": {
          "base_uri": "https://localhost:8080/"
        },
        "id": "8BZy5_hhlBoV",
        "outputId": "205690d7-5db4-488f-cb29-44b45eb931f3"
      },
      "execution_count": null,
      "outputs": [
        {
          "output_type": "stream",
          "name": "stdout",
          "text": [
            "96\n",
            "84\n",
            "79\n",
            "107\n",
            "91\n",
            "103\n",
            "101\n",
            "104\n",
            "84\n",
            "93\n"
          ]
        }
      ]
    },
    {
      "cell_type": "code",
      "source": [
        "# De forma grosseira, aproximadamente 35 observações por folha nessas 10 primeiras árvores\n",
        "4922/140"
      ],
      "metadata": {
        "colab": {
          "base_uri": "https://localhost:8080/"
        },
        "id": "CA8PT3LalIHT",
        "outputId": "09cfed04-0c2d-405f-e9ab-bc62ebcada9c"
      },
      "execution_count": null,
      "outputs": [
        {
          "output_type": "execute_result",
          "data": {
            "text/plain": [
              "35.15714285714286"
            ]
          },
          "metadata": {},
          "execution_count": 66
        }
      ]
    },
    {
      "cell_type": "markdown",
      "source": [
        "### Exercício 6\n",
        "\n",
        "Explique a diferença nas métricas do modelo 2 com relação ao modelo 1, e decida, entre os dois modelos, qual você escolheria para entregar para a área de negócio."
      ],
      "metadata": {
        "id": "_jeptGSjny3q"
      }
    },
    {
      "cell_type": "markdown",
      "source": [
        "**Resposta:**\n",
        "\n",
        "[Clique duas vezes aqui para editar a sua resposta]\n",
        "\n",
        "<br>"
      ],
      "metadata": {
        "id": "yYB5ykUJpds9"
      }
    },
    {
      "cell_type": "markdown",
      "source": [
        "### Modelo 3\n",
        "\n",
        "Ajustando o hiperparâmetro:\n",
        "\n",
        "* **class_weight**: usa os valores de y para ajustar os pesos das classes de forma inversamente proporcional\n",
        "  * últil em dados desbalanceados"
      ],
      "metadata": {
        "id": "BEpk-aPNmh3G"
      }
    },
    {
      "cell_type": "code",
      "source": [
        "# Relembrando que as classes estão desbalanceadas:\n",
        "\n",
        "df['Churn'].value_counts(normalize=True)"
      ],
      "metadata": {
        "colab": {
          "base_uri": "https://localhost:8080/"
        },
        "id": "q_MlX4ehFEmp",
        "outputId": "e8cf0431-4c14-45b9-a342-7bcbd2e47dd1"
      },
      "execution_count": null,
      "outputs": [
        {
          "output_type": "execute_result",
          "data": {
            "text/plain": [
              "No     0.73463\n",
              "Yes    0.26537\n",
              "Name: Churn, dtype: float64"
            ]
          },
          "metadata": {},
          "execution_count": 67
        }
      ]
    },
    {
      "cell_type": "code",
      "source": [
        "# Instancia e treina o classificador Random Forest com os hiperparâmetros abaixo:\n",
        "\n",
        "params = {\n",
        "    'random_state': 100, \n",
        "    'max_depth': 7, \n",
        "    'class_weight': 'balanced'}\n",
        "\n",
        "model3 = RandomForestClassifier(**params).fit(X_train, y_train)"
      ],
      "metadata": {
        "id": "WuMtTc-WlgVC"
      },
      "execution_count": null,
      "outputs": []
    },
    {
      "cell_type": "code",
      "source": [
        "# Métricas de treino:\n",
        "print_metrics(model3, X_train, y_train)"
      ],
      "metadata": {
        "colab": {
          "base_uri": "https://localhost:8080/"
        },
        "id": "xq5Bps3Lm3Tu",
        "outputId": "89c416b1-f318-4310-9f8e-c023476657b3"
      },
      "execution_count": null,
      "outputs": [
        {
          "output_type": "stream",
          "name": "stdout",
          "text": [
            "Acurácia: 0.79\n",
            "Sensibilidade (recall): 0.84\n",
            "Especificidade: 0.77\n",
            "Precisão: 0.56\n",
            "AUC: 0.89\n"
          ]
        }
      ]
    },
    {
      "cell_type": "code",
      "source": [
        "# Métricas de teste:\n",
        "print_metrics(model3, X_test, y_test)"
      ],
      "metadata": {
        "colab": {
          "base_uri": "https://localhost:8080/"
        },
        "id": "A1HuPdk-m7XI",
        "outputId": "a3ae033c-d22c-4954-f579-0e012e635d4f"
      },
      "execution_count": null,
      "outputs": [
        {
          "output_type": "stream",
          "name": "stdout",
          "text": [
            "Acurácia: 0.74\n",
            "Sensibilidade (recall): 0.75\n",
            "Especificidade: 0.74\n",
            "Precisão: 0.52\n",
            "AUC: 0.84\n"
          ]
        }
      ]
    },
    {
      "cell_type": "markdown",
      "source": [
        "**Importância das features**\n",
        "\n",
        "Feature importance: cálculo baseado no ganho de informação de cada split da árvore"
      ],
      "metadata": {
        "id": "QY7tfQLWmqgg"
      }
    },
    {
      "cell_type": "code",
      "source": [
        "# Função para gerar e plotar a importância das features\n",
        "\n",
        "def plot_importances(model, X):\n",
        "  feature_importance = model.feature_importances_\n",
        "  feature_names = X.columns\n",
        "\n",
        "  data={'feature_names':feature_names,'feature_importance':feature_importance}\n",
        "  df_imp = pd.DataFrame(data).sort_values(by='feature_importance', ascending=False).reset_index(drop=True)\n",
        "\n",
        "  sns.barplot(data=df_imp, x='feature_names', y='feature_importance')\n",
        "  plt.xticks(rotation=90)\n",
        "\n",
        "  return df_imp"
      ],
      "metadata": {
        "id": "56ZGL3wwmmxb"
      },
      "execution_count": null,
      "outputs": []
    },
    {
      "cell_type": "code",
      "source": [
        "df_imp = plot_importances(model3, X_train)"
      ],
      "metadata": {
        "colab": {
          "base_uri": "https://localhost:8080/",
          "height": 703
        },
        "id": "g51olGi2mm63",
        "outputId": "c6db3074-b72f-4795-a252-8d2f02860fef"
      },
      "execution_count": null,
      "outputs": [
        {
          "output_type": "display_data",
          "data": {
            "text/plain": [
              "<Figure size 864x576 with 1 Axes>"
            ],
            "image/png": "[encoded data removed]"
          },
          "metadata": {
            "needs_background": "light"
          }
        }
      ]
    },
    {
      "cell_type": "code",
      "source": [
        "df_imp"
      ],
      "metadata": {
        "colab": {
          "base_uri": "https://localhost:8080/",
          "height": 1000
        },
        "id": "JtN1g4p4MDKr",
        "outputId": "b499f7f7-067d-4b4d-d0ae-d14d4a27fa8b"
      },
      "execution_count": null,
      "outputs": [
        {
          "output_type": "execute_result",
          "data": {
            "text/plain": [
              "                              feature_names  feature_importance\n",
              "0                   Contract_Month-to-month            0.194714\n",
              "1                                    tenure            0.102099\n",
              "2                              TotalCharges            0.087849\n",
              "3                         Contract_Two year            0.060604\n",
              "4               InternetService_Fiber optic            0.058239\n",
              "5                         OnlineSecurity_No            0.056947\n",
              "6                            TechSupport_No            0.054502\n",
              "7                            MonthlyCharges            0.050824\n",
              "8            PaymentMethod_Electronic check            0.033019\n",
              "9                         Contract_One year            0.021531\n",
              "10                          OnlineBackup_No            0.019110\n",
              "11                      InternetService_DSL            0.017534\n",
              "12                       OnlineSecurity_Yes            0.015937\n",
              "13      StreamingMovies_No internet service            0.014828\n",
              "14     DeviceProtection_No internet service            0.013520\n",
              "15                      DeviceProtection_No            0.012616\n",
              "16       OnlineSecurity_No internet service            0.012351\n",
              "17          TechSupport_No internet service            0.012327\n",
              "18         OnlineBackup_No internet service            0.011403\n",
              "19                     PaperlessBilling_Yes            0.011212\n",
              "20                      PaperlessBilling_No            0.011139\n",
              "21                          TechSupport_Yes            0.011073\n",
              "22                       InternetService_No            0.010472\n",
              "23          StreamingTV_No internet service            0.008325\n",
              "24                         OnlineBackup_Yes            0.007364\n",
              "25                        SeniorCitizen_Yes            0.007175\n",
              "26                         SeniorCitizen_No            0.006010\n",
              "27               PaymentMethod_Mailed check            0.005751\n",
              "28                      StreamingMovies_Yes            0.005526\n",
              "29                           Dependents_Yes            0.005113\n",
              "30                              Partner_Yes            0.004981\n",
              "31    PaymentMethod_Credit card (automatic)            0.004841\n",
              "32  PaymentMethod_Bank transfer (automatic)            0.004670\n",
              "33                            Dependents_No            0.004660\n",
              "34                        MultipleLines_Yes            0.004469\n",
              "35                          StreamingTV_Yes            0.004449\n",
              "36                            gender_Female            0.004160\n",
              "37                     DeviceProtection_Yes            0.004070\n",
              "38                       StreamingMovies_No            0.003979\n",
              "39                              gender_Male            0.003880\n",
              "40                               Partner_No            0.003720\n",
              "41                         MultipleLines_No            0.003686\n",
              "42                           StreamingTV_No            0.003513\n",
              "43                         PhoneService_Yes            0.002396\n",
              "44           MultipleLines_No phone service            0.001936\n",
              "45                          PhoneService_No            0.001477"
            ],
            "text/html": [
              "\n",
              "  <div id=\"df-8171f631-5a99-407f-97d1-c07a2f6f4fb7\">\n",
              "    <div class=\"colab-df-container\">\n",
              "      <div>\n",
              "<style scoped>\n",
              "    .dataframe tbody tr th:only-of-type {\n",
              "        vertical-align: middle;\n",
              "    }\n",
              "\n",
              "    .dataframe tbody tr th {\n",
              "        vertical-align: top;\n",
              "    }\n",
              "\n",
              "    .dataframe thead th {\n",
              "        text-align: right;\n",
              "    }\n",
              "</style>\n",
              "<table border=\"1\" class=\"dataframe\">\n",
              "  <thead>\n",
              "    <tr style=\"text-align: right;\">\n",
              "      <th></th>\n",
              "      <th>feature_names</th>\n",
              "      <th>feature_importance</th>\n",
              "    </tr>\n",
              "  </thead>\n",
              "  <tbody>\n",
              "    <tr>\n",
              "      <th>0</th>\n",
              "      <td>Contract_Month-to-month</td>\n",
              "      <td>0.194714</td>\n",
              "    </tr>\n",
              "    <tr>\n",
              "      <th>1</th>\n",
              "      <td>tenure</td>\n",
              "      <td>0.102099</td>\n",
              "    </tr>\n",
              "    <tr>\n",
              "      <th>2</th>\n",
              "      <td>TotalCharges</td>\n",
              "      <td>0.087849</td>\n",
              "    </tr>\n",
              "    <tr>\n",
              "      <th>3</th>\n",
              "      <td>Contract_Two year</td>\n",
              "      <td>0.060604</td>\n",
              "    </tr>\n",
              "    <tr>\n",
              "      <th>4</th>\n",
              "      <td>InternetService_Fiber optic</td>\n",
              "      <td>0.058239</td>\n",
              "    </tr>\n",
              "    <tr>\n",
              "      <th>5</th>\n",
              "      <td>OnlineSecurity_No</td>\n",
              "      <td>0.056947</td>\n",
              "    </tr>\n",
              "    <tr>\n",
              "      <th>6</th>\n",
              "      <td>TechSupport_No</td>\n",
              "      <td>0.054502</td>\n",
              "    </tr>\n",
              "    <tr>\n",
              "      <th>7</th>\n",
              "      <td>MonthlyCharges</td>\n",
              "      <td>0.050824</td>\n",
              "    </tr>\n",
              "    <tr>\n",
              "      <th>8</th>\n",
              "      <td>PaymentMethod_Electronic check</td>\n",
              "      <td>0.033019</td>\n",
              "    </tr>\n",
              "    <tr>\n",
              "      <th>9</th>\n",
              "      <td>Contract_One year</td>\n",
              "      <td>0.021531</td>\n",
              "    </tr>\n",
              "    <tr>\n",
              "      <th>10</th>\n",
              "      <td>OnlineBackup_No</td>\n",
              "      <td>0.019110</td>\n",
              "    </tr>\n",
              "    <tr>\n",
              "      <th>11</th>\n",
              "      <td>InternetService_DSL</td>\n",
              "      <td>0.017534</td>\n",
              "    </tr>\n",
              "    <tr>\n",
              "      <th>12</th>\n",
              "      <td>OnlineSecurity_Yes</td>\n",
              "      <td>0.015937</td>\n",
              "    </tr>\n",
              "    <tr>\n",
              "      <th>13</th>\n",
              "      <td>StreamingMovies_No internet service</td>\n",
              "      <td>0.014828</td>\n",
              "    </tr>\n",
              "    <tr>\n",
              "      <th>14</th>\n",
              "      <td>DeviceProtection_No internet service</td>\n",
              "      <td>0.013520</td>\n",
              "    </tr>\n",
              "    <tr>\n",
              "      <th>15</th>\n",
              "      <td>DeviceProtection_No</td>\n",
              "      <td>0.012616</td>\n",
              "    </tr>\n",
              "    <tr>\n",
              "      <th>16</th>\n",
              "      <td>OnlineSecurity_No internet service</td>\n",
              "      <td>0.012351</td>\n",
              "    </tr>\n",
              "    <tr>\n",
              "      <th>17</th>\n",
              "      <td>TechSupport_No internet service</td>\n",
              "      <td>0.012327</td>\n",
              "    </tr>\n",
              "    <tr>\n",
              "      <th>18</th>\n",
              "      <td>OnlineBackup_No internet service</td>\n",
              "      <td>0.011403</td>\n",
              "    </tr>\n",
              "    <tr>\n",
              "      <th>19</th>\n",
              "      <td>PaperlessBilling_Yes</td>\n",
              "      <td>0.011212</td>\n",
              "    </tr>\n",
              "    <tr>\n",
              "      <th>20</th>\n",
              "      <td>PaperlessBilling_No</td>\n",
              "      <td>0.011139</td>\n",
              "    </tr>\n",
              "    <tr>\n",
              "      <th>21</th>\n",
              "      <td>TechSupport_Yes</td>\n",
              "      <td>0.011073</td>\n",
              "    </tr>\n",
              "    <tr>\n",
              "      <th>22</th>\n",
              "      <td>InternetService_No</td>\n",
              "      <td>0.010472</td>\n",
              "    </tr>\n",
              "    <tr>\n",
              "      <th>23</th>\n",
              "      <td>StreamingTV_No internet service</td>\n",
              "      <td>0.008325</td>\n",
              "    </tr>\n",
              "    <tr>\n",
              "      <th>24</th>\n",
              "      <td>OnlineBackup_Yes</td>\n",
              "      <td>0.007364</td>\n",
              "    </tr>\n",
              "    <tr>\n",
              "      <th>25</th>\n",
              "      <td>SeniorCitizen_Yes</td>\n",
              "      <td>0.007175</td>\n",
              "    </tr>\n",
              "    <tr>\n",
              "      <th>26</th>\n",
              "      <td>SeniorCitizen_No</td>\n",
              "      <td>0.006010</td>\n",
              "    </tr>\n",
              "    <tr>\n",
              "      <th>27</th>\n",
              "      <td>PaymentMethod_Mailed check</td>\n",
              "      <td>0.005751</td>\n",
              "    </tr>\n",
              "    <tr>\n",
              "      <th>28</th>\n",
              "      <td>StreamingMovies_Yes</td>\n",
              "      <td>0.005526</td>\n",
              "    </tr>\n",
              "    <tr>\n",
              "      <th>29</th>\n",
              "      <td>Dependents_Yes</td>\n",
              "      <td>0.005113</td>\n",
              "    </tr>\n",
              "    <tr>\n",
              "      <th>30</th>\n",
              "      <td>Partner_Yes</td>\n",
              "      <td>0.004981</td>\n",
              "    </tr>\n",
              "    <tr>\n",
              "      <th>31</th>\n",
              "      <td>PaymentMethod_Credit card (automatic)</td>\n",
              "      <td>0.004841</td>\n",
              "    </tr>\n",
              "    <tr>\n",
              "      <th>32</th>\n",
              "      <td>PaymentMethod_Bank transfer (automatic)</td>\n",
              "      <td>0.004670</td>\n",
              "    </tr>\n",
              "    <tr>\n",
              "      <th>33</th>\n",
              "      <td>Dependents_No</td>\n",
              "      <td>0.004660</td>\n",
              "    </tr>\n",
              "    <tr>\n",
              "      <th>34</th>\n",
              "      <td>MultipleLines_Yes</td>\n",
              "      <td>0.004469</td>\n",
              "    </tr>\n",
              "    <tr>\n",
              "      <th>35</th>\n",
              "      <td>StreamingTV_Yes</td>\n",
              "      <td>0.004449</td>\n",
              "    </tr>\n",
              "    <tr>\n",
              "      <th>36</th>\n",
              "      <td>gender_Female</td>\n",
              "      <td>0.004160</td>\n",
              "    </tr>\n",
              "    <tr>\n",
              "      <th>37</th>\n",
              "      <td>DeviceProtection_Yes</td>\n",
              "      <td>0.004070</td>\n",
              "    </tr>\n",
              "    <tr>\n",
              "      <th>38</th>\n",
              "      <td>StreamingMovies_No</td>\n",
              "      <td>0.003979</td>\n",
              "    </tr>\n",
              "    <tr>\n",
              "      <th>39</th>\n",
              "      <td>gender_Male</td>\n",
              "      <td>0.003880</td>\n",
              "    </tr>\n",
              "    <tr>\n",
              "      <th>40</th>\n",
              "      <td>Partner_No</td>\n",
              "      <td>0.003720</td>\n",
              "    </tr>\n",
              "    <tr>\n",
              "      <th>41</th>\n",
              "      <td>MultipleLines_No</td>\n",
              "      <td>0.003686</td>\n",
              "    </tr>\n",
              "    <tr>\n",
              "      <th>42</th>\n",
              "      <td>StreamingTV_No</td>\n",
              "      <td>0.003513</td>\n",
              "    </tr>\n",
              "    <tr>\n",
              "      <th>43</th>\n",
              "      <td>PhoneService_Yes</td>\n",
              "      <td>0.002396</td>\n",
              "    </tr>\n",
              "    <tr>\n",
              "      <th>44</th>\n",
              "      <td>MultipleLines_No phone service</td>\n",
              "      <td>0.001936</td>\n",
              "    </tr>\n",
              "    <tr>\n",
              "      <th>45</th>\n",
              "      <td>PhoneService_No</td>\n",
              "      <td>0.001477</td>\n",
              "    </tr>\n",
              "  </tbody>\n",
              "</table>\n",
              "</div>\n",
              "      <button class=\"colab-df-convert\" onclick=\"convertToInteractive('df-8171f631-5a99-407f-97d1-c07a2f6f4fb7')\"\n",
              "              title=\"Convert this dataframe to an interactive table.\"\n",
              "              style=\"display:none;\">\n",
              "        \n",
              "  <svg xmlns=\"http://www.w3.org/2000/svg\" height=\"24px\"viewBox=\"0 0 24 24\"\n",
              "       width=\"24px\">\n",
              "    <path d=\"M0 0h24v24H0V0z\" fill=\"none\"/>\n",
              "    <path d=\"M18.56 5.44l.94 2.06.94-2.06 2.06-.94-2.06-.94-.94-2.06-.94 2.06-2.06.94zm-11 1L8.5 8.5l.94-2.06 2.06-.94-2.06-.94L8.5 2.5l-.94 2.06-2.06.94zm10 10l.94 2.06.94-2.06 2.06-.94-2.06-.94-.94-2.06-.94 2.06-2.06.94z\"/><path d=\"M17.41 7.96l-1.37-1.37c-.4-.4-.92-.59-1.43-.59-.52 0-1.04.2-1.43.59L10.3 9.45l-7.72 7.72c-.78.78-.78 2.05 0 2.83L4 21.41c.39.39.9.59 1.41.59.51 0 1.02-.2 1.41-.59l7.78-7.78 2.81-2.81c.8-.78.8-2.07 0-2.86zM5.41 20L4 18.59l7.72-7.72 1.47 1.35L5.41 20z\"/>\n",
              "  </svg>\n",
              "      </button>\n",
              "      \n",
              "  <style>\n",
              "    .colab-df-container {\n",
              "      display:flex;\n",
              "      flex-wrap:wrap;\n",
              "      gap: 12px;\n",
              "    }\n",
              "\n",
              "    .colab-df-convert {\n",
              "      background-color: #E8F0FE;\n",
              "      border: none;\n",
              "      border-radius: 50%;\n",
              "      cursor: pointer;\n",
              "      display: none;\n",
              "      fill: #1967D2;\n",
              "      height: 32px;\n",
              "      padding: 0 0 0 0;\n",
              "      width: 32px;\n",
              "    }\n",
              "\n",
              "    .colab-df-convert:hover {\n",
              "      background-color: #E2EBFA;\n",
              "      box-shadow: 0px 1px 2px rgba(60, 64, 67, 0.3), 0px 1px 3px 1px rgba(60, 64, 67, 0.15);\n",
              "      fill: #174EA6;\n",
              "    }\n",
              "\n",
              "    [theme=dark] .colab-df-convert {\n",
              "      background-color: #3B4455;\n",
              "      fill: #D2E3FC;\n",
              "    }\n",
              "\n",
              "    [theme=dark] .colab-df-convert:hover {\n",
              "      background-color: #434B5C;\n",
              "      box-shadow: 0px 1px 3px 1px rgba(0, 0, 0, 0.15);\n",
              "      filter: drop-shadow(0px 1px 2px rgba(0, 0, 0, 0.3));\n",
              "      fill: #FFFFFF;\n",
              "    }\n",
              "  </style>\n",
              "\n",
              "      <script>\n",
              "        const buttonEl =\n",
              "          document.querySelector('#df-8171f631-5a99-407f-97d1-c07a2f6f4fb7 button.colab-df-convert');\n",
              "        buttonEl.style.display =\n",
              "          google.colab.kernel.accessAllowed ? 'block' : 'none';\n",
              "\n",
              "        async function convertToInteractive(key) {\n",
              "          const element = document.querySelector('#df-8171f631-5a99-407f-97d1-c07a2f6f4fb7');\n",
              "          const dataTable =\n",
              "            await google.colab.kernel.invokeFunction('convertToInteractive',\n",
              "                                                     [key], {});\n",
              "          if (!dataTable) return;\n",
              "\n",
              "          const docLinkHtml = 'Like what you see? Visit the ' +\n",
              "            '<a target=\"_blank\" href=https://colab.research.google.com/notebooks/data_table.ipynb>data table notebook</a>'\n",
              "            + ' to learn more about interactive tables.';\n",
              "          element.innerHTML = '';\n",
              "          dataTable['output_type'] = 'display_data';\n",
              "          await google.colab.output.renderOutput(dataTable, element);\n",
              "          const docLink = document.createElement('div');\n",
              "          docLink.innerHTML = docLinkHtml;\n",
              "          element.appendChild(docLink);\n",
              "        }\n",
              "      </script>\n",
              "    </div>\n",
              "  </div>\n",
              "  "
            ]
          },
          "metadata": {},
          "execution_count": 73
        }
      ]
    },
    {
      "cell_type": "markdown",
      "source": [
        "### Exercício 7\n",
        "\n",
        "Explique a diferença nas métricas do modelo 3 com relação ao modelo 2, e decida, entre os modelos 1, 2 e 3 qual você escolheria para entregar para a área de negócio."
      ],
      "metadata": {
        "id": "muwhm7IzoDHJ"
      }
    },
    {
      "cell_type": "markdown",
      "source": [
        "**Resposta:**\n",
        "\n",
        "[Clique duas vezes aqui para editar a sua resposta]\n",
        "\n",
        "<br>"
      ],
      "metadata": {
        "id": "h415j1S1plWh"
      }
    },
    {
      "cell_type": "markdown",
      "source": [
        "### Modelo 5\n"
      ],
      "metadata": {
        "id": "WkZo9taEo1K6"
      }
    },
    {
      "cell_type": "code",
      "source": [
        "import optuna\n",
        "from sklearn import model_selection"
      ],
      "metadata": {
        "id": "SRRcyChstwQu"
      },
      "execution_count": null,
      "outputs": []
    },
    {
      "cell_type": "markdown",
      "source": [
        "Novos hiperparâmetros:\n",
        "\n",
        "* **min_samples_split**: número mínimo de observações necessárias para dividir um nó\n",
        "\n",
        "* **min_samples_leaf**: número mínimo de observações por folha\n",
        "\n",
        "* **n_estimators**: número de árvores na floresta\n",
        "\n",
        "* **max_features**: número máximo de features por árvore\n",
        "\n",
        "<br>\n",
        "\n",
        "Agora aplicaremos um método automático para encontrar a combinação ótima de hiperparâmetros.\n"
      ],
      "metadata": {
        "id": "qB_WqqjVMVXG"
      }
    },
    {
      "cell_type": "code",
      "source": [
        "# Função objetivo:\n",
        "def objective(trial):\n",
        "    max_depth = trial.suggest_int('max_depth', 4, 10)\n",
        "    min_samples_split = trial.suggest_int('min_samples_split', 300, 1000)\n",
        "    min_samples_leaf = trial.suggest_int('min_samples_leaf', 30, 80)\n",
        "    n_estimators = trial.suggest_int('n_estimators', 50, 1000)\n",
        "    max_features = trial.suggest_categorical('max_features', [None, 'sqrt'])\n",
        "    class_weight = trial.suggest_categorical('class_weight', ['balanced','balanced_subsample'])\n",
        "    \n",
        "    clf = RandomForestClassifier(\n",
        "        random_state=100, \n",
        "        max_depth=max_depth, \n",
        "        min_samples_split=min_samples_split, \n",
        "        min_samples_leaf=min_samples_leaf, \n",
        "        max_features=max_features,\n",
        "        n_estimators = n_estimators,\n",
        "        class_weight=class_weight,\n",
        "        n_jobs=-1)\n",
        "    \n",
        "    score = model_selection.cross_val_score(clf, X_train, y_train, cv=5, scoring='roc_auc')\n",
        "    penalized_score = score.mean() - (score.std()*0.05) # penaliza o desvio padrão\n",
        "\n",
        "    return penalized_score"
      ],
      "metadata": {
        "id": "AWbe_k8EtuXt"
      },
      "execution_count": null,
      "outputs": []
    },
    {
      "cell_type": "code",
      "source": [
        "# Executando 5 tentativas de combinações:\n",
        "\n",
        "n_tentativas = 5\n",
        "study = optuna.create_study(direction=\"maximize\")\n",
        "study.optimize(objective, n_trials=n_tentativas)"
      ],
      "metadata": {
        "colab": {
          "base_uri": "https://localhost:8080/"
        },
        "id": "aqa4BOaUtuaG",
        "outputId": "3abe679c-cbdf-4664-eee2-4a4115ac8fbf"
      },
      "execution_count": null,
      "outputs": [
        {
          "output_type": "stream",
          "name": "stderr",
          "text": [
            "\u001b[32m[I 2022-05-18 14:51:13,488]\u001b[0m A new study created in memory with name: no-name-cf0ce8cb-568a-43f6-be82-0d18fc35e5a5\u001b[0m\n",
            "\u001b[32m[I 2022-05-18 14:51:36,650]\u001b[0m Trial 0 finished with value: 0.8367683290504299 and parameters: {'max_depth': 7, 'min_samples_split': 419, 'min_samples_leaf': 68, 'n_estimators': 514, 'max_features': None, 'class_weight': 'balanced_subsample'}. Best is trial 0 with value: 0.8367683290504299.\u001b[0m\n",
            "\u001b[32m[I 2022-05-18 14:51:49,919]\u001b[0m Trial 1 finished with value: 0.8296167401104652 and parameters: {'max_depth': 6, 'min_samples_split': 874, 'min_samples_leaf': 61, 'n_estimators': 469, 'max_features': None, 'class_weight': 'balanced'}. Best is trial 0 with value: 0.8367683290504299.\u001b[0m\n",
            "\u001b[32m[I 2022-05-18 14:51:58,077]\u001b[0m Trial 2 finished with value: 0.8368754658382003 and parameters: {'max_depth': 7, 'min_samples_split': 724, 'min_samples_leaf': 68, 'n_estimators': 455, 'max_features': 'sqrt', 'class_weight': 'balanced'}. Best is trial 2 with value: 0.8368754658382003.\u001b[0m\n",
            "\u001b[32m[I 2022-05-18 14:52:16,854]\u001b[0m Trial 3 finished with value: 0.8405109434971401 and parameters: {'max_depth': 9, 'min_samples_split': 324, 'min_samples_leaf': 65, 'n_estimators': 806, 'max_features': 'sqrt', 'class_weight': 'balanced_subsample'}. Best is trial 3 with value: 0.8405109434971401.\u001b[0m\n",
            "\u001b[32m[I 2022-05-18 14:52:32,877]\u001b[0m Trial 4 finished with value: 0.8366963026626901 and parameters: {'max_depth': 4, 'min_samples_split': 432, 'min_samples_leaf': 54, 'n_estimators': 479, 'max_features': None, 'class_weight': 'balanced'}. Best is trial 3 with value: 0.8405109434971401.\u001b[0m\n"
          ]
        }
      ]
    },
    {
      "cell_type": "code",
      "source": [
        "print(f\"Melhor métrica: \\n{study.best_value}\")"
      ],
      "metadata": {
        "colab": {
          "base_uri": "https://localhost:8080/"
        },
        "id": "MOaINTW5tuer",
        "outputId": "df40e677-d294-4ad8-e1a3-a5a825cf42ad"
      },
      "execution_count": null,
      "outputs": [
        {
          "output_type": "stream",
          "name": "stdout",
          "text": [
            "Melhor métrica: \n",
            "0.8405109434971401\n"
          ]
        }
      ]
    },
    {
      "cell_type": "code",
      "source": [
        "print(f\"Melhores hiperparâmetros: \\n{study.best_params}\")"
      ],
      "metadata": {
        "colab": {
          "base_uri": "https://localhost:8080/"
        },
        "id": "nbgP-M20tug7",
        "outputId": "0c5c3f1e-c10f-427b-fd08-f16411a2c881"
      },
      "execution_count": null,
      "outputs": [
        {
          "output_type": "stream",
          "name": "stdout",
          "text": [
            "Melhores hiperparâmetros: \n",
            "{'max_depth': 9, 'min_samples_split': 324, 'min_samples_leaf': 65, 'n_estimators': 806, 'max_features': 'sqrt', 'class_weight': 'balanced_subsample'}\n"
          ]
        }
      ]
    },
    {
      "cell_type": "code",
      "source": [
        "# Instancia e treina o classificador Random Forest com os hiperparâmetros encontrados com o Optuna:\n",
        "\n",
        "model5 = RandomForestClassifier(**study.best_params, random_state=100).fit(X_train, y_train)"
      ],
      "metadata": {
        "id": "zBjq-Wwso2ED"
      },
      "execution_count": null,
      "outputs": []
    },
    {
      "cell_type": "code",
      "source": [
        "# Métricas de treino:\n",
        "print_metrics(model5, X_train, y_train)"
      ],
      "metadata": {
        "colab": {
          "base_uri": "https://localhost:8080/"
        },
        "id": "-JNJq8qVF756",
        "outputId": "e53eddcc-2cc5-42bd-c353-3c6d05d40189"
      },
      "execution_count": null,
      "outputs": [
        {
          "output_type": "stream",
          "name": "stdout",
          "text": [
            "Acurácia: 0.75\n",
            "Sensibilidade (recall): 0.82\n",
            "Especificidade: 0.73\n",
            "Precisão: 0.52\n",
            "AUC: 0.85\n"
          ]
        }
      ]
    },
    {
      "cell_type": "code",
      "source": [
        "# Métricas de teste:\n",
        "print_metrics(model5, X_test, y_test)"
      ],
      "metadata": {
        "colab": {
          "base_uri": "https://localhost:8080/"
        },
        "id": "M3_oEM3CGATP",
        "outputId": "82e69c55-3ccc-4415-d3ee-82e32a8c8ac1"
      },
      "execution_count": null,
      "outputs": [
        {
          "output_type": "stream",
          "name": "stdout",
          "text": [
            "Acurácia: 0.73\n",
            "Sensibilidade (recall): 0.77\n",
            "Especificidade: 0.71\n",
            "Precisão: 0.50\n",
            "AUC: 0.83\n"
          ]
        }
      ]
    },
    {
      "cell_type": "code",
      "source": [
        "# Plotando a importância das features\n",
        "\n",
        "df_imp = plot_importances(model5, X_train)"
      ],
      "metadata": {
        "colab": {
          "base_uri": "https://localhost:8080/",
          "height": 703
        },
        "id": "ml6Z8Zr2GMlO",
        "outputId": "1e58151e-21d6-4ccd-9532-c2756a68ea15"
      },
      "execution_count": null,
      "outputs": [
        {
          "output_type": "display_data",
          "data": {
            "text/plain": [
              "<Figure size 864x576 with 1 Axes>"
            ],
            "image/png": "[encoded data removed]"
          },
          "metadata": {
            "needs_background": "light"
          }
        }
      ]
    },
    {
      "cell_type": "markdown",
      "source": [
        "Observe que as importâncias podem variar de acordo com os hiperparâmetros selecionados."
      ],
      "metadata": {
        "id": "TscwQMCdHXTf"
      }
    },
    {
      "cell_type": "markdown",
      "source": [
        "### Exercício 8\n",
        "\n",
        "Execute mais tentativas para encontrar a combinação ótima de hiperparâmetros, treine e valide novamente o modelo 5, compare com os modelos anteriores e justifique qual deles você escolheria para entregar para a área de negócio."
      ],
      "metadata": {
        "id": "9SJ8AYveHwrc"
      }
    },
    {
      "cell_type": "markdown",
      "source": [
        "**Resposta:**\n",
        "\n",
        "[Clique duas vezes aqui para editar a sua resposta]\n",
        "\n",
        "<br>"
      ],
      "metadata": {
        "id": "msyTIa4er4pv"
      }
    },
    {
      "cell_type": "markdown",
      "source": [
        "### Modelo 6\n",
        "\n",
        "Vamos tentar reduzir a complexidade do modelo."
      ],
      "metadata": {
        "id": "muUUlx0eHwjT"
      }
    },
    {
      "cell_type": "code",
      "source": [
        "# Verificando as imporâncias do modelo 5:\n",
        "\n",
        "df_imp"
      ],
      "metadata": {
        "colab": {
          "base_uri": "https://localhost:8080/",
          "height": 1000
        },
        "id": "ZtwZSQfbJIDL",
        "outputId": "b0ce08b9-a305-4e14-8b96-d88c2cc2b17b"
      },
      "execution_count": null,
      "outputs": [
        {
          "output_type": "execute_result",
          "data": {
            "text/plain": [
              "                              feature_names  feature_importance\n",
              "0                   Contract_Month-to-month            0.192353\n",
              "1                                    tenure            0.115646\n",
              "2                         OnlineSecurity_No            0.090369\n",
              "3                         Contract_Two year            0.085452\n",
              "4                            TechSupport_No            0.079232\n",
              "5               InternetService_Fiber optic            0.065610\n",
              "6                              TotalCharges            0.050971\n",
              "7            PaymentMethod_Electronic check            0.038694\n",
              "8                            MonthlyCharges            0.028880\n",
              "9                           OnlineBackup_No            0.028117\n",
              "10                        Contract_One year            0.022425\n",
              "11                      InternetService_DSL            0.020209\n",
              "12      StreamingMovies_No internet service            0.015971\n",
              "13                       InternetService_No            0.015498\n",
              "14          TechSupport_No internet service            0.015287\n",
              "15       OnlineSecurity_No internet service            0.015190\n",
              "16         OnlineBackup_No internet service            0.013967\n",
              "17                          TechSupport_Yes            0.013832\n",
              "18          StreamingTV_No internet service            0.013561\n",
              "19                       OnlineSecurity_Yes            0.013374\n",
              "20     DeviceProtection_No internet service            0.013279\n",
              "21                      DeviceProtection_No            0.008898\n",
              "22                     PaperlessBilling_Yes            0.005317\n",
              "23                      PaperlessBilling_No            0.004974\n",
              "24                         OnlineBackup_Yes            0.004505\n",
              "25                         SeniorCitizen_No            0.002706\n",
              "26                        SeniorCitizen_Yes            0.002435\n",
              "27                           Dependents_Yes            0.002405\n",
              "28                      StreamingMovies_Yes            0.002114\n",
              "29                          StreamingTV_Yes            0.002042\n",
              "30    PaymentMethod_Credit card (automatic)            0.001987\n",
              "31                            Dependents_No            0.001928\n",
              "32                              Partner_Yes            0.001920\n",
              "33                               Partner_No            0.001762\n",
              "34                     DeviceProtection_Yes            0.001474\n",
              "35                       StreamingMovies_No            0.001397\n",
              "36               PaymentMethod_Mailed check            0.001349\n",
              "37                           StreamingTV_No            0.001330\n",
              "38                        MultipleLines_Yes            0.000966\n",
              "39  PaymentMethod_Bank transfer (automatic)            0.000772\n",
              "40                         MultipleLines_No            0.000473\n",
              "41                         PhoneService_Yes            0.000350\n",
              "42                              gender_Male            0.000281\n",
              "43           MultipleLines_No phone service            0.000249\n",
              "44                          PhoneService_No            0.000238\n",
              "45                            gender_Female            0.000212"
            ],
            "text/html": [
              "\n",
              "  <div id=\"df-03e5f92c-4147-45d2-8c3e-939d1db3a6fd\">\n",
              "    <div class=\"colab-df-container\">\n",
              "      <div>\n",
              "<style scoped>\n",
              "    .dataframe tbody tr th:only-of-type {\n",
              "        vertical-align: middle;\n",
              "    }\n",
              "\n",
              "    .dataframe tbody tr th {\n",
              "        vertical-align: top;\n",
              "    }\n",
              "\n",
              "    .dataframe thead th {\n",
              "        text-align: right;\n",
              "    }\n",
              "</style>\n",
              "<table border=\"1\" class=\"dataframe\">\n",
              "  <thead>\n",
              "    <tr style=\"text-align: right;\">\n",
              "      <th></th>\n",
              "      <th>feature_names</th>\n",
              "      <th>feature_importance</th>\n",
              "    </tr>\n",
              "  </thead>\n",
              "  <tbody>\n",
              "    <tr>\n",
              "      <th>0</th>\n",
              "      <td>Contract_Month-to-month</td>\n",
              "      <td>0.192353</td>\n",
              "    </tr>\n",
              "    <tr>\n",
              "      <th>1</th>\n",
              "      <td>tenure</td>\n",
              "      <td>0.115646</td>\n",
              "    </tr>\n",
              "    <tr>\n",
              "      <th>2</th>\n",
              "      <td>OnlineSecurity_No</td>\n",
              "      <td>0.090369</td>\n",
              "    </tr>\n",
              "    <tr>\n",
              "      <th>3</th>\n",
              "      <td>Contract_Two year</td>\n",
              "      <td>0.085452</td>\n",
              "    </tr>\n",
              "    <tr>\n",
              "      <th>4</th>\n",
              "      <td>TechSupport_No</td>\n",
              "      <td>0.079232</td>\n",
              "    </tr>\n",
              "    <tr>\n",
              "      <th>5</th>\n",
              "      <td>InternetService_Fiber optic</td>\n",
              "      <td>0.065610</td>\n",
              "    </tr>\n",
              "    <tr>\n",
              "      <th>6</th>\n",
              "      <td>TotalCharges</td>\n",
              "      <td>0.050971</td>\n",
              "    </tr>\n",
              "    <tr>\n",
              "      <th>7</th>\n",
              "      <td>PaymentMethod_Electronic check</td>\n",
              "      <td>0.038694</td>\n",
              "    </tr>\n",
              "    <tr>\n",
              "      <th>8</th>\n",
              "      <td>MonthlyCharges</td>\n",
              "      <td>0.028880</td>\n",
              "    </tr>\n",
              "    <tr>\n",
              "      <th>9</th>\n",
              "      <td>OnlineBackup_No</td>\n",
              "      <td>0.028117</td>\n",
              "    </tr>\n",
              "    <tr>\n",
              "      <th>10</th>\n",
              "      <td>Contract_One year</td>\n",
              "      <td>0.022425</td>\n",
              "    </tr>\n",
              "    <tr>\n",
              "      <th>11</th>\n",
              "      <td>InternetService_DSL</td>\n",
              "      <td>0.020209</td>\n",
              "    </tr>\n",
              "    <tr>\n",
              "      <th>12</th>\n",
              "      <td>StreamingMovies_No internet service</td>\n",
              "      <td>0.015971</td>\n",
              "    </tr>\n",
              "    <tr>\n",
              "      <th>13</th>\n",
              "      <td>InternetService_No</td>\n",
              "      <td>0.015498</td>\n",
              "    </tr>\n",
              "    <tr>\n",
              "      <th>14</th>\n",
              "      <td>TechSupport_No internet service</td>\n",
              "      <td>0.015287</td>\n",
              "    </tr>\n",
              "    <tr>\n",
              "      <th>15</th>\n",
              "      <td>OnlineSecurity_No internet service</td>\n",
              "      <td>0.015190</td>\n",
              "    </tr>\n",
              "    <tr>\n",
              "      <th>16</th>\n",
              "      <td>OnlineBackup_No internet service</td>\n",
              "      <td>0.013967</td>\n",
              "    </tr>\n",
              "    <tr>\n",
              "      <th>17</th>\n",
              "      <td>TechSupport_Yes</td>\n",
              "      <td>0.013832</td>\n",
              "    </tr>\n",
              "    <tr>\n",
              "      <th>18</th>\n",
              "      <td>StreamingTV_No internet service</td>\n",
              "      <td>0.013561</td>\n",
              "    </tr>\n",
              "    <tr>\n",
              "      <th>19</th>\n",
              "      <td>OnlineSecurity_Yes</td>\n",
              "      <td>0.013374</td>\n",
              "    </tr>\n",
              "    <tr>\n",
              "      <th>20</th>\n",
              "      <td>DeviceProtection_No internet service</td>\n",
              "      <td>0.013279</td>\n",
              "    </tr>\n",
              "    <tr>\n",
              "      <th>21</th>\n",
              "      <td>DeviceProtection_No</td>\n",
              "      <td>0.008898</td>\n",
              "    </tr>\n",
              "    <tr>\n",
              "      <th>22</th>\n",
              "      <td>PaperlessBilling_Yes</td>\n",
              "      <td>0.005317</td>\n",
              "    </tr>\n",
              "    <tr>\n",
              "      <th>23</th>\n",
              "      <td>PaperlessBilling_No</td>\n",
              "      <td>0.004974</td>\n",
              "    </tr>\n",
              "    <tr>\n",
              "      <th>24</th>\n",
              "      <td>OnlineBackup_Yes</td>\n",
              "      <td>0.004505</td>\n",
              "    </tr>\n",
              "    <tr>\n",
              "      <th>25</th>\n",
              "      <td>SeniorCitizen_No</td>\n",
              "      <td>0.002706</td>\n",
              "    </tr>\n",
              "    <tr>\n",
              "      <th>26</th>\n",
              "      <td>SeniorCitizen_Yes</td>\n",
              "      <td>0.002435</td>\n",
              "    </tr>\n",
              "    <tr>\n",
              "      <th>27</th>\n",
              "      <td>Dependents_Yes</td>\n",
              "      <td>0.002405</td>\n",
              "    </tr>\n",
              "    <tr>\n",
              "      <th>28</th>\n",
              "      <td>StreamingMovies_Yes</td>\n",
              "      <td>0.002114</td>\n",
              "    </tr>\n",
              "    <tr>\n",
              "      <th>29</th>\n",
              "      <td>StreamingTV_Yes</td>\n",
              "      <td>0.002042</td>\n",
              "    </tr>\n",
              "    <tr>\n",
              "      <th>30</th>\n",
              "      <td>PaymentMethod_Credit card (automatic)</td>\n",
              "      <td>0.001987</td>\n",
              "    </tr>\n",
              "    <tr>\n",
              "      <th>31</th>\n",
              "      <td>Dependents_No</td>\n",
              "      <td>0.001928</td>\n",
              "    </tr>\n",
              "    <tr>\n",
              "      <th>32</th>\n",
              "      <td>Partner_Yes</td>\n",
              "      <td>0.001920</td>\n",
              "    </tr>\n",
              "    <tr>\n",
              "      <th>33</th>\n",
              "      <td>Partner_No</td>\n",
              "      <td>0.001762</td>\n",
              "    </tr>\n",
              "    <tr>\n",
              "      <th>34</th>\n",
              "      <td>DeviceProtection_Yes</td>\n",
              "      <td>0.001474</td>\n",
              "    </tr>\n",
              "    <tr>\n",
              "      <th>35</th>\n",
              "      <td>StreamingMovies_No</td>\n",
              "      <td>0.001397</td>\n",
              "    </tr>\n",
              "    <tr>\n",
              "      <th>36</th>\n",
              "      <td>PaymentMethod_Mailed check</td>\n",
              "      <td>0.001349</td>\n",
              "    </tr>\n",
              "    <tr>\n",
              "      <th>37</th>\n",
              "      <td>StreamingTV_No</td>\n",
              "      <td>0.001330</td>\n",
              "    </tr>\n",
              "    <tr>\n",
              "      <th>38</th>\n",
              "      <td>MultipleLines_Yes</td>\n",
              "      <td>0.000966</td>\n",
              "    </tr>\n",
              "    <tr>\n",
              "      <th>39</th>\n",
              "      <td>PaymentMethod_Bank transfer (automatic)</td>\n",
              "      <td>0.000772</td>\n",
              "    </tr>\n",
              "    <tr>\n",
              "      <th>40</th>\n",
              "      <td>MultipleLines_No</td>\n",
              "      <td>0.000473</td>\n",
              "    </tr>\n",
              "    <tr>\n",
              "      <th>41</th>\n",
              "      <td>PhoneService_Yes</td>\n",
              "      <td>0.000350</td>\n",
              "    </tr>\n",
              "    <tr>\n",
              "      <th>42</th>\n",
              "      <td>gender_Male</td>\n",
              "      <td>0.000281</td>\n",
              "    </tr>\n",
              "    <tr>\n",
              "      <th>43</th>\n",
              "      <td>MultipleLines_No phone service</td>\n",
              "      <td>0.000249</td>\n",
              "    </tr>\n",
              "    <tr>\n",
              "      <th>44</th>\n",
              "      <td>PhoneService_No</td>\n",
              "      <td>0.000238</td>\n",
              "    </tr>\n",
              "    <tr>\n",
              "      <th>45</th>\n",
              "      <td>gender_Female</td>\n",
              "      <td>0.000212</td>\n",
              "    </tr>\n",
              "  </tbody>\n",
              "</table>\n",
              "</div>\n",
              "      <button class=\"colab-df-convert\" onclick=\"convertToInteractive('df-03e5f92c-4147-45d2-8c3e-939d1db3a6fd')\"\n",
              "              title=\"Convert this dataframe to an interactive table.\"\n",
              "              style=\"display:none;\">\n",
              "        \n",
              "  <svg xmlns=\"http://www.w3.org/2000/svg\" height=\"24px\"viewBox=\"0 0 24 24\"\n",
              "       width=\"24px\">\n",
              "    <path d=\"M0 0h24v24H0V0z\" fill=\"none\"/>\n",
              "    <path d=\"M18.56 5.44l.94 2.06.94-2.06 2.06-.94-2.06-.94-.94-2.06-.94 2.06-2.06.94zm-11 1L8.5 8.5l.94-2.06 2.06-.94-2.06-.94L8.5 2.5l-.94 2.06-2.06.94zm10 10l.94 2.06.94-2.06 2.06-.94-2.06-.94-.94-2.06-.94 2.06-2.06.94z\"/><path d=\"M17.41 7.96l-1.37-1.37c-.4-.4-.92-.59-1.43-.59-.52 0-1.04.2-1.43.59L10.3 9.45l-7.72 7.72c-.78.78-.78 2.05 0 2.83L4 21.41c.39.39.9.59 1.41.59.51 0 1.02-.2 1.41-.59l7.78-7.78 2.81-2.81c.8-.78.8-2.07 0-2.86zM5.41 20L4 18.59l7.72-7.72 1.47 1.35L5.41 20z\"/>\n",
              "  </svg>\n",
              "      </button>\n",
              "      \n",
              "  <style>\n",
              "    .colab-df-container {\n",
              "      display:flex;\n",
              "      flex-wrap:wrap;\n",
              "      gap: 12px;\n",
              "    }\n",
              "\n",
              "    .colab-df-convert {\n",
              "      background-color: #E8F0FE;\n",
              "      border: none;\n",
              "      border-radius: 50%;\n",
              "      cursor: pointer;\n",
              "      display: none;\n",
              "      fill: #1967D2;\n",
              "      height: 32px;\n",
              "      padding: 0 0 0 0;\n",
              "      width: 32px;\n",
              "    }\n",
              "\n",
              "    .colab-df-convert:hover {\n",
              "      background-color: #E2EBFA;\n",
              "      box-shadow: 0px 1px 2px rgba(60, 64, 67, 0.3), 0px 1px 3px 1px rgba(60, 64, 67, 0.15);\n",
              "      fill: #174EA6;\n",
              "    }\n",
              "\n",
              "    [theme=dark] .colab-df-convert {\n",
              "      background-color: #3B4455;\n",
              "      fill: #D2E3FC;\n",
              "    }\n",
              "\n",
              "    [theme=dark] .colab-df-convert:hover {\n",
              "      background-color: #434B5C;\n",
              "      box-shadow: 0px 1px 3px 1px rgba(0, 0, 0, 0.15);\n",
              "      filter: drop-shadow(0px 1px 2px rgba(0, 0, 0, 0.3));\n",
              "      fill: #FFFFFF;\n",
              "    }\n",
              "  </style>\n",
              "\n",
              "      <script>\n",
              "        const buttonEl =\n",
              "          document.querySelector('#df-03e5f92c-4147-45d2-8c3e-939d1db3a6fd button.colab-df-convert');\n",
              "        buttonEl.style.display =\n",
              "          google.colab.kernel.accessAllowed ? 'block' : 'none';\n",
              "\n",
              "        async function convertToInteractive(key) {\n",
              "          const element = document.querySelector('#df-03e5f92c-4147-45d2-8c3e-939d1db3a6fd');\n",
              "          const dataTable =\n",
              "            await google.colab.kernel.invokeFunction('convertToInteractive',\n",
              "                                                     [key], {});\n",
              "          if (!dataTable) return;\n",
              "\n",
              "          const docLinkHtml = 'Like what you see? Visit the ' +\n",
              "            '<a target=\"_blank\" href=https://colab.research.google.com/notebooks/data_table.ipynb>data table notebook</a>'\n",
              "            + ' to learn more about interactive tables.';\n",
              "          element.innerHTML = '';\n",
              "          dataTable['output_type'] = 'display_data';\n",
              "          await google.colab.output.renderOutput(dataTable, element);\n",
              "          const docLink = document.createElement('div');\n",
              "          docLink.innerHTML = docLinkHtml;\n",
              "          element.appendChild(docLink);\n",
              "        }\n",
              "      </script>\n",
              "    </div>\n",
              "  </div>\n",
              "  "
            ]
          },
          "metadata": {},
          "execution_count": 83
        }
      ]
    },
    {
      "cell_type": "code",
      "source": [
        "# Criando uma soma acumulada das importâncias:\n",
        "\n",
        "df_imp['importance_cumsum'] = df_imp['feature_importance'].cumsum()"
      ],
      "metadata": {
        "id": "wN9atHMTJyb6"
      },
      "execution_count": null,
      "outputs": []
    },
    {
      "cell_type": "code",
      "source": [
        "df_imp"
      ],
      "metadata": {
        "colab": {
          "base_uri": "https://localhost:8080/",
          "height": 1000
        },
        "id": "damrtK_DJyiA",
        "outputId": "25c2b519-a704-4c1d-c0c2-a504226d0fbc"
      },
      "execution_count": null,
      "outputs": [
        {
          "output_type": "execute_result",
          "data": {
            "text/plain": [
              "                              feature_names  feature_importance  \\\n",
              "0                   Contract_Month-to-month            0.192353   \n",
              "1                                    tenure            0.115646   \n",
              "2                         OnlineSecurity_No            0.090369   \n",
              "3                         Contract_Two year            0.085452   \n",
              "4                            TechSupport_No            0.079232   \n",
              "5               InternetService_Fiber optic            0.065610   \n",
              "6                              TotalCharges            0.050971   \n",
              "7            PaymentMethod_Electronic check            0.038694   \n",
              "8                            MonthlyCharges            0.028880   \n",
              "9                           OnlineBackup_No            0.028117   \n",
              "10                        Contract_One year            0.022425   \n",
              "11                      InternetService_DSL            0.020209   \n",
              "12      StreamingMovies_No internet service            0.015971   \n",
              "13                       InternetService_No            0.015498   \n",
              "14          TechSupport_No internet service            0.015287   \n",
              "15       OnlineSecurity_No internet service            0.015190   \n",
              "16         OnlineBackup_No internet service            0.013967   \n",
              "17                          TechSupport_Yes            0.013832   \n",
              "18          StreamingTV_No internet service            0.013561   \n",
              "19                       OnlineSecurity_Yes            0.013374   \n",
              "20     DeviceProtection_No internet service            0.013279   \n",
              "21                      DeviceProtection_No            0.008898   \n",
              "22                     PaperlessBilling_Yes            0.005317   \n",
              "23                      PaperlessBilling_No            0.004974   \n",
              "24                         OnlineBackup_Yes            0.004505   \n",
              "25                         SeniorCitizen_No            0.002706   \n",
              "26                        SeniorCitizen_Yes            0.002435   \n",
              "27                           Dependents_Yes            0.002405   \n",
              "28                      StreamingMovies_Yes            0.002114   \n",
              "29                          StreamingTV_Yes            0.002042   \n",
              "30    PaymentMethod_Credit card (automatic)            0.001987   \n",
              "31                            Dependents_No            0.001928   \n",
              "32                              Partner_Yes            0.001920   \n",
              "33                               Partner_No            0.001762   \n",
              "34                     DeviceProtection_Yes            0.001474   \n",
              "35                       StreamingMovies_No            0.001397   \n",
              "36               PaymentMethod_Mailed check            0.001349   \n",
              "37                           StreamingTV_No            0.001330   \n",
              "38                        MultipleLines_Yes            0.000966   \n",
              "39  PaymentMethod_Bank transfer (automatic)            0.000772   \n",
              "40                         MultipleLines_No            0.000473   \n",
              "41                         PhoneService_Yes            0.000350   \n",
              "42                              gender_Male            0.000281   \n",
              "43           MultipleLines_No phone service            0.000249   \n",
              "44                          PhoneService_No            0.000238   \n",
              "45                            gender_Female            0.000212   \n",
              "\n",
              "    importance_cumsum  \n",
              "0            0.192353  \n",
              "1            0.307998  \n",
              "2            0.398367  \n",
              "3            0.483819  \n",
              "4            0.563050  \n",
              "5            0.628660  \n",
              "6            0.679631  \n",
              "7            0.718325  \n",
              "8            0.747206  \n",
              "9            0.775323  \n",
              "10           0.797747  \n",
              "11           0.817956  \n",
              "12           0.833927  \n",
              "13           0.849425  \n",
              "14           0.864713  \n",
              "15           0.879902  \n",
              "16           0.893870  \n",
              "17           0.907701  \n",
              "18           0.921262  \n",
              "19           0.934636  \n",
              "20           0.947915  \n",
              "21           0.956813  \n",
              "22           0.962129  \n",
              "23           0.967104  \n",
              "24           0.971609  \n",
              "25           0.974315  \n",
              "26           0.976750  \n",
              "27           0.979155  \n",
              "28           0.981268  \n",
              "29           0.983311  \n",
              "30           0.985298  \n",
              "31           0.987226  \n",
              "32           0.989146  \n",
              "33           0.990908  \n",
              "34           0.992382  \n",
              "35           0.993779  \n",
              "36           0.995128  \n",
              "37           0.996459  \n",
              "38           0.997424  \n",
              "39           0.998197  \n",
              "40           0.998670  \n",
              "41           0.999020  \n",
              "42           0.999302  \n",
              "43           0.999550  \n",
              "44           0.999788  \n",
              "45           1.000000  "
            ],
            "text/html": [
              "\n",
              "  <div id=\"df-3e717448-d3c0-4a07-969e-bbe1c57c3261\">\n",
              "    <div class=\"colab-df-container\">\n",
              "      <div>\n",
              "<style scoped>\n",
              "    .dataframe tbody tr th:only-of-type {\n",
              "        vertical-align: middle;\n",
              "    }\n",
              "\n",
              "    .dataframe tbody tr th {\n",
              "        vertical-align: top;\n",
              "    }\n",
              "\n",
              "    .dataframe thead th {\n",
              "        text-align: right;\n",
              "    }\n",
              "</style>\n",
              "<table border=\"1\" class=\"dataframe\">\n",
              "  <thead>\n",
              "    <tr style=\"text-align: right;\">\n",
              "      <th></th>\n",
              "      <th>feature_names</th>\n",
              "      <th>feature_importance</th>\n",
              "      <th>importance_cumsum</th>\n",
              "    </tr>\n",
              "  </thead>\n",
              "  <tbody>\n",
              "    <tr>\n",
              "      <th>0</th>\n",
              "      <td>Contract_Month-to-month</td>\n",
              "      <td>0.192353</td>\n",
              "      <td>0.192353</td>\n",
              "    </tr>\n",
              "    <tr>\n",
              "      <th>1</th>\n",
              "      <td>tenure</td>\n",
              "      <td>0.115646</td>\n",
              "      <td>0.307998</td>\n",
              "    </tr>\n",
              "    <tr>\n",
              "      <th>2</th>\n",
              "      <td>OnlineSecurity_No</td>\n",
              "      <td>0.090369</td>\n",
              "      <td>0.398367</td>\n",
              "    </tr>\n",
              "    <tr>\n",
              "      <th>3</th>\n",
              "      <td>Contract_Two year</td>\n",
              "      <td>0.085452</td>\n",
              "      <td>0.483819</td>\n",
              "    </tr>\n",
              "    <tr>\n",
              "      <th>4</th>\n",
              "      <td>TechSupport_No</td>\n",
              "      <td>0.079232</td>\n",
              "      <td>0.563050</td>\n",
              "    </tr>\n",
              "    <tr>\n",
              "      <th>5</th>\n",
              "      <td>InternetService_Fiber optic</td>\n",
              "      <td>0.065610</td>\n",
              "      <td>0.628660</td>\n",
              "    </tr>\n",
              "    <tr>\n",
              "      <th>6</th>\n",
              "      <td>TotalCharges</td>\n",
              "      <td>0.050971</td>\n",
              "      <td>0.679631</td>\n",
              "    </tr>\n",
              "    <tr>\n",
              "      <th>7</th>\n",
              "      <td>PaymentMethod_Electronic check</td>\n",
              "      <td>0.038694</td>\n",
              "      <td>0.718325</td>\n",
              "    </tr>\n",
              "    <tr>\n",
              "      <th>8</th>\n",
              "      <td>MonthlyCharges</td>\n",
              "      <td>0.028880</td>\n",
              "      <td>0.747206</td>\n",
              "    </tr>\n",
              "    <tr>\n",
              "      <th>9</th>\n",
              "      <td>OnlineBackup_No</td>\n",
              "      <td>0.028117</td>\n",
              "      <td>0.775323</td>\n",
              "    </tr>\n",
              "    <tr>\n",
              "      <th>10</th>\n",
              "      <td>Contract_One year</td>\n",
              "      <td>0.022425</td>\n",
              "      <td>0.797747</td>\n",
              "    </tr>\n",
              "    <tr>\n",
              "      <th>11</th>\n",
              "      <td>InternetService_DSL</td>\n",
              "      <td>0.020209</td>\n",
              "      <td>0.817956</td>\n",
              "    </tr>\n",
              "    <tr>\n",
              "      <th>12</th>\n",
              "      <td>StreamingMovies_No internet service</td>\n",
              "      <td>0.015971</td>\n",
              "      <td>0.833927</td>\n",
              "    </tr>\n",
              "    <tr>\n",
              "      <th>13</th>\n",
              "      <td>InternetService_No</td>\n",
              "      <td>0.015498</td>\n",
              "      <td>0.849425</td>\n",
              "    </tr>\n",
              "    <tr>\n",
              "      <th>14</th>\n",
              "      <td>TechSupport_No internet service</td>\n",
              "      <td>0.015287</td>\n",
              "      <td>0.864713</td>\n",
              "    </tr>\n",
              "    <tr>\n",
              "      <th>15</th>\n",
              "      <td>OnlineSecurity_No internet service</td>\n",
              "      <td>0.015190</td>\n",
              "      <td>0.879902</td>\n",
              "    </tr>\n",
              "    <tr>\n",
              "      <th>16</th>\n",
              "      <td>OnlineBackup_No internet service</td>\n",
              "      <td>0.013967</td>\n",
              "      <td>0.893870</td>\n",
              "    </tr>\n",
              "    <tr>\n",
              "      <th>17</th>\n",
              "      <td>TechSupport_Yes</td>\n",
              "      <td>0.013832</td>\n",
              "      <td>0.907701</td>\n",
              "    </tr>\n",
              "    <tr>\n",
              "      <th>18</th>\n",
              "      <td>StreamingTV_No internet service</td>\n",
              "      <td>0.013561</td>\n",
              "      <td>0.921262</td>\n",
              "    </tr>\n",
              "    <tr>\n",
              "      <th>19</th>\n",
              "      <td>OnlineSecurity_Yes</td>\n",
              "      <td>0.013374</td>\n",
              "      <td>0.934636</td>\n",
              "    </tr>\n",
              "    <tr>\n",
              "      <th>20</th>\n",
              "      <td>DeviceProtection_No internet service</td>\n",
              "      <td>0.013279</td>\n",
              "      <td>0.947915</td>\n",
              "    </tr>\n",
              "    <tr>\n",
              "      <th>21</th>\n",
              "      <td>DeviceProtection_No</td>\n",
              "      <td>0.008898</td>\n",
              "      <td>0.956813</td>\n",
              "    </tr>\n",
              "    <tr>\n",
              "      <th>22</th>\n",
              "      <td>PaperlessBilling_Yes</td>\n",
              "      <td>0.005317</td>\n",
              "      <td>0.962129</td>\n",
              "    </tr>\n",
              "    <tr>\n",
              "      <th>23</th>\n",
              "      <td>PaperlessBilling_No</td>\n",
              "      <td>0.004974</td>\n",
              "      <td>0.967104</td>\n",
              "    </tr>\n",
              "    <tr>\n",
              "      <th>24</th>\n",
              "      <td>OnlineBackup_Yes</td>\n",
              "      <td>0.004505</td>\n",
              "      <td>0.971609</td>\n",
              "    </tr>\n",
              "    <tr>\n",
              "      <th>25</th>\n",
              "      <td>SeniorCitizen_No</td>\n",
              "      <td>0.002706</td>\n",
              "      <td>0.974315</td>\n",
              "    </tr>\n",
              "    <tr>\n",
              "      <th>26</th>\n",
              "      <td>SeniorCitizen_Yes</td>\n",
              "      <td>0.002435</td>\n",
              "      <td>0.976750</td>\n",
              "    </tr>\n",
              "    <tr>\n",
              "      <th>27</th>\n",
              "      <td>Dependents_Yes</td>\n",
              "      <td>0.002405</td>\n",
              "      <td>0.979155</td>\n",
              "    </tr>\n",
              "    <tr>\n",
              "      <th>28</th>\n",
              "      <td>StreamingMovies_Yes</td>\n",
              "      <td>0.002114</td>\n",
              "      <td>0.981268</td>\n",
              "    </tr>\n",
              "    <tr>\n",
              "      <th>29</th>\n",
              "      <td>StreamingTV_Yes</td>\n",
              "      <td>0.002042</td>\n",
              "      <td>0.983311</td>\n",
              "    </tr>\n",
              "    <tr>\n",
              "      <th>30</th>\n",
              "      <td>PaymentMethod_Credit card (automatic)</td>\n",
              "      <td>0.001987</td>\n",
              "      <td>0.985298</td>\n",
              "    </tr>\n",
              "    <tr>\n",
              "      <th>31</th>\n",
              "      <td>Dependents_No</td>\n",
              "      <td>0.001928</td>\n",
              "      <td>0.987226</td>\n",
              "    </tr>\n",
              "    <tr>\n",
              "      <th>32</th>\n",
              "      <td>Partner_Yes</td>\n",
              "      <td>0.001920</td>\n",
              "      <td>0.989146</td>\n",
              "    </tr>\n",
              "    <tr>\n",
              "      <th>33</th>\n",
              "      <td>Partner_No</td>\n",
              "      <td>0.001762</td>\n",
              "      <td>0.990908</td>\n",
              "    </tr>\n",
              "    <tr>\n",
              "      <th>34</th>\n",
              "      <td>DeviceProtection_Yes</td>\n",
              "      <td>0.001474</td>\n",
              "      <td>0.992382</td>\n",
              "    </tr>\n",
              "    <tr>\n",
              "      <th>35</th>\n",
              "      <td>StreamingMovies_No</td>\n",
              "      <td>0.001397</td>\n",
              "      <td>0.993779</td>\n",
              "    </tr>\n",
              "    <tr>\n",
              "      <th>36</th>\n",
              "      <td>PaymentMethod_Mailed check</td>\n",
              "      <td>0.001349</td>\n",
              "      <td>0.995128</td>\n",
              "    </tr>\n",
              "    <tr>\n",
              "      <th>37</th>\n",
              "      <td>StreamingTV_No</td>\n",
              "      <td>0.001330</td>\n",
              "      <td>0.996459</td>\n",
              "    </tr>\n",
              "    <tr>\n",
              "      <th>38</th>\n",
              "      <td>MultipleLines_Yes</td>\n",
              "      <td>0.000966</td>\n",
              "      <td>0.997424</td>\n",
              "    </tr>\n",
              "    <tr>\n",
              "      <th>39</th>\n",
              "      <td>PaymentMethod_Bank transfer (automatic)</td>\n",
              "      <td>0.000772</td>\n",
              "      <td>0.998197</td>\n",
              "    </tr>\n",
              "    <tr>\n",
              "      <th>40</th>\n",
              "      <td>MultipleLines_No</td>\n",
              "      <td>0.000473</td>\n",
              "      <td>0.998670</td>\n",
              "    </tr>\n",
              "    <tr>\n",
              "      <th>41</th>\n",
              "      <td>PhoneService_Yes</td>\n",
              "      <td>0.000350</td>\n",
              "      <td>0.999020</td>\n",
              "    </tr>\n",
              "    <tr>\n",
              "      <th>42</th>\n",
              "      <td>gender_Male</td>\n",
              "      <td>0.000281</td>\n",
              "      <td>0.999302</td>\n",
              "    </tr>\n",
              "    <tr>\n",
              "      <th>43</th>\n",
              "      <td>MultipleLines_No phone service</td>\n",
              "      <td>0.000249</td>\n",
              "      <td>0.999550</td>\n",
              "    </tr>\n",
              "    <tr>\n",
              "      <th>44</th>\n",
              "      <td>PhoneService_No</td>\n",
              "      <td>0.000238</td>\n",
              "      <td>0.999788</td>\n",
              "    </tr>\n",
              "    <tr>\n",
              "      <th>45</th>\n",
              "      <td>gender_Female</td>\n",
              "      <td>0.000212</td>\n",
              "      <td>1.000000</td>\n",
              "    </tr>\n",
              "  </tbody>\n",
              "</table>\n",
              "</div>\n",
              "      <button class=\"colab-df-convert\" onclick=\"convertToInteractive('df-3e717448-d3c0-4a07-969e-bbe1c57c3261')\"\n",
              "              title=\"Convert this dataframe to an interactive table.\"\n",
              "              style=\"display:none;\">\n",
              "        \n",
              "  <svg xmlns=\"http://www.w3.org/2000/svg\" height=\"24px\"viewBox=\"0 0 24 24\"\n",
              "       width=\"24px\">\n",
              "    <path d=\"M0 0h24v24H0V0z\" fill=\"none\"/>\n",
              "    <path d=\"M18.56 5.44l.94 2.06.94-2.06 2.06-.94-2.06-.94-.94-2.06-.94 2.06-2.06.94zm-11 1L8.5 8.5l.94-2.06 2.06-.94-2.06-.94L8.5 2.5l-.94 2.06-2.06.94zm10 10l.94 2.06.94-2.06 2.06-.94-2.06-.94-.94-2.06-.94 2.06-2.06.94z\"/><path d=\"M17.41 7.96l-1.37-1.37c-.4-.4-.92-.59-1.43-.59-.52 0-1.04.2-1.43.59L10.3 9.45l-7.72 7.72c-.78.78-.78 2.05 0 2.83L4 21.41c.39.39.9.59 1.41.59.51 0 1.02-.2 1.41-.59l7.78-7.78 2.81-2.81c.8-.78.8-2.07 0-2.86zM5.41 20L4 18.59l7.72-7.72 1.47 1.35L5.41 20z\"/>\n",
              "  </svg>\n",
              "      </button>\n",
              "      \n",
              "  <style>\n",
              "    .colab-df-container {\n",
              "      display:flex;\n",
              "      flex-wrap:wrap;\n",
              "      gap: 12px;\n",
              "    }\n",
              "\n",
              "    .colab-df-convert {\n",
              "      background-color: #E8F0FE;\n",
              "      border: none;\n",
              "      border-radius: 50%;\n",
              "      cursor: pointer;\n",
              "      display: none;\n",
              "      fill: #1967D2;\n",
              "      height: 32px;\n",
              "      padding: 0 0 0 0;\n",
              "      width: 32px;\n",
              "    }\n",
              "\n",
              "    .colab-df-convert:hover {\n",
              "      background-color: #E2EBFA;\n",
              "      box-shadow: 0px 1px 2px rgba(60, 64, 67, 0.3), 0px 1px 3px 1px rgba(60, 64, 67, 0.15);\n",
              "      fill: #174EA6;\n",
              "    }\n",
              "\n",
              "    [theme=dark] .colab-df-convert {\n",
              "      background-color: #3B4455;\n",
              "      fill: #D2E3FC;\n",
              "    }\n",
              "\n",
              "    [theme=dark] .colab-df-convert:hover {\n",
              "      background-color: #434B5C;\n",
              "      box-shadow: 0px 1px 3px 1px rgba(0, 0, 0, 0.15);\n",
              "      filter: drop-shadow(0px 1px 2px rgba(0, 0, 0, 0.3));\n",
              "      fill: #FFFFFF;\n",
              "    }\n",
              "  </style>\n",
              "\n",
              "      <script>\n",
              "        const buttonEl =\n",
              "          document.querySelector('#df-3e717448-d3c0-4a07-969e-bbe1c57c3261 button.colab-df-convert');\n",
              "        buttonEl.style.display =\n",
              "          google.colab.kernel.accessAllowed ? 'block' : 'none';\n",
              "\n",
              "        async function convertToInteractive(key) {\n",
              "          const element = document.querySelector('#df-3e717448-d3c0-4a07-969e-bbe1c57c3261');\n",
              "          const dataTable =\n",
              "            await google.colab.kernel.invokeFunction('convertToInteractive',\n",
              "                                                     [key], {});\n",
              "          if (!dataTable) return;\n",
              "\n",
              "          const docLinkHtml = 'Like what you see? Visit the ' +\n",
              "            '<a target=\"_blank\" href=https://colab.research.google.com/notebooks/data_table.ipynb>data table notebook</a>'\n",
              "            + ' to learn more about interactive tables.';\n",
              "          element.innerHTML = '';\n",
              "          dataTable['output_type'] = 'display_data';\n",
              "          await google.colab.output.renderOutput(dataTable, element);\n",
              "          const docLink = document.createElement('div');\n",
              "          docLink.innerHTML = docLinkHtml;\n",
              "          element.appendChild(docLink);\n",
              "        }\n",
              "      </script>\n",
              "    </div>\n",
              "  </div>\n",
              "  "
            ]
          },
          "metadata": {},
          "execution_count": 85
        }
      ]
    },
    {
      "cell_type": "markdown",
      "source": [
        "Observamos que 80% da feature_importance está concentrada em um conjunto pequeno de variáveis."
      ],
      "metadata": {
        "id": "j7JH7fCmKJbH"
      }
    },
    {
      "cell_type": "code",
      "source": [
        "# Selecionando somente as features que concentram aproximadamente 80% da importância\n",
        "\n",
        "selected_features = df_imp[~(df_imp['importance_cumsum'] > 0.8)]['feature_names']\n",
        "selected_features"
      ],
      "metadata": {
        "colab": {
          "base_uri": "https://localhost:8080/"
        },
        "id": "qXyau8T4mnC6",
        "outputId": "bfde4330-a845-4f6b-ea1d-3ecf9acbed18"
      },
      "execution_count": null,
      "outputs": [
        {
          "output_type": "execute_result",
          "data": {
            "text/plain": [
              "0            Contract_Month-to-month\n",
              "1                             tenure\n",
              "2                  OnlineSecurity_No\n",
              "3                  Contract_Two year\n",
              "4                     TechSupport_No\n",
              "5        InternetService_Fiber optic\n",
              "6                       TotalCharges\n",
              "7     PaymentMethod_Electronic check\n",
              "8                     MonthlyCharges\n",
              "9                    OnlineBackup_No\n",
              "10                 Contract_One year\n",
              "Name: feature_names, dtype: object"
            ]
          },
          "metadata": {},
          "execution_count": 89
        }
      ]
    },
    {
      "cell_type": "code",
      "source": [
        "# Instancia e treina o classificador Random Forest com os hiperparâmetros abaixo e com as features selecionadas\n",
        "\n",
        "\n",
        "# Nota:\n",
        "\n",
        "  # Observe que estamos usando o vetor \"selected_features\" na função .fit()\n",
        "\n",
        "  # Observe que vamos usar os mesmos hiperparâmetros do modelo 5\n",
        "\n",
        "\n",
        "model6 = RandomForestClassifier(**study.best_params).fit(X_train[selected_features], y_train)"
      ],
      "metadata": {
        "id": "cLZyYND5mnGN"
      },
      "execution_count": null,
      "outputs": []
    },
    {
      "cell_type": "code",
      "source": [
        "# Métricas de treino:\n",
        "print_metrics(model6, X_train[selected_features], y_train)"
      ],
      "metadata": {
        "colab": {
          "base_uri": "https://localhost:8080/"
        },
        "id": "OcbiJHdRovDu",
        "outputId": "b5083fd7-9e7a-463f-b22c-6760c6689e2c"
      },
      "execution_count": null,
      "outputs": [
        {
          "output_type": "stream",
          "name": "stdout",
          "text": [
            "Acurácia: 0.76\n",
            "Sensibilidade (recall): 0.80\n",
            "Especificidade: 0.74\n",
            "Precisão: 0.52\n",
            "AUC: 0.85\n"
          ]
        }
      ]
    },
    {
      "cell_type": "code",
      "source": [
        "# Métricas de teste:\n",
        "print_metrics(model6, X_test[selected_features], y_test)"
      ],
      "metadata": {
        "colab": {
          "base_uri": "https://localhost:8080/"
        },
        "id": "Jo1NaVhFovNs",
        "outputId": "973a7293-4711-416d-d255-28b1e522892c"
      },
      "execution_count": null,
      "outputs": [
        {
          "output_type": "stream",
          "name": "stdout",
          "text": [
            "Acurácia: 0.73\n",
            "Sensibilidade (recall): 0.75\n",
            "Especificidade: 0.72\n",
            "Precisão: 0.51\n",
            "AUC: 0.84\n"
          ]
        }
      ]
    },
    {
      "cell_type": "code",
      "source": [
        "# Plotando a importância das features\n",
        "\n",
        "df_imp = plot_importances(model6, X_train[selected_features])"
      ],
      "metadata": {
        "colab": {
          "base_uri": "https://localhost:8080/",
          "height": 655
        },
        "id": "g8spvDZHovU5",
        "outputId": "b8ce45d4-0d43-4ee8-ed56-660c90c3c36c"
      },
      "execution_count": null,
      "outputs": [
        {
          "output_type": "display_data",
          "data": {
            "text/plain": [
              "<Figure size 864x576 with 1 Axes>"
            ],
            "image/png": "[encoded data removed]"
          },
          "metadata": {
            "needs_background": "light"
          }
        }
      ]
    },
    {
      "cell_type": "code",
      "source": [
        "df_imp"
      ],
      "metadata": {
        "colab": {
          "base_uri": "https://localhost:8080/",
          "height": 394
        },
        "id": "1JRFBhO4pbOw",
        "outputId": "5feb85f7-d6bf-4a18-f871-3c8c0eec2158"
      },
      "execution_count": null,
      "outputs": [
        {
          "output_type": "execute_result",
          "data": {
            "text/plain": [
              "                     feature_names  feature_importance\n",
              "0          Contract_Month-to-month            0.283826\n",
              "1                OnlineSecurity_No            0.127658\n",
              "2                           tenure            0.116199\n",
              "3                   TechSupport_No            0.112649\n",
              "4      InternetService_Fiber optic            0.089689\n",
              "5                Contract_Two year            0.087545\n",
              "6                   MonthlyCharges            0.053381\n",
              "7                     TotalCharges            0.048599\n",
              "8                Contract_One year            0.032055\n",
              "9   PaymentMethod_Electronic check            0.027975\n",
              "10                 OnlineBackup_No            0.020423"
            ],
            "text/html": [
              "\n",
              "  <div id=\"df-e99e5530-0375-41ce-a0bd-a978c9a656ba\">\n",
              "    <div class=\"colab-df-container\">\n",
              "      <div>\n",
              "<style scoped>\n",
              "    .dataframe tbody tr th:only-of-type {\n",
              "        vertical-align: middle;\n",
              "    }\n",
              "\n",
              "    .dataframe tbody tr th {\n",
              "        vertical-align: top;\n",
              "    }\n",
              "\n",
              "    .dataframe thead th {\n",
              "        text-align: right;\n",
              "    }\n",
              "</style>\n",
              "<table border=\"1\" class=\"dataframe\">\n",
              "  <thead>\n",
              "    <tr style=\"text-align: right;\">\n",
              "      <th></th>\n",
              "      <th>feature_names</th>\n",
              "      <th>feature_importance</th>\n",
              "    </tr>\n",
              "  </thead>\n",
              "  <tbody>\n",
              "    <tr>\n",
              "      <th>0</th>\n",
              "      <td>Contract_Month-to-month</td>\n",
              "      <td>0.283826</td>\n",
              "    </tr>\n",
              "    <tr>\n",
              "      <th>1</th>\n",
              "      <td>OnlineSecurity_No</td>\n",
              "      <td>0.127658</td>\n",
              "    </tr>\n",
              "    <tr>\n",
              "      <th>2</th>\n",
              "      <td>tenure</td>\n",
              "      <td>0.116199</td>\n",
              "    </tr>\n",
              "    <tr>\n",
              "      <th>3</th>\n",
              "      <td>TechSupport_No</td>\n",
              "      <td>0.112649</td>\n",
              "    </tr>\n",
              "    <tr>\n",
              "      <th>4</th>\n",
              "      <td>InternetService_Fiber optic</td>\n",
              "      <td>0.089689</td>\n",
              "    </tr>\n",
              "    <tr>\n",
              "      <th>5</th>\n",
              "      <td>Contract_Two year</td>\n",
              "      <td>0.087545</td>\n",
              "    </tr>\n",
              "    <tr>\n",
              "      <th>6</th>\n",
              "      <td>MonthlyCharges</td>\n",
              "      <td>0.053381</td>\n",
              "    </tr>\n",
              "    <tr>\n",
              "      <th>7</th>\n",
              "      <td>TotalCharges</td>\n",
              "      <td>0.048599</td>\n",
              "    </tr>\n",
              "    <tr>\n",
              "      <th>8</th>\n",
              "      <td>Contract_One year</td>\n",
              "      <td>0.032055</td>\n",
              "    </tr>\n",
              "    <tr>\n",
              "      <th>9</th>\n",
              "      <td>PaymentMethod_Electronic check</td>\n",
              "      <td>0.027975</td>\n",
              "    </tr>\n",
              "    <tr>\n",
              "      <th>10</th>\n",
              "      <td>OnlineBackup_No</td>\n",
              "      <td>0.020423</td>\n",
              "    </tr>\n",
              "  </tbody>\n",
              "</table>\n",
              "</div>\n",
              "      <button class=\"colab-df-convert\" onclick=\"convertToInteractive('df-e99e5530-0375-41ce-a0bd-a978c9a656ba')\"\n",
              "              title=\"Convert this dataframe to an interactive table.\"\n",
              "              style=\"display:none;\">\n",
              "        \n",
              "  <svg xmlns=\"http://www.w3.org/2000/svg\" height=\"24px\"viewBox=\"0 0 24 24\"\n",
              "       width=\"24px\">\n",
              "    <path d=\"M0 0h24v24H0V0z\" fill=\"none\"/>\n",
              "    <path d=\"M18.56 5.44l.94 2.06.94-2.06 2.06-.94-2.06-.94-.94-2.06-.94 2.06-2.06.94zm-11 1L8.5 8.5l.94-2.06 2.06-.94-2.06-.94L8.5 2.5l-.94 2.06-2.06.94zm10 10l.94 2.06.94-2.06 2.06-.94-2.06-.94-.94-2.06-.94 2.06-2.06.94z\"/><path d=\"M17.41 7.96l-1.37-1.37c-.4-.4-.92-.59-1.43-.59-.52 0-1.04.2-1.43.59L10.3 9.45l-7.72 7.72c-.78.78-.78 2.05 0 2.83L4 21.41c.39.39.9.59 1.41.59.51 0 1.02-.2 1.41-.59l7.78-7.78 2.81-2.81c.8-.78.8-2.07 0-2.86zM5.41 20L4 18.59l7.72-7.72 1.47 1.35L5.41 20z\"/>\n",
              "  </svg>\n",
              "      </button>\n",
              "      \n",
              "  <style>\n",
              "    .colab-df-container {\n",
              "      display:flex;\n",
              "      flex-wrap:wrap;\n",
              "      gap: 12px;\n",
              "    }\n",
              "\n",
              "    .colab-df-convert {\n",
              "      background-color: #E8F0FE;\n",
              "      border: none;\n",
              "      border-radius: 50%;\n",
              "      cursor: pointer;\n",
              "      display: none;\n",
              "      fill: #1967D2;\n",
              "      height: 32px;\n",
              "      padding: 0 0 0 0;\n",
              "      width: 32px;\n",
              "    }\n",
              "\n",
              "    .colab-df-convert:hover {\n",
              "      background-color: #E2EBFA;\n",
              "      box-shadow: 0px 1px 2px rgba(60, 64, 67, 0.3), 0px 1px 3px 1px rgba(60, 64, 67, 0.15);\n",
              "      fill: #174EA6;\n",
              "    }\n",
              "\n",
              "    [theme=dark] .colab-df-convert {\n",
              "      background-color: #3B4455;\n",
              "      fill: #D2E3FC;\n",
              "    }\n",
              "\n",
              "    [theme=dark] .colab-df-convert:hover {\n",
              "      background-color: #434B5C;\n",
              "      box-shadow: 0px 1px 3px 1px rgba(0, 0, 0, 0.15);\n",
              "      filter: drop-shadow(0px 1px 2px rgba(0, 0, 0, 0.3));\n",
              "      fill: #FFFFFF;\n",
              "    }\n",
              "  </style>\n",
              "\n",
              "      <script>\n",
              "        const buttonEl =\n",
              "          document.querySelector('#df-e99e5530-0375-41ce-a0bd-a978c9a656ba button.colab-df-convert');\n",
              "        buttonEl.style.display =\n",
              "          google.colab.kernel.accessAllowed ? 'block' : 'none';\n",
              "\n",
              "        async function convertToInteractive(key) {\n",
              "          const element = document.querySelector('#df-e99e5530-0375-41ce-a0bd-a978c9a656ba');\n",
              "          const dataTable =\n",
              "            await google.colab.kernel.invokeFunction('convertToInteractive',\n",
              "                                                     [key], {});\n",
              "          if (!dataTable) return;\n",
              "\n",
              "          const docLinkHtml = 'Like what you see? Visit the ' +\n",
              "            '<a target=\"_blank\" href=https://colab.research.google.com/notebooks/data_table.ipynb>data table notebook</a>'\n",
              "            + ' to learn more about interactive tables.';\n",
              "          element.innerHTML = '';\n",
              "          dataTable['output_type'] = 'display_data';\n",
              "          await google.colab.output.renderOutput(dataTable, element);\n",
              "          const docLink = document.createElement('div');\n",
              "          docLink.innerHTML = docLinkHtml;\n",
              "          element.appendChild(docLink);\n",
              "        }\n",
              "      </script>\n",
              "    </div>\n",
              "  </div>\n",
              "  "
            ]
          },
          "metadata": {},
          "execution_count": 94
        }
      ]
    },
    {
      "cell_type": "markdown",
      "source": [
        "### Exercício 9\n",
        "\n",
        "Compare os resultados dos modelos 6 e 5, decida qual deles você entregaria para a área de negócio e justifique a sua resposta."
      ],
      "metadata": {
        "id": "3XyOw4LOLNPu"
      }
    },
    {
      "cell_type": "markdown",
      "source": [
        "**Resposta:**\n",
        "\n",
        "[Clique duas vezes aqui para editar a sua resposta]\n",
        "\n",
        "<br>"
      ],
      "metadata": {
        "id": "CruOm1v_r8Sx"
      }
    },
    {
      "cell_type": "markdown",
      "source": [
        "### Matriz de confusão"
      ],
      "metadata": {
        "id": "os370r2iLgV2"
      }
    },
    {
      "cell_type": "code",
      "source": [
        "from sklearn.metrics import confusion_matrix, ConfusionMatrixDisplay"
      ],
      "metadata": {
        "id": "OW0vsyOALesi"
      },
      "execution_count": null,
      "outputs": []
    },
    {
      "cell_type": "code",
      "source": [
        "# Função para plotar a matriz de confusão:\n",
        "\n",
        "def plot_conf_matrix(clf, X, y):\n",
        "  y_pred = clf.predict(X)\n",
        "\n",
        "  cm = confusion_matrix(y, y_pred, labels=clf.classes_)\n",
        "\n",
        "  ConfusionMatrixDisplay(confusion_matrix=cm, display_labels=clf.classes_).plot()"
      ],
      "metadata": {
        "id": "EqoROyP_MFzu"
      },
      "execution_count": null,
      "outputs": []
    },
    {
      "cell_type": "code",
      "source": [
        "# Matriz de confusão do modelo 6\n",
        "\n",
        "plot_conf_matrix(model6, X_test[selected_features], y_test)"
      ],
      "metadata": {
        "colab": {
          "base_uri": "https://localhost:8080/",
          "height": 497
        },
        "id": "DqvB4XFoMKol",
        "outputId": "4b9c9d67-8b08-4173-a4d7-ab4f0e8d71a7"
      },
      "execution_count": null,
      "outputs": [
        {
          "output_type": "display_data",
          "data": {
            "text/plain": [
              "<Figure size 864x576 with 2 Axes>"
            ],
            "image/png": "[encoded data removed]"
          },
          "metadata": {
            "needs_background": "light"
          }
        }
      ]
    },
    {
      "cell_type": "markdown",
      "source": [
        "### Curva ROC"
      ],
      "metadata": {
        "id": "7NpjMkgLMnjE"
      }
    },
    {
      "cell_type": "code",
      "source": [
        "from sklearn.metrics import RocCurveDisplay"
      ],
      "metadata": {
        "id": "DMeKNZHyMSLo"
      },
      "execution_count": null,
      "outputs": []
    },
    {
      "cell_type": "code",
      "source": [
        "# Curva ROC do modelo 6:\n",
        "\n",
        "RocCurveDisplay.from_estimator(model6, X_test[selected_features], y_test, response_method='predict_proba')"
      ],
      "metadata": {
        "colab": {
          "base_uri": "https://localhost:8080/",
          "height": 515
        },
        "id": "cajqCYTaMq_p",
        "outputId": "755f13f8-e56e-4541-ec43-4784d92a6cdf"
      },
      "execution_count": null,
      "outputs": [
        {
          "output_type": "execute_result",
          "data": {
            "text/plain": [
              "<sklearn.metrics._plot.roc_curve.RocCurveDisplay at 0x7f966ed52850>"
            ]
          },
          "metadata": {},
          "execution_count": 99
        },
        {
          "output_type": "display_data",
          "data": {
            "text/plain": [
              "<Figure size 864x576 with 1 Axes>"
            ],
            "image/png": "[encoded data removed]"
          },
          "metadata": {
            "needs_background": "light"
          }
        }
      ]
    }
  ]
}